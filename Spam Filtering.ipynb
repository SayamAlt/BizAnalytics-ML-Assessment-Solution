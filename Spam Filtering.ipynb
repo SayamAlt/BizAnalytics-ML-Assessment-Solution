{
 "cells": [
  {
   "cell_type": "markdown",
   "id": "55c7a975",
   "metadata": {},
   "source": [
    "## Importing the relevant libraries"
   ]
  },
  {
   "cell_type": "code",
   "execution_count": 1,
   "id": "29edbebb",
   "metadata": {},
   "outputs": [],
   "source": [
    "import os, tarfile, urllib, urlextract, email, nltk, re, warnings\n",
    "from email import policy\n",
    "import numpy as np\n",
    "from sklearn.model_selection import train_test_split, GridSearchCV\n",
    "from html import unescape\n",
    "from collections import Counter\n",
    "from sklearn.base import BaseEstimator, TransformerMixin\n",
    "from sklearn.linear_model import LogisticRegression\n",
    "from sklearn.ensemble import RandomForestClassifier, RandomForestRegressor\n",
    "from sklearn.tree import DecisionTreeClassifier\n",
    "from sklearn.svm import SVC\n",
    "from sklearn.neighbors import KNeighborsClassifier\n",
    "from sklearn.metrics import confusion_matrix, classification_report, accuracy_score, precision_score, recall_score, r2_score\n",
    "from scipy.sparse import csr_matrix\n",
    "from sklearn.pipeline import Pipeline\n",
    "from imblearn.under_sampling import NearMiss\n",
    "from xgboost import XGBClassifier\n",
    "from sklearn.naive_bayes import MultinomialNB\n",
    "warnings.filterwarnings('ignore')\n",
    "from sklearn.feature_selection import VarianceThreshold"
   ]
  },
  {
   "cell_type": "code",
   "execution_count": 2,
   "id": "2f9df780",
   "metadata": {
    "scrolled": true
   },
   "outputs": [
    {
     "name": "stdout",
     "output_type": "stream",
     "text": [
      "Requirement already satisfied: urlextract in c:\\users\\hp\\anaconda3\\lib\\site-packages (1.5.0)\n",
      "Requirement already satisfied: filelock in c:\\users\\hp\\anaconda3\\lib\\site-packages (from urlextract) (3.6.0)\n",
      "Requirement already satisfied: platformdirs in c:\\users\\hp\\anaconda3\\lib\\site-packages (from urlextract) (2.4.0)\n",
      "Requirement already satisfied: uritools in c:\\users\\hp\\anaconda3\\lib\\site-packages (from urlextract) (4.0.0)\n",
      "Requirement already satisfied: idna in c:\\users\\hp\\anaconda3\\lib\\site-packages (from urlextract) (3.3)\n",
      "Note: you may need to restart the kernel to use updated packages.\n"
     ]
    }
   ],
   "source": [
    "pip install urlextract"
   ]
  },
  {
   "cell_type": "code",
   "execution_count": 3,
   "id": "8ad37e15",
   "metadata": {},
   "outputs": [],
   "source": [
    "import urlextract"
   ]
  },
  {
   "cell_type": "markdown",
   "id": "249c1454",
   "metadata": {},
   "source": [
    "## Fetching the data"
   ]
  },
  {
   "cell_type": "code",
   "execution_count": 4,
   "id": "f12a44af",
   "metadata": {},
   "outputs": [],
   "source": [
    "DOWNLOAD_ROOT = \"http://spamassassin.apache.org/old/publiccorpus/\"\n",
    "HAM_URL = DOWNLOAD_ROOT + \"20030228_easy_ham.tar.bz2\"\n",
    "SPAM_URL = DOWNLOAD_ROOT + \"20030228_spam.tar.bz2\"\n",
    "SPAM_PATH = os.path.join(\"datasets\", \"spam\")\n",
    "\n",
    "def fetch_spam_data(spam_url=SPAM_URL, spam_path=SPAM_PATH):\n",
    "    if not os.path.isdir(spam_path):\n",
    "        os.makedirs(spam_path)\n",
    "    for filename, url in ((\"ham.tar.bz2\", HAM_URL), (\"spam.tar.bz2\", SPAM_URL)):\n",
    "        path = os.path.join(spam_path, filename)\n",
    "        if not os.path.isfile(path):\n",
    "            urllib.request.urlretrieve(url, path)\n",
    "        tar_bz2_file = tarfile.open(path)\n",
    "        tar_bz2_file.extractall(path=SPAM_PATH)\n",
    "        tar_bz2_file.close()\n",
    "\n",
    "fetch_spam_data()"
   ]
  },
  {
   "cell_type": "markdown",
   "id": "8b487778",
   "metadata": {},
   "source": [
    "## Loading a few emails"
   ]
  },
  {
   "cell_type": "code",
   "execution_count": 5,
   "id": "de773a12",
   "metadata": {},
   "outputs": [
    {
     "name": "stdout",
     "output_type": "stream",
     "text": [
      "2500\n",
      "500\n"
     ]
    }
   ],
   "source": [
    "HAM_DIR = os.path.join(SPAM_PATH, \"easy_ham\")\n",
    "SPAM_DIR = os.path.join(SPAM_PATH, \"spam\")\n",
    "ham_filenames = [name for name in sorted(os.listdir(HAM_DIR)) if len(name) > 20]\n",
    "spam_filenames = [name for name in sorted(os.listdir(SPAM_DIR)) if len(name) > 20]\n",
    "\n",
    "print(len(ham_filenames))\n",
    "\n",
    "print(len(spam_filenames))"
   ]
  },
  {
   "cell_type": "markdown",
   "id": "754eb4b3",
   "metadata": {},
   "source": [
    "## Using Python's email module to parse these emails for handling errors, encoding and so on."
   ]
  },
  {
   "cell_type": "code",
   "execution_count": 6,
   "id": "d1b7dc38",
   "metadata": {},
   "outputs": [],
   "source": [
    "def load_email(is_spam, filename, spam_path=SPAM_PATH):\n",
    "    directory = \"spam\" if is_spam else \"easy_ham\"\n",
    "    with open(os.path.join(spam_path, directory, filename), \"rb\") as f:\n",
    "        return email.parser.BytesParser(policy=email.policy.default).parse(f)\n",
    "\n",
    "ham_emails = [load_email(is_spam=False, filename=name) for name in ham_filenames]\n",
    "spam_emails = [load_email(is_spam=True, filename=name) for name in spam_filenames]"
   ]
  },
  {
   "cell_type": "markdown",
   "id": "23bbd59a",
   "metadata": {},
   "source": [
    "## Looking at one example of ham and one example of spam, to get a feel of what the data looks like:"
   ]
  },
  {
   "cell_type": "code",
   "execution_count": 7,
   "id": "eb8cf3eb",
   "metadata": {},
   "outputs": [
    {
     "name": "stdout",
     "output_type": "stream",
     "text": [
      "Martin A posted:\n",
      "Tassos Papadopoulos, the Greek sculptor behind the plan, judged that the\n",
      " limestone of Mount Kerdylio, 70 miles east of Salonika and not far from the\n",
      " Mount Athos monastic community, was ideal for the patriotic sculpture. \n",
      " \n",
      " As well as Alexander's granite features, 240 ft high and 170 ft wide, a\n",
      " museum, a restored amphitheatre and car park for admiring crowds are\n",
      "planned\n",
      "---------------------\n",
      "So is this mountain limestone or granite?\n",
      "If it's limestone, it'll weather pretty fast.\n",
      "\n",
      "------------------------ Yahoo! Groups Sponsor ---------------------~-->\n",
      "4 DVDs Free +s&p Join Now\n",
      "http://us.click.yahoo.com/pt6YBB/NXiEAA/mG3HAA/7gSolB/TM\n",
      "---------------------------------------------------------------------~->\n",
      "\n",
      "To unsubscribe from this group, send an email to:\n",
      "forteana-unsubscribe@egroups.com\n",
      "\n",
      " \n",
      "\n",
      "Your use of Yahoo! Groups is subject to http://docs.yahoo.com/info/terms/\n",
      "Help wanted.  We are a 14 year old fortune 500 company, that is\n",
      "growing at a tremendous rate.  We are looking for individuals who\n",
      "want to work from home.\n",
      "\n",
      "This is an opportunity to make an excellent income.  No experience\n",
      "is required.  We will train you.\n",
      "\n",
      "So if you are looking to be employed from home with a career that has\n",
      "vast opportunities, then go:\n",
      "\n",
      "http://www.basetel.com/wealthnow\n",
      "\n",
      "We are looking for energetic and self motivated people.  If that is you\n",
      "than click on the link and fill out the form, and one of our\n",
      "employement specialist will contact you.\n",
      "\n",
      "To be removed from our link simple go to:\n",
      "\n",
      "http://www.basetel.com/remove.html\n",
      "\n",
      "\n",
      "4139vOLW7-758DoDY1425FRhM1-764SMFc8513fCsLl40\n"
     ]
    }
   ],
   "source": [
    "print(ham_emails[1].get_content().strip())\n",
    "print(spam_emails[6].get_content().strip())"
   ]
  },
  {
   "cell_type": "markdown",
   "id": "09eb2d2c",
   "metadata": {},
   "source": [
    "## Since some emails are actually multipart consisting of emails and attachments(which in turn may have their own attachments), I'll be examining various types of structures that we have:"
   ]
  },
  {
   "cell_type": "code",
   "execution_count": 8,
   "id": "051f900e",
   "metadata": {},
   "outputs": [],
   "source": [
    "def get_email_structure(email):\n",
    "    if isinstance(email, str):\n",
    "        return email\n",
    "    payload = email.get_payload()\n",
    "    if isinstance(payload, list):\n",
    "        return \"multipart({})\".format(\", \".join([\n",
    "            get_email_structure(sub_email)\n",
    "            for sub_email in payload\n",
    "        ]))\n",
    "    else:\n",
    "        return email.get_content_type()"
   ]
  },
  {
   "cell_type": "code",
   "execution_count": 9,
   "id": "43250407",
   "metadata": {},
   "outputs": [],
   "source": [
    "def structures_counter(emails):\n",
    "    structures = Counter()\n",
    "    for email in emails:\n",
    "        structure = get_email_structure(email)\n",
    "        structures[structure] += 1\n",
    "    return structures"
   ]
  },
  {
   "cell_type": "code",
   "execution_count": 10,
   "id": "3bdaac10",
   "metadata": {},
   "outputs": [
    {
     "data": {
      "text/plain": [
       "[('text/plain', 2408),\n",
       " ('multipart(text/plain, application/pgp-signature)', 66),\n",
       " ('multipart(text/plain, text/html)', 8),\n",
       " ('multipart(text/plain, text/plain)', 4),\n",
       " ('multipart(text/plain)', 3),\n",
       " ('multipart(text/plain, application/octet-stream)', 2),\n",
       " ('multipart(text/plain, text/enriched)', 1),\n",
       " ('multipart(text/plain, application/ms-tnef, text/plain)', 1),\n",
       " ('multipart(multipart(text/plain, text/plain, text/plain), application/pgp-signature)',\n",
       "  1),\n",
       " ('multipart(text/plain, video/mng)', 1),\n",
       " ('multipart(text/plain, multipart(text/plain))', 1),\n",
       " ('multipart(text/plain, application/x-pkcs7-signature)', 1),\n",
       " ('multipart(text/plain, multipart(text/plain, text/plain), text/rfc822-headers)',\n",
       "  1),\n",
       " ('multipart(text/plain, multipart(text/plain, text/plain), multipart(multipart(text/plain, application/x-pkcs7-signature)))',\n",
       "  1),\n",
       " ('multipart(text/plain, application/x-java-applet)', 1)]"
      ]
     },
     "execution_count": 10,
     "metadata": {},
     "output_type": "execute_result"
    }
   ],
   "source": [
    "structures_counter(ham_emails).most_common()"
   ]
  },
  {
   "cell_type": "code",
   "execution_count": 11,
   "id": "357cda98",
   "metadata": {},
   "outputs": [
    {
     "data": {
      "text/plain": [
       "[('text/plain', 218),\n",
       " ('text/html', 183),\n",
       " ('multipart(text/plain, text/html)', 45),\n",
       " ('multipart(text/html)', 20),\n",
       " ('multipart(text/plain)', 19),\n",
       " ('multipart(multipart(text/html))', 5),\n",
       " ('multipart(text/plain, image/jpeg)', 3),\n",
       " ('multipart(text/html, application/octet-stream)', 2),\n",
       " ('multipart(text/plain, application/octet-stream)', 1),\n",
       " ('multipart(text/html, text/plain)', 1),\n",
       " ('multipart(multipart(text/html), application/octet-stream, image/jpeg)', 1),\n",
       " ('multipart(multipart(text/plain, text/html), image/gif)', 1),\n",
       " ('multipart/alternative', 1)]"
      ]
     },
     "execution_count": 11,
     "metadata": {},
     "output_type": "execute_result"
    }
   ],
   "source": [
    "structures_counter(spam_emails).most_common()"
   ]
  },
  {
   "cell_type": "markdown",
   "id": "dd495300",
   "metadata": {},
   "source": [
    "## Email Headers"
   ]
  },
  {
   "cell_type": "code",
   "execution_count": 12,
   "id": "92769cae",
   "metadata": {},
   "outputs": [
    {
     "name": "stdout",
     "output_type": "stream",
     "text": [
      "Return-Path : <12a1mailbot1@web.de>\n",
      "Delivered-To : zzzz@localhost.spamassassin.taint.org\n",
      "Received : from localhost (localhost [127.0.0.1])\tby phobos.labs.spamassassin.taint.org (Postfix) with ESMTP id 136B943C32\tfor <zzzz@localhost>; Thu, 22 Aug 2002 08:17:21 -0400 (EDT)\n",
      "Received : from mail.webnote.net [193.120.211.219]\tby localhost with POP3 (fetchmail-5.9.0)\tfor zzzz@localhost (single-drop); Thu, 22 Aug 2002 13:17:21 +0100 (IST)\n",
      "Received : from dd_it7 ([210.97.77.167])\tby webnote.net (8.9.3/8.9.3) with ESMTP id NAA04623\tfor <zzzz@spamassassin.taint.org>; Thu, 22 Aug 2002 13:09:41 +0100\n",
      "From : 12a1mailbot1@web.de\n",
      "Received : from r-smtp.korea.com - 203.122.2.197 by dd_it7  with Microsoft SMTPSVC(5.5.1775.675.6);\t Sat, 24 Aug 2002 09:42:10 +0900\n",
      "To : dcek1a1@netsgo.com\n",
      "Subject : Life Insurance - Why Pay More?\n",
      "Date : Wed, 21 Aug 2002 20:31:57 -1600\n",
      "MIME-Version : 1.0\n",
      "Message-ID : <0103c1042001882DD_IT7@dd_it7>\n",
      "Content-Type : text/html; charset=\"iso-8859-1\"\n",
      "Content-Transfer-Encoding : quoted-printable\n"
     ]
    }
   ],
   "source": [
    "for header, value in spam_emails[0].items():\n",
    "    print(header,\":\",value)"
   ]
  },
  {
   "cell_type": "markdown",
   "id": "fcdaece7",
   "metadata": {},
   "source": [
    "## Focusing mainly on the subject header"
   ]
  },
  {
   "cell_type": "code",
   "execution_count": 13,
   "id": "e4084b31",
   "metadata": {},
   "outputs": [
    {
     "data": {
      "text/plain": [
       "'Life Insurance - Why Pay More?'"
      ]
     },
     "execution_count": 13,
     "metadata": {},
     "output_type": "execute_result"
    }
   ],
   "source": [
    "spam_emails[0][\"Subject\"]"
   ]
  },
  {
   "cell_type": "markdown",
   "id": "d434ee7b",
   "metadata": {},
   "source": [
    "## Splitting emails data into training and testing sets"
   ]
  },
  {
   "cell_type": "code",
   "execution_count": 14,
   "id": "ee02b4b1",
   "metadata": {},
   "outputs": [],
   "source": [
    "X = np.array(ham_emails + spam_emails)\n",
    "y = np.array([0] * len(ham_emails) + [1] * len(spam_emails))\n",
    "X_train, X_test, y_train, y_test = train_test_split(X, y, test_size=0.35, random_state=45)"
   ]
  },
  {
   "cell_type": "code",
   "execution_count": 15,
   "id": "f3eba00e",
   "metadata": {},
   "outputs": [],
   "source": [
    "def html_to_plain_text(html):\n",
    "    text = re.sub('<head.*?>.*?</head>', '', html, flags=re.M | re.S | re.I)\n",
    "    text = re.sub('<a\\s.*?>', ' HYPERLINK ', text, flags=re.M | re.S | re.I)\n",
    "    text = re.sub('<.*?>', '', text, flags=re.M | re.S)\n",
    "    text = re.sub(r'(\\s*\\n)+', '\\n', text, flags=re.M | re.S)\n",
    "    return unescape(text)"
   ]
  },
  {
   "cell_type": "code",
   "execution_count": 16,
   "id": "906a6a7e",
   "metadata": {},
   "outputs": [
    {
     "name": "stdout",
     "output_type": "stream",
     "text": [
      "<html>\n",
      "<head>\n",
      "</head>\n",
      "<body>\n",
      "\n",
      "<center>\n",
      "<font face=\"times\" size=\"6\" color=\"#000000\">Save up to\n",
      "\n",
      "<font color=\"#ff0000\">75%</font> on your Term Life\n",
      "Insurance!</font>\n",
      "<br>  \n",
      "<font face=\"times\" size=\"4\" color=\"#000000\">\n",
      "<i>Compare rates from top insurance companies around\n",
      "the country</i></font>\n",
      "<br><br>\n",
      "<font face=\"arial\" size=\"4\" color=\"#7084D6\">\n",
      "<b>In our life and times, it's important to plan for\n",
      "your family's future, while \n",
      "<br>being comfortable financially.  Choose the right\n",
      "Life Insurance policy today.</font>\n",
      "<p>\n",
      "<font face=\"arial\" size=\"3\" color=\"#000000\">\n",
      "<i>Click the link below to compare the lowest rates\n",
      "and save up to <font\n",
      "color=\"#ff0000\">75%</font></i></b></font>  \n",
      "<p>\n",
      "<a\n",
      "href=\"http://insurancequotesource.com/user0202/termquotes/473400/\"><font\n",
      "face=\"arial\"\n",
      "size=\"4\">\n",
      "<b>COMPARE YOUR COVERAGE</b></font></a>\n",
      "<p>\n",
      "<font face=\"times\" size=\"5\" color=\"#000000\">\n",
      "You'll be able to compare rates and get a free\n",
      "application in <i>less than a minute!</i></font>\n",
      "<p>\n",
      "<font face=\"arial\" size=\" ...\n",
      "\n",
      "Save up to\n",
      "75% on your Term Life\n",
      "Insurance!\n",
      "Compare rates from top insurance companies around\n",
      "the country\n",
      "In our life and times, it's important to plan for\n",
      "your family's future, while\n",
      "being comfortable financially.  Choose the right\n",
      "Life Insurance policy today.\n",
      "Click the link below to compare the lowest rates\n",
      "and save up to 75%\n",
      " HYPERLINK\n",
      "COMPARE YOUR COVERAGE\n",
      "You'll be able to compare rates and get a free\n",
      "application in less than a minute!\n",
      "*Get your FREE instant quotes...\n",
      "*Compare the lowest prices, then...\n",
      "*Select a company and Apply Online.\n",
      " HYPERLINK\n",
      "GET A FREE QUOTE NOW!\n",
      "You can't predict the future, but you can always\n",
      "prepare for it.\n",
      " HYPERLINK to be\n",
      "excluded from future contacts\n",
      "graham_adlam\n",
      " ...\n"
     ]
    }
   ],
   "source": [
    "html_spam_emails = [email for email in X_train[y_train==1]\n",
    "                    if get_email_structure(email) == \"text/html\"]\n",
    "sample_html_spam = html_spam_emails[7]\n",
    "print(sample_html_spam.get_content().strip()[:1000], \"...\")\n",
    "\n",
    "print(html_to_plain_text(sample_html_spam.get_content())[:1000], \"...\")"
   ]
  },
  {
   "cell_type": "code",
   "execution_count": 17,
   "id": "97be3250",
   "metadata": {},
   "outputs": [],
   "source": [
    "def email_to_text(email):\n",
    "    html = None\n",
    "    for part in email.walk():\n",
    "        ctype = part.get_content_type()\n",
    "        if not ctype in (\"text/plain\", \"text/html\"):\n",
    "            continue\n",
    "        try:\n",
    "            content = part.get_content()\n",
    "        except: # in case of encoding issues\n",
    "            content = str(part.get_payload())\n",
    "        if ctype == \"text/plain\":\n",
    "            return content\n",
    "        else:\n",
    "            html = content\n",
    "    if html:\n",
    "        return html_to_plain_text(html)"
   ]
  },
  {
   "cell_type": "code",
   "execution_count": 18,
   "id": "847f18c4",
   "metadata": {},
   "outputs": [
    {
     "name": "stdout",
     "output_type": "stream",
     "text": [
      "\n",
      "Save up to\n",
      "75% on your Term Life\n",
      "Insurance!\n",
      "Compare rates from top insurance companies around\n",
      "the c ...\n"
     ]
    }
   ],
   "source": [
    "print(email_to_text(sample_html_spam)[:100], \"...\")"
   ]
  },
  {
   "cell_type": "code",
   "execution_count": 19,
   "id": "80eac8e8",
   "metadata": {},
   "outputs": [
    {
     "name": "stdout",
     "output_type": "stream",
     "text": [
      "Computations => comput\n",
      "Computation => comput\n",
      "Computing => comput\n",
      "Computed => comput\n",
      "Compute => comput\n",
      "Compulsive => compuls\n"
     ]
    }
   ],
   "source": [
    "try:\n",
    "    import nltk\n",
    "\n",
    "    stemmer = nltk.PorterStemmer()\n",
    "    for word in (\"Computations\", \"Computation\", \"Computing\", \"Computed\", \"Compute\", \"Compulsive\"):\n",
    "        print(word, \"=>\", stemmer.stem(word))\n",
    "except ImportError:\n",
    "    print(\"Error: stemming requires the NLTK module.\")\n",
    "    stemmer = None"
   ]
  },
  {
   "cell_type": "code",
   "execution_count": 20,
   "id": "4bb563f2",
   "metadata": {},
   "outputs": [
    {
     "name": "stdout",
     "output_type": "stream",
     "text": [
      "['github.com', 'https://youtu.be/7Pq-S557XQU?t=3m32s']\n"
     ]
    }
   ],
   "source": [
    "try:\n",
    "    import google.colab\n",
    "    !conda install -q -U urlextract\n",
    "except ImportError:\n",
    "    pass\n",
    "\n",
    "try:\n",
    "    url_extractor = urlextract.URLExtract()\n",
    "    print(url_extractor.find_urls(\"Will it detect github.com and https://youtu.be/7Pq-S557XQU?t=3m32s\"))\n",
    "except ImportError:\n",
    "    print(\"Error: replacing URLs requires the urlextract module.\")\n",
    "    url_extractor = None"
   ]
  },
  {
   "cell_type": "code",
   "execution_count": 21,
   "id": "2f13d20b",
   "metadata": {},
   "outputs": [],
   "source": [
    "class EmailToWordCounterTransformer(BaseEstimator, TransformerMixin):\n",
    "    def __init__(self, strip_headers=True, lower_case=True, remove_punctuation=True,\n",
    "                 replace_urls=True, replace_numbers=True, stemming=True):\n",
    "        self.strip_headers = strip_headers\n",
    "        self.lower_case = lower_case\n",
    "        self.remove_punctuation = remove_punctuation\n",
    "        self.replace_urls = replace_urls\n",
    "        self.replace_numbers = replace_numbers\n",
    "        self.stemming = stemming\n",
    "    def fit(self, X, y=None):\n",
    "        return self\n",
    "    def transform(self, X, y=None):\n",
    "        X_transformed = []\n",
    "        for email in X:\n",
    "            text = email_to_text(email) or \"\"\n",
    "            if self.lower_case:\n",
    "                text = text.lower()\n",
    "            if self.replace_urls and url_extractor is not None:\n",
    "                urls = list(set(url_extractor.find_urls(text)))\n",
    "                urls.sort(key=lambda url: len(url), reverse=True)\n",
    "                for url in urls:\n",
    "                    text = text.replace(url, \" URL \")\n",
    "            if self.replace_numbers:\n",
    "                text = re.sub(r'\\d+(?:\\.\\d*(?:[eE]\\d+))?', 'NUMBER', text)\n",
    "            if self.remove_punctuation:\n",
    "                text = re.sub(r'\\W+', ' ', text, flags=re.M)\n",
    "            word_counts = Counter(text.split())\n",
    "            if self.stemming and stemmer is not None:\n",
    "                stemmed_word_counts = Counter()\n",
    "                for word, count in word_counts.items():\n",
    "                    stemmed_word = stemmer.stem(word)\n",
    "                    stemmed_word_counts[stemmed_word] += count\n",
    "                word_counts = stemmed_word_counts\n",
    "            X_transformed.append(word_counts)\n",
    "        return np.array(X_transformed)"
   ]
  },
  {
   "cell_type": "code",
   "execution_count": 22,
   "id": "326c41d9",
   "metadata": {},
   "outputs": [
    {
     "data": {
      "text/plain": [
       "array([Counter({'number': 12, 'is': 3, 'on': 3, 'url': 2, 'msie': 2, 'os': 2, 'x': 2, 'i': 2, 'use': 2, 'build': 2, 'chimera': 2, 'with': 2, 'the': 2, 'are': 2, 'too': 2, 'and': 2, 'date': 1, 'numbertnumb': 1, 'rael': 1, 'plagu': 1, 'by': 1, 'instabl': 1, 'mac': 1, 'a': 1, 'recent': 1, 'nightli': 1, 'of': 1, 'as': 1, 'my': 1, 'default': 1, 'browser': 1, 'ha': 1, 'some': 1, 'issu': 1, 'plugin': 1, 'or': 1, 'quicktim': 1, 'anyway': 1, 'but': 1, 'work': 1, 'great': 1, 'fast': 1, 'mozilla': 1, 'ugli': 1, 'slow': 1, 'unstabl': 1, 'opera': 1, 'doesn': 1, 't': 1, 'render': 1, 'mani': 1, 'page': 1, 'omniweb': 1, 'icab': 1, 'not': 1, 'keep': 1, 'up': 1, 'rock': 1, 'have': 1, 'chimeraknight': 1, 'to': 1, 'do': 1, 'updat': 1, 'it': 1, 'also': 1, 'make': 1}),\n",
       "       Counter({'to': 2, 'exmh': 2, 'user': 2, 'what': 1, 's': 1, 'the': 1, 'trick': 1, 'again': 1, 'have': 1, 'it': 1, 'default': 1, 'show': 1, 'text': 1, 'plain': 1, 'instead': 1, 'of': 1, 'html': 1, 'harlan': 1, '_______________________________________________': 1, 'mail': 1, 'list': 1, 'redhat': 1, 'com': 1, 'url': 1}),\n",
       "       Counter({'spamassassin': 4, 'evolv': 3, 'url': 3, 'mass': 2, 'in': 2, 'remov': 2, 'cxx': 2, 'commit': 2, 'list': 2, 'updat': 1, 'of': 1, 'cvsroot': 1, 'directori': 1, 'usw': 1, 'pr': 1, 'cvsnumber': 1, 'tmp': 1, 'cv': 1, 'servnumb': 1, 'file': 1, 'tag': 1, 'bnumber_number_numb': 1, 'log': 1, 'messag': 1, 'old': 1, 'delet': 1, 'thi': 1, 'email': 1, 'is': 1, 'sponsor': 1, 'by': 1, 'jabber': 1, 'the': 1, 'world': 1, 's': 1, 'fastest': 1, 'grow': 1, 'real': 1, 'time': 1, 'commun': 1, 'platform': 1, 'don': 1, 't': 1, 'just': 1, 'im': 1, 'build': 1, 'it': 1, '_______________________________________________': 1, 'mail': 1, 'sourceforg': 1, 'net': 1})],\n",
       "      dtype=object)"
      ]
     },
     "execution_count": 22,
     "metadata": {},
     "output_type": "execute_result"
    }
   ],
   "source": [
    "X_few = X_train[:3]\n",
    "X_few_wordcounts = EmailToWordCounterTransformer().fit_transform(X_few)\n",
    "X_few_wordcounts"
   ]
  },
  {
   "cell_type": "code",
   "execution_count": 23,
   "id": "8331dd90",
   "metadata": {},
   "outputs": [],
   "source": [
    "class WordCounterToVectorTransformer(BaseEstimator, TransformerMixin):\n",
    "    def __init__(self, vocabulary_size=1000):\n",
    "        self.vocabulary_size = vocabulary_size\n",
    "    def fit(self, X, y=None):\n",
    "        total_count = Counter()\n",
    "        for word_count in X:\n",
    "            for word, count in word_count.items():\n",
    "                total_count[word] += min(count, 10)\n",
    "        most_common = total_count.most_common()[:self.vocabulary_size]\n",
    "        self.most_common_ = most_common\n",
    "        self.vocabulary_ = {word: index + 1 for index, (word, count) in enumerate(most_common)}\n",
    "        return self\n",
    "    def transform(self, X, y=None):\n",
    "        rows = []\n",
    "        cols = []\n",
    "        data = []\n",
    "        for row, word_count in enumerate(X):\n",
    "            for word, count in word_count.items():\n",
    "                rows.append(row)\n",
    "                cols.append(self.vocabulary_.get(word, 0))\n",
    "                data.append(count)\n",
    "        return csr_matrix((data, (rows, cols)), shape=(len(X), self.vocabulary_size + 1))"
   ]
  },
  {
   "cell_type": "code",
   "execution_count": 24,
   "id": "ae28b06a",
   "metadata": {},
   "outputs": [
    {
     "data": {
      "text/plain": [
       "<3x11 sparse matrix of type '<class 'numpy.intc'>'\n",
       "\twith 24 stored elements in Compressed Sparse Row format>"
      ]
     },
     "execution_count": 24,
     "metadata": {},
     "output_type": "execute_result"
    }
   ],
   "source": [
    "vocab_transformer = WordCounterToVectorTransformer(vocabulary_size=10)\n",
    "X_few_vectors = vocab_transformer.fit_transform(X_few_wordcounts)\n",
    "X_few_vectors"
   ]
  },
  {
   "cell_type": "code",
   "execution_count": 25,
   "id": "5daa0cde",
   "metadata": {},
   "outputs": [
    {
     "data": {
      "text/plain": [
       "array([[67, 12,  2,  3,  2,  0,  3,  2,  1,  1,  1],\n",
       "       [21,  0,  1,  0,  1,  0,  0,  0,  1,  2,  1],\n",
       "       [52,  0,  3,  1,  1,  4,  0,  1,  1,  0,  1]], dtype=int32)"
      ]
     },
     "execution_count": 25,
     "metadata": {},
     "output_type": "execute_result"
    }
   ],
   "source": [
    "X_few_vectors.toarray()"
   ]
  },
  {
   "cell_type": "code",
   "execution_count": 26,
   "id": "1a42d685",
   "metadata": {},
   "outputs": [
    {
     "data": {
      "text/plain": [
       "{'number': 1,\n",
       " 'url': 2,\n",
       " 'is': 3,\n",
       " 'the': 4,\n",
       " 'spamassassin': 5,\n",
       " 'on': 6,\n",
       " 'build': 7,\n",
       " 'of': 8,\n",
       " 'to': 9,\n",
       " 'it': 10}"
      ]
     },
     "execution_count": 26,
     "metadata": {},
     "output_type": "execute_result"
    }
   ],
   "source": [
    "vocab_transformer.vocabulary_"
   ]
  },
  {
   "cell_type": "markdown",
   "id": "f22035ee",
   "metadata": {},
   "source": [
    "## Running a pipeline for transforming an email to its corresponding vector.."
   ]
  },
  {
   "cell_type": "code",
   "execution_count": 27,
   "id": "3c1e687f",
   "metadata": {},
   "outputs": [],
   "source": [
    "pipeline = Pipeline([\n",
    "    (\"email_to_wordcount\", EmailToWordCounterTransformer()),\n",
    "    (\"wordcount_to_vector\", WordCounterToVectorTransformer()),\n",
    "])"
   ]
  },
  {
   "cell_type": "code",
   "execution_count": 28,
   "id": "dc73b5cd",
   "metadata": {},
   "outputs": [],
   "source": [
    "X_train_transformed = pipeline.fit_transform(X_train)\n",
    "X_test_transformed = pipeline.fit_transform(X_test)"
   ]
  },
  {
   "cell_type": "markdown",
   "id": "f6aa0b96",
   "metadata": {},
   "source": [
    "## Balancing the target variable using Imbalanced Learn library's Under Sampling Method, namely the NearMiss Algorithm"
   ]
  },
  {
   "cell_type": "code",
   "execution_count": 29,
   "id": "708c2c42",
   "metadata": {},
   "outputs": [],
   "source": [
    "nm = NearMiss()\n",
    "X_train_transformed, y_train = nm.fit_resample(X_train_transformed,y_train)\n",
    "X_test_transformed, y_test = nm.fit_resample(X_test_transformed,y_test)"
   ]
  },
  {
   "cell_type": "markdown",
   "id": "dd97b514",
   "metadata": {},
   "source": [
    "## Feature Selection"
   ]
  },
  {
   "cell_type": "code",
   "execution_count": 30,
   "id": "ab4024dd",
   "metadata": {},
   "outputs": [
    {
     "data": {
      "text/plain": [
       "VarianceThreshold(threshold=0)"
      ]
     },
     "execution_count": 30,
     "metadata": {},
     "output_type": "execute_result"
    }
   ],
   "source": [
    "sel = VarianceThreshold(threshold=0)\n",
    "sel.fit(X_train_transformed,y_train)"
   ]
  },
  {
   "cell_type": "code",
   "execution_count": 31,
   "id": "6cd89763",
   "metadata": {},
   "outputs": [
    {
     "data": {
      "text/plain": [
       "983"
      ]
     },
     "execution_count": 31,
     "metadata": {},
     "output_type": "execute_result"
    }
   ],
   "source": [
    "sum(sel.get_support())"
   ]
  },
  {
   "cell_type": "code",
   "execution_count": 32,
   "id": "0075cdce",
   "metadata": {},
   "outputs": [],
   "source": [
    "X_train_transformed = sel.transform(X_train_transformed)\n",
    "X_test_transformed = sel.transform(X_test_transformed)"
   ]
  },
  {
   "cell_type": "code",
   "execution_count": 33,
   "id": "6e206250",
   "metadata": {},
   "outputs": [
    {
     "data": {
      "text/plain": [
       "VarianceThreshold(threshold=0.01)"
      ]
     },
     "execution_count": 33,
     "metadata": {},
     "output_type": "execute_result"
    }
   ],
   "source": [
    "sel = VarianceThreshold(threshold=0.01)\n",
    "sel.fit(X_train_transformed,y_train)"
   ]
  },
  {
   "cell_type": "code",
   "execution_count": 34,
   "id": "b1e34c68",
   "metadata": {},
   "outputs": [
    {
     "data": {
      "text/plain": [
       "897"
      ]
     },
     "execution_count": 34,
     "metadata": {},
     "output_type": "execute_result"
    }
   ],
   "source": [
    "sum(sel.get_support())"
   ]
  },
  {
   "cell_type": "code",
   "execution_count": 35,
   "id": "250cae5a",
   "metadata": {},
   "outputs": [],
   "source": [
    "X_train_transformed = sel.transform(X_train_transformed)\n",
    "X_test_transformed = sel.transform(X_test_transformed)"
   ]
  },
  {
   "cell_type": "markdown",
   "id": "370c5fff",
   "metadata": {},
   "source": [
    "## Training and testing the Logistic Regression model"
   ]
  },
  {
   "cell_type": "code",
   "execution_count": 36,
   "id": "d7272fba",
   "metadata": {
    "scrolled": false
   },
   "outputs": [
    {
     "data": {
      "text/plain": [
       "LogisticRegression(C=0.05, solver='sag')"
      ]
     },
     "execution_count": 36,
     "metadata": {},
     "output_type": "execute_result"
    }
   ],
   "source": [
    "lr = LogisticRegression(\n",
    "                C = 0.05,\n",
    "                max_iter = 100,\n",
    "                tol = 0.0001,\n",
    "                solver = 'sag',\n",
    "                fit_intercept = True,\n",
    "                penalty = 'l2',\n",
    "                dual = False,\n",
    "                verbose = 0)\n",
    "lr.fit(X_train_transformed,y_train)"
   ]
  },
  {
   "cell_type": "code",
   "execution_count": 37,
   "id": "3292a672",
   "metadata": {},
   "outputs": [
    {
     "data": {
      "text/plain": [
       "array([1, 0, 1, 1, 1, 0, 0, 0, 0, 1, 1, 1, 1, 1, 1, 1, 1, 1, 1, 1, 1, 1,\n",
       "       1, 1, 1, 1, 1, 1, 1, 1, 1, 1, 1, 1, 1, 1, 1, 1, 1, 1, 1, 1, 1, 1,\n",
       "       1, 1, 1, 1, 1, 1, 1, 1, 1, 1, 1, 1, 1, 1, 1, 1, 0, 1, 1, 1, 1, 0,\n",
       "       0, 1, 1, 1, 1, 1, 1, 1, 1, 1, 1, 1, 1, 1, 1, 1, 1, 1, 1, 1, 1, 1,\n",
       "       1, 1, 1, 1, 1, 1, 1, 1, 1, 1, 1, 1, 1, 1, 1, 1, 1, 1, 1, 1, 1, 1,\n",
       "       1, 1, 1, 1, 1, 1, 1, 1, 1, 1, 1, 1, 1, 1, 1, 1, 1, 1, 1, 1, 1, 1,\n",
       "       1, 1, 1, 1, 1, 1, 1, 1, 1, 1, 1, 1, 1, 1, 1, 1, 1, 1, 1, 1, 1, 1,\n",
       "       1, 1, 1, 1, 1, 1, 1, 1, 1, 1, 1, 1, 1, 1, 1, 1, 1, 1, 1, 1, 1, 1,\n",
       "       1, 1, 1, 1, 1, 1, 1, 1, 1, 1, 1, 1, 1, 1, 1, 1, 1, 1, 1, 1, 1, 1,\n",
       "       1, 1, 1, 1, 1, 1, 1, 1, 1, 1, 1, 1, 1, 1, 1, 1, 1, 1, 1, 1, 1, 1,\n",
       "       1, 1, 1, 1, 1, 1, 1, 1, 1, 1, 1, 1, 1, 1, 1, 1, 1, 1, 1, 1, 1, 1,\n",
       "       1, 1, 1, 1, 1, 1, 1, 1, 1, 1, 1, 1, 1, 1, 1, 1, 1, 1, 1, 1, 1, 1,\n",
       "       1, 1, 1, 1, 1, 1, 1, 1, 1, 1, 1, 1, 1, 1, 1, 1, 1, 1, 1, 1, 1, 1,\n",
       "       1, 1, 1, 1, 1, 1, 1, 1, 1, 1, 1, 1, 1, 1, 1, 1, 1, 1, 1, 1, 1, 1,\n",
       "       1, 1, 1, 1, 1, 1, 1, 1, 1, 1, 1, 1, 1, 1, 1, 1, 1, 1, 1, 1, 1, 1,\n",
       "       1, 1, 1, 1, 1, 1, 1, 1, 1, 1, 1, 1, 1, 1, 1, 1, 1, 1])"
      ]
     },
     "execution_count": 37,
     "metadata": {},
     "output_type": "execute_result"
    }
   ],
   "source": [
    "predictions = lr.predict(X_test_transformed)\n",
    "predictions"
   ]
  },
  {
   "cell_type": "code",
   "execution_count": 38,
   "id": "650a196a",
   "metadata": {},
   "outputs": [
    {
     "name": "stdout",
     "output_type": "stream",
     "text": [
      "[[  8 166]\n",
      " [  0 174]]\n",
      "              precision    recall  f1-score   support\n",
      "\n",
      "           0       1.00      0.05      0.09       174\n",
      "           1       0.51      1.00      0.68       174\n",
      "\n",
      "    accuracy                           0.52       348\n",
      "   macro avg       0.76      0.52      0.38       348\n",
      "weighted avg       0.76      0.52      0.38       348\n",
      "\n"
     ]
    }
   ],
   "source": [
    "print(confusion_matrix(y_test,predictions))\n",
    "print(classification_report(y_test,predictions))"
   ]
  },
  {
   "cell_type": "markdown",
   "id": "3918564c",
   "metadata": {},
   "source": [
    "## Training and evaluating the Random Forest Classifier"
   ]
  },
  {
   "cell_type": "code",
   "execution_count": 39,
   "id": "66c8b4de",
   "metadata": {},
   "outputs": [
    {
     "data": {
      "text/plain": [
       "RandomForestClassifier()"
      ]
     },
     "execution_count": 39,
     "metadata": {},
     "output_type": "execute_result"
    }
   ],
   "source": [
    "rfc = RandomForestClassifier()\n",
    "rfc.fit(X_train_transformed,y_train)"
   ]
  },
  {
   "cell_type": "code",
   "execution_count": 40,
   "id": "e4d1a158",
   "metadata": {},
   "outputs": [
    {
     "data": {
      "text/plain": [
       "array([1, 1, 0, 0, 0, 1, 1, 1, 1, 0, 0, 1, 0, 0, 0, 0, 0, 0, 0, 0, 0, 0,\n",
       "       0, 0, 0, 0, 0, 0, 0, 0, 0, 0, 0, 0, 0, 0, 0, 0, 0, 0, 0, 0, 0, 0,\n",
       "       0, 0, 0, 0, 0, 0, 0, 0, 0, 0, 0, 0, 0, 0, 0, 0, 1, 0, 0, 0, 0, 1,\n",
       "       1, 0, 0, 0, 0, 0, 0, 0, 0, 0, 0, 0, 0, 0, 0, 0, 0, 0, 0, 0, 0, 0,\n",
       "       0, 0, 0, 0, 0, 0, 0, 0, 0, 0, 0, 0, 0, 0, 0, 0, 0, 0, 0, 0, 0, 0,\n",
       "       0, 0, 0, 0, 0, 0, 0, 0, 0, 0, 0, 0, 0, 0, 0, 0, 0, 0, 0, 0, 0, 0,\n",
       "       0, 0, 0, 0, 1, 0, 0, 0, 0, 0, 0, 0, 0, 0, 0, 0, 0, 0, 0, 0, 0, 0,\n",
       "       0, 0, 0, 0, 0, 0, 0, 0, 0, 0, 0, 0, 0, 0, 0, 0, 0, 0, 0, 0, 1, 1,\n",
       "       1, 1, 1, 1, 1, 1, 1, 1, 1, 1, 0, 1, 1, 1, 1, 1, 0, 1, 1, 1, 1, 0,\n",
       "       1, 1, 0, 1, 1, 1, 1, 1, 1, 0, 0, 1, 1, 1, 1, 1, 1, 1, 1, 1, 1, 1,\n",
       "       1, 1, 1, 1, 1, 1, 1, 1, 1, 1, 0, 1, 1, 1, 1, 1, 1, 1, 0, 1, 1, 1,\n",
       "       1, 1, 1, 1, 1, 1, 1, 1, 1, 0, 1, 1, 1, 1, 0, 1, 1, 1, 1, 1, 0, 1,\n",
       "       1, 1, 0, 1, 1, 1, 1, 1, 1, 1, 0, 1, 1, 1, 1, 1, 1, 1, 1, 1, 0, 1,\n",
       "       1, 1, 1, 1, 1, 1, 1, 1, 1, 1, 1, 1, 1, 1, 1, 0, 1, 1, 0, 0, 0, 1,\n",
       "       0, 1, 0, 1, 1, 1, 0, 1, 1, 1, 1, 1, 1, 1, 1, 1, 1, 1, 1, 1, 0, 0,\n",
       "       1, 1, 0, 1, 1, 1, 1, 1, 1, 1, 0, 1, 1, 1, 1, 1, 1, 0])"
      ]
     },
     "execution_count": 40,
     "metadata": {},
     "output_type": "execute_result"
    }
   ],
   "source": [
    "rfc_pred = rfc.predict(X_test_transformed)\n",
    "rfc_pred"
   ]
  },
  {
   "cell_type": "code",
   "execution_count": 41,
   "id": "e32c696a",
   "metadata": {},
   "outputs": [
    {
     "name": "stdout",
     "output_type": "stream",
     "text": [
      "[[163  11]\n",
      " [ 26 148]]\n",
      "              precision    recall  f1-score   support\n",
      "\n",
      "           0       0.86      0.94      0.90       174\n",
      "           1       0.93      0.85      0.89       174\n",
      "\n",
      "    accuracy                           0.89       348\n",
      "   macro avg       0.90      0.89      0.89       348\n",
      "weighted avg       0.90      0.89      0.89       348\n",
      "\n"
     ]
    }
   ],
   "source": [
    "print(confusion_matrix(y_test,rfc_pred))\n",
    "print(classification_report(y_test,rfc_pred))"
   ]
  },
  {
   "cell_type": "markdown",
   "id": "3ab14c41",
   "metadata": {},
   "source": [
    "## Training and testing the Decision Tree Classifier"
   ]
  },
  {
   "cell_type": "code",
   "execution_count": 42,
   "id": "1f957dfa",
   "metadata": {},
   "outputs": [
    {
     "data": {
      "text/plain": [
       "DecisionTreeClassifier()"
      ]
     },
     "execution_count": 42,
     "metadata": {},
     "output_type": "execute_result"
    }
   ],
   "source": [
    "dtree = DecisionTreeClassifier()\n",
    "dtree.fit(X_train_transformed,y_train)"
   ]
  },
  {
   "cell_type": "code",
   "execution_count": 43,
   "id": "351b7ed9",
   "metadata": {},
   "outputs": [
    {
     "data": {
      "text/plain": [
       "array([0, 1, 0, 0, 0, 0, 0, 0, 0, 1, 0, 1, 0, 1, 0, 1, 1, 0, 0, 0, 0, 1,\n",
       "       0, 0, 0, 0, 0, 1, 1, 0, 0, 0, 0, 0, 0, 0, 0, 0, 1, 0, 0, 0, 0, 0,\n",
       "       0, 0, 0, 0, 0, 0, 0, 0, 0, 0, 0, 0, 0, 0, 0, 0, 0, 0, 0, 0, 0, 0,\n",
       "       0, 0, 0, 0, 0, 0, 1, 0, 1, 0, 0, 0, 0, 0, 0, 0, 0, 0, 1, 0, 0, 0,\n",
       "       0, 0, 0, 0, 0, 0, 0, 0, 0, 0, 0, 0, 0, 0, 1, 0, 0, 0, 0, 0, 0, 0,\n",
       "       1, 0, 0, 1, 0, 0, 0, 0, 0, 0, 0, 0, 0, 0, 0, 0, 1, 0, 0, 0, 0, 0,\n",
       "       0, 0, 1, 0, 1, 0, 1, 0, 0, 0, 0, 1, 1, 1, 0, 0, 0, 0, 1, 0, 0, 0,\n",
       "       1, 0, 1, 1, 0, 0, 0, 0, 0, 0, 1, 0, 1, 0, 0, 0, 0, 0, 0, 0, 1, 1,\n",
       "       1, 1, 1, 1, 1, 1, 1, 1, 1, 1, 1, 1, 1, 1, 1, 1, 0, 1, 1, 1, 1, 0,\n",
       "       1, 1, 1, 1, 1, 1, 1, 1, 1, 0, 0, 1, 0, 0, 0, 1, 1, 1, 1, 1, 1, 1,\n",
       "       1, 1, 1, 1, 1, 1, 1, 1, 1, 1, 1, 1, 1, 1, 1, 1, 1, 1, 0, 1, 1, 1,\n",
       "       1, 1, 1, 1, 0, 1, 1, 1, 0, 0, 1, 1, 1, 1, 0, 0, 0, 1, 1, 0, 0, 1,\n",
       "       1, 1, 0, 1, 1, 1, 1, 1, 0, 0, 1, 1, 0, 1, 1, 1, 1, 1, 1, 0, 0, 1,\n",
       "       1, 1, 1, 1, 1, 1, 0, 0, 1, 0, 1, 1, 1, 0, 1, 1, 1, 0, 0, 1, 0, 1,\n",
       "       0, 1, 0, 1, 1, 1, 0, 1, 1, 1, 1, 1, 1, 1, 1, 0, 1, 1, 1, 1, 0, 1,\n",
       "       1, 1, 1, 1, 1, 1, 1, 1, 1, 1, 1, 1, 1, 1, 1, 1, 1, 0])"
      ]
     },
     "execution_count": 43,
     "metadata": {},
     "output_type": "execute_result"
    }
   ],
   "source": [
    "dtree_pred = dtree.predict(X_test_transformed)\n",
    "dtree_pred"
   ]
  },
  {
   "cell_type": "code",
   "execution_count": 44,
   "id": "acba788e",
   "metadata": {},
   "outputs": [
    {
     "name": "stdout",
     "output_type": "stream",
     "text": [
      "[[145  29]\n",
      " [ 35 139]]\n",
      "              precision    recall  f1-score   support\n",
      "\n",
      "           0       0.81      0.83      0.82       174\n",
      "           1       0.83      0.80      0.81       174\n",
      "\n",
      "    accuracy                           0.82       348\n",
      "   macro avg       0.82      0.82      0.82       348\n",
      "weighted avg       0.82      0.82      0.82       348\n",
      "\n"
     ]
    }
   ],
   "source": [
    "print(confusion_matrix(y_test,dtree_pred))\n",
    "print(classification_report(y_test,dtree_pred))"
   ]
  },
  {
   "cell_type": "markdown",
   "id": "6d419949",
   "metadata": {},
   "source": [
    "## Training and evaluating the K Nearest Neighbors Classifier"
   ]
  },
  {
   "cell_type": "code",
   "execution_count": 45,
   "id": "95613338",
   "metadata": {},
   "outputs": [
    {
     "data": {
      "text/plain": [
       "KNeighborsClassifier(n_neighbors=6)"
      ]
     },
     "execution_count": 45,
     "metadata": {},
     "output_type": "execute_result"
    }
   ],
   "source": [
    "knn = KNeighborsClassifier(n_neighbors=6)\n",
    "knn.fit(X_train_transformed,y_train)"
   ]
  },
  {
   "cell_type": "code",
   "execution_count": 46,
   "id": "7bb18e35",
   "metadata": {},
   "outputs": [
    {
     "data": {
      "text/plain": [
       "array([1, 1, 0, 0, 1, 0, 0, 0, 0, 0, 0, 1, 0, 0, 0, 0, 0, 1, 0, 0, 0, 0,\n",
       "       0, 0, 0, 0, 0, 0, 0, 0, 0, 0, 0, 0, 0, 0, 0, 0, 0, 0, 0, 0, 0, 0,\n",
       "       0, 0, 0, 0, 0, 0, 0, 0, 0, 0, 0, 0, 0, 0, 0, 0, 0, 0, 0, 0, 0, 0,\n",
       "       0, 0, 0, 0, 0, 0, 0, 0, 0, 0, 0, 0, 0, 0, 0, 0, 0, 0, 0, 0, 0, 0,\n",
       "       0, 0, 0, 0, 0, 0, 0, 0, 0, 0, 0, 0, 0, 0, 0, 0, 0, 0, 0, 0, 0, 0,\n",
       "       0, 0, 0, 0, 0, 0, 0, 0, 0, 0, 0, 0, 0, 0, 0, 0, 0, 0, 0, 0, 0, 0,\n",
       "       0, 0, 0, 0, 1, 0, 0, 0, 0, 0, 0, 0, 0, 0, 0, 0, 0, 0, 0, 0, 0, 0,\n",
       "       0, 0, 0, 0, 0, 0, 0, 0, 0, 0, 0, 0, 0, 0, 0, 0, 0, 0, 0, 0, 1, 1,\n",
       "       1, 1, 0, 1, 0, 1, 1, 1, 1, 1, 0, 1, 1, 1, 1, 0, 0, 1, 1, 1, 1, 0,\n",
       "       1, 1, 0, 1, 1, 1, 0, 1, 1, 0, 0, 1, 1, 0, 1, 0, 1, 1, 1, 1, 1, 1,\n",
       "       1, 1, 1, 1, 1, 1, 1, 1, 1, 1, 0, 1, 1, 0, 1, 1, 1, 1, 0, 1, 1, 1,\n",
       "       1, 1, 1, 1, 0, 1, 0, 1, 1, 0, 1, 1, 1, 1, 0, 1, 0, 1, 1, 1, 0, 1,\n",
       "       0, 1, 0, 1, 1, 1, 1, 1, 1, 1, 0, 1, 1, 1, 1, 1, 1, 1, 1, 1, 0, 1,\n",
       "       0, 1, 1, 1, 1, 1, 0, 1, 0, 1, 1, 0, 1, 1, 1, 0, 0, 1, 0, 0, 0, 1,\n",
       "       1, 1, 0, 1, 1, 1, 0, 1, 1, 0, 0, 1, 1, 0, 1, 0, 0, 1, 1, 1, 1, 0,\n",
       "       0, 1, 0, 1, 0, 1, 1, 1, 0, 1, 0, 0, 1, 1, 0, 0, 1, 0])"
      ]
     },
     "execution_count": 46,
     "metadata": {},
     "output_type": "execute_result"
    }
   ],
   "source": [
    "knn_pred = knn.predict(X_test_transformed)\n",
    "knn_pred"
   ]
  },
  {
   "cell_type": "code",
   "execution_count": 47,
   "id": "af75598d",
   "metadata": {},
   "outputs": [
    {
     "name": "stdout",
     "output_type": "stream",
     "text": [
      "[[168   6]\n",
      " [ 51 123]]\n",
      "              precision    recall  f1-score   support\n",
      "\n",
      "           0       0.77      0.97      0.85       174\n",
      "           1       0.95      0.71      0.81       174\n",
      "\n",
      "    accuracy                           0.84       348\n",
      "   macro avg       0.86      0.84      0.83       348\n",
      "weighted avg       0.86      0.84      0.83       348\n",
      "\n"
     ]
    }
   ],
   "source": [
    "print(confusion_matrix(y_test,knn_pred))\n",
    "print(classification_report(y_test,knn_pred))"
   ]
  },
  {
   "cell_type": "markdown",
   "id": "1aeb2ef1",
   "metadata": {},
   "source": [
    "## Training and testing the Support Vector Classifier"
   ]
  },
  {
   "cell_type": "code",
   "execution_count": 48,
   "id": "5dc31099",
   "metadata": {},
   "outputs": [
    {
     "data": {
      "text/plain": [
       "SVC()"
      ]
     },
     "execution_count": 48,
     "metadata": {},
     "output_type": "execute_result"
    }
   ],
   "source": [
    "svm = SVC()\n",
    "svm.fit(X_train_transformed,y_train)"
   ]
  },
  {
   "cell_type": "code",
   "execution_count": 49,
   "id": "bcadf9bb",
   "metadata": {},
   "outputs": [
    {
     "data": {
      "text/plain": [
       "array([0, 0, 0, 0, 0, 0, 0, 0, 0, 0, 0, 0, 0, 0, 0, 0, 0, 0, 0, 0, 0, 0,\n",
       "       0, 0, 0, 0, 0, 0, 0, 0, 0, 0, 0, 0, 0, 0, 0, 0, 0, 0, 0, 0, 0, 0,\n",
       "       0, 0, 0, 0, 0, 0, 0, 0, 0, 0, 0, 0, 0, 0, 0, 0, 0, 0, 0, 0, 0, 0,\n",
       "       0, 0, 0, 0, 0, 0, 0, 0, 0, 0, 0, 0, 0, 0, 0, 0, 0, 0, 0, 0, 0, 0,\n",
       "       0, 0, 0, 0, 0, 0, 0, 0, 0, 0, 0, 0, 0, 0, 0, 0, 0, 0, 0, 0, 0, 0,\n",
       "       0, 0, 0, 0, 0, 0, 0, 0, 0, 0, 0, 0, 0, 0, 0, 0, 0, 0, 0, 0, 0, 0,\n",
       "       0, 0, 0, 0, 0, 0, 0, 0, 0, 0, 0, 0, 0, 0, 0, 0, 0, 0, 0, 0, 0, 0,\n",
       "       0, 0, 0, 0, 0, 0, 0, 0, 0, 0, 0, 0, 0, 0, 0, 0, 0, 0, 0, 0, 1, 1,\n",
       "       1, 1, 0, 1, 0, 1, 1, 1, 1, 1, 0, 1, 1, 1, 1, 0, 0, 1, 1, 1, 1, 0,\n",
       "       1, 1, 0, 1, 1, 1, 0, 1, 0, 0, 0, 1, 1, 0, 1, 0, 0, 1, 1, 1, 1, 1,\n",
       "       1, 1, 1, 1, 1, 1, 1, 1, 1, 1, 0, 1, 1, 0, 1, 1, 1, 1, 0, 1, 1, 1,\n",
       "       0, 1, 1, 1, 0, 1, 0, 1, 1, 0, 1, 1, 1, 1, 0, 0, 0, 1, 1, 1, 0, 1,\n",
       "       0, 1, 0, 1, 1, 1, 0, 1, 1, 1, 0, 1, 1, 1, 1, 1, 1, 1, 1, 1, 0, 1,\n",
       "       0, 1, 1, 1, 1, 1, 0, 0, 0, 1, 1, 0, 1, 1, 1, 0, 0, 1, 0, 0, 0, 1,\n",
       "       0, 1, 0, 1, 1, 1, 0, 1, 0, 1, 0, 1, 1, 0, 1, 0, 0, 1, 1, 1, 0, 0,\n",
       "       0, 1, 0, 1, 0, 1, 1, 1, 0, 1, 0, 0, 1, 1, 0, 0, 1, 0])"
      ]
     },
     "execution_count": 49,
     "metadata": {},
     "output_type": "execute_result"
    }
   ],
   "source": [
    "svm_pred = svm.predict(X_test_transformed)\n",
    "svm_pred"
   ]
  },
  {
   "cell_type": "code",
   "execution_count": 50,
   "id": "abf9bfb8",
   "metadata": {},
   "outputs": [
    {
     "name": "stdout",
     "output_type": "stream",
     "text": [
      "[[174   0]\n",
      " [ 59 115]]\n",
      "              precision    recall  f1-score   support\n",
      "\n",
      "           0       0.75      1.00      0.86       174\n",
      "           1       1.00      0.66      0.80       174\n",
      "\n",
      "    accuracy                           0.83       348\n",
      "   macro avg       0.87      0.83      0.83       348\n",
      "weighted avg       0.87      0.83      0.83       348\n",
      "\n"
     ]
    }
   ],
   "source": [
    "print(confusion_matrix(y_test,svm_pred))\n",
    "print(classification_report(y_test,svm_pred))"
   ]
  },
  {
   "cell_type": "markdown",
   "id": "e553911c",
   "metadata": {},
   "source": [
    "## Training and evaluating the XG Boost Classifier"
   ]
  },
  {
   "cell_type": "code",
   "execution_count": 51,
   "id": "dfa8bd68",
   "metadata": {},
   "outputs": [
    {
     "data": {
      "text/plain": [
       "XGBClassifier(base_score=0.5, booster='gbtree', callbacks=None,\n",
       "              colsample_bylevel=1, colsample_bynode=1, colsample_bytree=1,\n",
       "              early_stopping_rounds=None, enable_categorical=False,\n",
       "              eval_metric=None, gamma=0, gpu_id=-1, grow_policy='depthwise',\n",
       "              importance_type=None, interaction_constraints='',\n",
       "              learning_rate=0.300000012, max_bin=256, max_cat_to_onehot=4,\n",
       "              max_delta_step=0, max_depth=6, max_leaves=0, min_child_weight=1,\n",
       "              missing=nan, monotone_constraints='()', n_estimators=100,\n",
       "              n_jobs=0, num_parallel_tree=1, predictor='auto', random_state=0,\n",
       "              reg_alpha=0, reg_lambda=1, ...)"
      ]
     },
     "execution_count": 51,
     "metadata": {},
     "output_type": "execute_result"
    }
   ],
   "source": [
    "xgb = XGBClassifier()\n",
    "xgb.fit(X_train_transformed,y_train)"
   ]
  },
  {
   "cell_type": "code",
   "execution_count": 52,
   "id": "2f279749",
   "metadata": {},
   "outputs": [
    {
     "data": {
      "text/plain": [
       "array([0, 1, 0, 0, 0, 1, 1, 1, 1, 0, 0, 1, 0, 0, 0, 0, 0, 0, 0, 0, 0, 0,\n",
       "       0, 0, 0, 0, 0, 0, 0, 0, 0, 0, 0, 0, 0, 0, 0, 0, 0, 0, 0, 0, 0, 0,\n",
       "       0, 0, 0, 0, 0, 0, 0, 0, 0, 0, 0, 0, 0, 0, 0, 0, 1, 0, 0, 0, 0, 1,\n",
       "       1, 0, 0, 0, 0, 0, 0, 0, 0, 0, 0, 0, 0, 0, 0, 0, 0, 0, 0, 0, 0, 0,\n",
       "       0, 0, 0, 0, 0, 0, 0, 0, 0, 0, 0, 0, 0, 0, 0, 0, 0, 0, 0, 0, 0, 0,\n",
       "       0, 0, 0, 0, 0, 0, 0, 0, 0, 0, 0, 0, 0, 0, 0, 0, 0, 0, 0, 0, 0, 0,\n",
       "       0, 0, 0, 0, 1, 0, 0, 0, 0, 0, 0, 0, 1, 0, 0, 0, 0, 0, 0, 0, 0, 0,\n",
       "       0, 1, 1, 0, 0, 0, 0, 0, 0, 0, 0, 0, 1, 0, 0, 0, 0, 0, 0, 0, 1, 1,\n",
       "       0, 1, 1, 1, 1, 1, 1, 0, 1, 1, 0, 1, 1, 1, 1, 1, 0, 1, 1, 1, 1, 0,\n",
       "       1, 1, 0, 1, 1, 1, 1, 1, 1, 0, 1, 1, 1, 1, 1, 1, 1, 1, 1, 1, 1, 1,\n",
       "       1, 1, 1, 1, 1, 1, 1, 1, 1, 1, 0, 1, 1, 1, 1, 1, 1, 1, 0, 1, 1, 1,\n",
       "       1, 1, 1, 1, 1, 1, 1, 1, 1, 0, 1, 1, 1, 1, 1, 0, 0, 1, 1, 1, 0, 1,\n",
       "       0, 1, 0, 1, 1, 1, 1, 1, 1, 1, 0, 1, 1, 1, 1, 1, 1, 1, 1, 1, 0, 1,\n",
       "       1, 1, 1, 1, 1, 1, 1, 0, 1, 1, 1, 0, 1, 1, 1, 1, 1, 1, 1, 0, 0, 1,\n",
       "       0, 1, 0, 1, 1, 1, 0, 1, 1, 1, 0, 1, 1, 1, 1, 0, 0, 1, 1, 1, 0, 0,\n",
       "       1, 1, 0, 1, 1, 1, 1, 1, 0, 1, 0, 1, 1, 1, 1, 1, 1, 0])"
      ]
     },
     "execution_count": 52,
     "metadata": {},
     "output_type": "execute_result"
    }
   ],
   "source": [
    "xgb_pred = xgb.predict(X_test_transformed)\n",
    "xgb_pred"
   ]
  },
  {
   "cell_type": "code",
   "execution_count": 53,
   "id": "ca4126b3",
   "metadata": {},
   "outputs": [
    {
     "name": "stdout",
     "output_type": "stream",
     "text": [
      "[[160  14]\n",
      " [ 33 141]]\n",
      "              precision    recall  f1-score   support\n",
      "\n",
      "           0       0.83      0.92      0.87       174\n",
      "           1       0.91      0.81      0.86       174\n",
      "\n",
      "    accuracy                           0.86       348\n",
      "   macro avg       0.87      0.86      0.86       348\n",
      "weighted avg       0.87      0.86      0.86       348\n",
      "\n"
     ]
    }
   ],
   "source": [
    "print(confusion_matrix(y_test,xgb_pred))\n",
    "print(classification_report(y_test,xgb_pred))"
   ]
  },
  {
   "cell_type": "markdown",
   "id": "8447899e",
   "metadata": {},
   "source": [
    "## Training and testing the Multinomial Naive Bayes model"
   ]
  },
  {
   "cell_type": "code",
   "execution_count": 54,
   "id": "7273fd82",
   "metadata": {},
   "outputs": [
    {
     "data": {
      "text/plain": [
       "MultinomialNB()"
      ]
     },
     "execution_count": 54,
     "metadata": {},
     "output_type": "execute_result"
    }
   ],
   "source": [
    "mnb = MultinomialNB()\n",
    "mnb.fit(X_train_transformed,y_train)"
   ]
  },
  {
   "cell_type": "code",
   "execution_count": 55,
   "id": "73ab9983",
   "metadata": {},
   "outputs": [
    {
     "data": {
      "text/plain": [
       "array([1, 0, 0, 0, 1, 0, 0, 0, 0, 1, 0, 0, 1, 0, 0, 0, 0, 0, 0, 0, 0, 0,\n",
       "       0, 1, 0, 0, 1, 1, 0, 0, 1, 0, 1, 1, 1, 0, 0, 0, 1, 0, 0, 0, 0, 0,\n",
       "       0, 1, 1, 0, 0, 0, 0, 0, 0, 0, 0, 0, 0, 0, 0, 0, 0, 0, 1, 0, 1, 0,\n",
       "       0, 0, 1, 0, 0, 0, 0, 0, 0, 0, 1, 0, 0, 0, 0, 0, 0, 0, 0, 0, 0, 0,\n",
       "       1, 0, 1, 1, 0, 0, 0, 1, 0, 0, 0, 0, 0, 0, 0, 0, 0, 0, 0, 0, 0, 1,\n",
       "       1, 0, 0, 0, 1, 0, 0, 0, 0, 0, 0, 0, 0, 0, 0, 0, 1, 1, 0, 0, 0, 0,\n",
       "       0, 0, 0, 0, 1, 0, 0, 0, 0, 0, 0, 0, 1, 0, 0, 0, 1, 1, 0, 0, 0, 0,\n",
       "       1, 1, 0, 0, 0, 0, 0, 1, 0, 0, 1, 0, 1, 0, 0, 0, 0, 1, 1, 0, 1, 1,\n",
       "       0, 1, 1, 1, 0, 1, 1, 1, 1, 1, 1, 1, 1, 1, 1, 0, 1, 1, 1, 1, 1, 1,\n",
       "       1, 1, 1, 1, 1, 1, 1, 1, 1, 0, 0, 1, 1, 1, 1, 1, 1, 1, 0, 1, 1, 1,\n",
       "       1, 0, 0, 1, 1, 1, 0, 1, 1, 1, 1, 1, 1, 0, 1, 1, 1, 1, 1, 1, 1, 1,\n",
       "       1, 1, 1, 1, 0, 0, 1, 1, 1, 1, 0, 1, 0, 1, 0, 1, 1, 1, 1, 1, 1, 1,\n",
       "       1, 1, 1, 1, 1, 1, 1, 1, 1, 1, 0, 1, 1, 1, 1, 1, 1, 1, 1, 1, 0, 1,\n",
       "       1, 1, 0, 0, 0, 1, 1, 1, 1, 1, 1, 1, 1, 1, 1, 1, 1, 1, 0, 1, 1, 1,\n",
       "       0, 1, 0, 1, 1, 0, 0, 1, 1, 1, 1, 1, 1, 0, 0, 0, 0, 0, 1, 1, 0, 1,\n",
       "       1, 1, 0, 1, 0, 1, 1, 0, 0, 0, 0, 0, 1, 1, 1, 1, 0, 0])"
      ]
     },
     "execution_count": 55,
     "metadata": {},
     "output_type": "execute_result"
    }
   ],
   "source": [
    "mnb_pred = mnb.predict(X_test_transformed)\n",
    "mnb_pred"
   ]
  },
  {
   "cell_type": "code",
   "execution_count": 56,
   "id": "fe91e89f",
   "metadata": {},
   "outputs": [
    {
     "name": "stdout",
     "output_type": "stream",
     "text": [
      "[[136  38]\n",
      " [ 40 134]]\n",
      "              precision    recall  f1-score   support\n",
      "\n",
      "           0       0.77      0.78      0.78       174\n",
      "           1       0.78      0.77      0.77       174\n",
      "\n",
      "    accuracy                           0.78       348\n",
      "   macro avg       0.78      0.78      0.78       348\n",
      "weighted avg       0.78      0.78      0.78       348\n",
      "\n"
     ]
    }
   ],
   "source": [
    "print(confusion_matrix(y_test,mnb_pred))\n",
    "print(classification_report(y_test,mnb_pred))"
   ]
  },
  {
   "cell_type": "markdown",
   "id": "7720a2ee",
   "metadata": {},
   "source": [
    "## Hyperparameter Tuning using GridSearchCV"
   ]
  },
  {
   "cell_type": "code",
   "execution_count": 57,
   "id": "5ab8170e",
   "metadata": {},
   "outputs": [],
   "source": [
    "param_grid = {'C': [1,0.1,10,100,1000], 'gamma': [1,0.1,0.01,0.001,0.0001], 'kernel': ['rbf']}"
   ]
  },
  {
   "cell_type": "code",
   "execution_count": 58,
   "id": "c78260a8",
   "metadata": {},
   "outputs": [
    {
     "name": "stdout",
     "output_type": "stream",
     "text": [
      "Fitting 5 folds for each of 25 candidates, totalling 125 fits\n",
      "[CV] C=1, gamma=1, kernel=rbf ........................................\n",
      "[CV] ............ C=1, gamma=1, kernel=rbf, score=0.626, total=   0.1s\n",
      "[CV] C=1, gamma=1, kernel=rbf ........................................\n"
     ]
    },
    {
     "name": "stderr",
     "output_type": "stream",
     "text": [
      "[Parallel(n_jobs=1)]: Using backend SequentialBackend with 1 concurrent workers.\n",
      "[Parallel(n_jobs=1)]: Done   1 out of   1 | elapsed:    0.0s remaining:    0.0s\n"
     ]
    },
    {
     "name": "stdout",
     "output_type": "stream",
     "text": [
      "[CV] ............ C=1, gamma=1, kernel=rbf, score=0.504, total=   0.1s\n",
      "[CV] C=1, gamma=1, kernel=rbf ........................................\n",
      "[CV] ............ C=1, gamma=1, kernel=rbf, score=0.500, total=   0.1s\n",
      "[CV] C=1, gamma=1, kernel=rbf ........................................\n"
     ]
    },
    {
     "name": "stderr",
     "output_type": "stream",
     "text": [
      "[Parallel(n_jobs=1)]: Done   2 out of   2 | elapsed:    0.1s remaining:    0.0s\n"
     ]
    },
    {
     "name": "stdout",
     "output_type": "stream",
     "text": [
      "[CV] ............ C=1, gamma=1, kernel=rbf, score=0.500, total=   0.1s\n",
      "[CV] C=1, gamma=1, kernel=rbf ........................................\n",
      "[CV] ............ C=1, gamma=1, kernel=rbf, score=0.500, total=   0.1s\n",
      "[CV] C=1, gamma=0.1, kernel=rbf ......................................\n",
      "[CV] .......... C=1, gamma=0.1, kernel=rbf, score=0.916, total=   0.1s\n",
      "[CV] C=1, gamma=0.1, kernel=rbf ......................................\n",
      "[CV] .......... C=1, gamma=0.1, kernel=rbf, score=0.916, total=   0.1s\n",
      "[CV] C=1, gamma=0.1, kernel=rbf ......................................\n",
      "[CV] .......... C=1, gamma=0.1, kernel=rbf, score=0.869, total=   0.1s\n",
      "[CV] C=1, gamma=0.1, kernel=rbf ......................................\n",
      "[CV] .......... C=1, gamma=0.1, kernel=rbf, score=0.754, total=   0.1s\n",
      "[CV] C=1, gamma=0.1, kernel=rbf ......................................\n",
      "[CV] .......... C=1, gamma=0.1, kernel=rbf, score=0.546, total=   0.1s\n",
      "[CV] C=1, gamma=0.01, kernel=rbf .....................................\n",
      "[CV] ......... C=1, gamma=0.01, kernel=rbf, score=0.916, total=   0.1s\n",
      "[CV] C=1, gamma=0.01, kernel=rbf .....................................\n",
      "[CV] ......... C=1, gamma=0.01, kernel=rbf, score=0.977, total=   0.1s\n",
      "[CV] C=1, gamma=0.01, kernel=rbf .....................................\n",
      "[CV] ......... C=1, gamma=0.01, kernel=rbf, score=0.962, total=   0.1s\n",
      "[CV] C=1, gamma=0.01, kernel=rbf .....................................\n",
      "[CV] ......... C=1, gamma=0.01, kernel=rbf, score=0.977, total=   0.1s\n",
      "[CV] C=1, gamma=0.01, kernel=rbf .....................................\n",
      "[CV] ......... C=1, gamma=0.01, kernel=rbf, score=0.954, total=   0.1s\n",
      "[CV] C=1, gamma=0.001, kernel=rbf ....................................\n",
      "[CV] ........ C=1, gamma=0.001, kernel=rbf, score=0.954, total=   0.0s\n",
      "[CV] C=1, gamma=0.001, kernel=rbf ....................................\n",
      "[CV] ........ C=1, gamma=0.001, kernel=rbf, score=0.939, total=   0.0s\n",
      "[CV] C=1, gamma=0.001, kernel=rbf ....................................\n",
      "[CV] ........ C=1, gamma=0.001, kernel=rbf, score=0.923, total=   0.0s\n",
      "[CV] C=1, gamma=0.001, kernel=rbf ....................................\n",
      "[CV] ........ C=1, gamma=0.001, kernel=rbf, score=0.938, total=   0.0s\n",
      "[CV] C=1, gamma=0.001, kernel=rbf ....................................\n",
      "[CV] ........ C=1, gamma=0.001, kernel=rbf, score=0.931, total=   0.0s\n",
      "[CV] C=1, gamma=0.0001, kernel=rbf ...................................\n",
      "[CV] ....... C=1, gamma=0.0001, kernel=rbf, score=0.885, total=   0.1s\n",
      "[CV] C=1, gamma=0.0001, kernel=rbf ...................................\n",
      "[CV] ....... C=1, gamma=0.0001, kernel=rbf, score=0.863, total=   0.0s\n",
      "[CV] C=1, gamma=0.0001, kernel=rbf ...................................\n",
      "[CV] ....... C=1, gamma=0.0001, kernel=rbf, score=0.862, total=   0.0s\n",
      "[CV] C=1, gamma=0.0001, kernel=rbf ...................................\n",
      "[CV] ....... C=1, gamma=0.0001, kernel=rbf, score=0.885, total=   0.0s\n",
      "[CV] C=1, gamma=0.0001, kernel=rbf ...................................\n",
      "[CV] ....... C=1, gamma=0.0001, kernel=rbf, score=0.908, total=   0.0s\n",
      "[CV] C=0.1, gamma=1, kernel=rbf ......................................\n",
      "[CV] .......... C=0.1, gamma=1, kernel=rbf, score=0.496, total=   0.1s\n",
      "[CV] C=0.1, gamma=1, kernel=rbf ......................................\n",
      "[CV] .......... C=0.1, gamma=1, kernel=rbf, score=0.504, total=   0.1s\n",
      "[CV] C=0.1, gamma=1, kernel=rbf ......................................\n",
      "[CV] .......... C=0.1, gamma=1, kernel=rbf, score=0.500, total=   0.1s\n",
      "[CV] C=0.1, gamma=1, kernel=rbf ......................................\n",
      "[CV] .......... C=0.1, gamma=1, kernel=rbf, score=0.500, total=   0.1s\n",
      "[CV] C=0.1, gamma=1, kernel=rbf ......................................\n",
      "[CV] .......... C=0.1, gamma=1, kernel=rbf, score=0.500, total=   0.1s\n",
      "[CV] C=0.1, gamma=0.1, kernel=rbf ....................................\n",
      "[CV] ........ C=0.1, gamma=0.1, kernel=rbf, score=0.664, total=   0.1s\n",
      "[CV] C=0.1, gamma=0.1, kernel=rbf ....................................\n",
      "[CV] ........ C=0.1, gamma=0.1, kernel=rbf, score=0.603, total=   0.1s\n",
      "[CV] C=0.1, gamma=0.1, kernel=rbf ....................................\n",
      "[CV] ........ C=0.1, gamma=0.1, kernel=rbf, score=0.562, total=   0.1s\n",
      "[CV] C=0.1, gamma=0.1, kernel=rbf ....................................\n",
      "[CV] ........ C=0.1, gamma=0.1, kernel=rbf, score=0.508, total=   0.1s\n",
      "[CV] C=0.1, gamma=0.1, kernel=rbf ....................................\n",
      "[CV] ........ C=0.1, gamma=0.1, kernel=rbf, score=0.500, total=   0.1s\n",
      "[CV] C=0.1, gamma=0.01, kernel=rbf ...................................\n",
      "[CV] ....... C=0.1, gamma=0.01, kernel=rbf, score=0.962, total=   0.1s\n",
      "[CV] C=0.1, gamma=0.01, kernel=rbf ...................................\n",
      "[CV] ....... C=0.1, gamma=0.01, kernel=rbf, score=0.939, total=   0.1s\n",
      "[CV] C=0.1, gamma=0.01, kernel=rbf ...................................\n",
      "[CV] ....... C=0.1, gamma=0.01, kernel=rbf, score=0.923, total=   0.1s\n",
      "[CV] C=0.1, gamma=0.01, kernel=rbf ...................................\n",
      "[CV] ....... C=0.1, gamma=0.01, kernel=rbf, score=0.931, total=   0.1s\n",
      "[CV] C=0.1, gamma=0.01, kernel=rbf ...................................\n",
      "[CV] ....... C=0.1, gamma=0.01, kernel=rbf, score=0.900, total=   0.1s\n",
      "[CV] C=0.1, gamma=0.001, kernel=rbf ..................................\n",
      "[CV] ...... C=0.1, gamma=0.001, kernel=rbf, score=0.908, total=   0.1s\n",
      "[CV] C=0.1, gamma=0.001, kernel=rbf ..................................\n",
      "[CV] ...... C=0.1, gamma=0.001, kernel=rbf, score=0.855, total=   0.1s\n",
      "[CV] C=0.1, gamma=0.001, kernel=rbf ..................................\n",
      "[CV] ...... C=0.1, gamma=0.001, kernel=rbf, score=0.869, total=   0.1s\n",
      "[CV] C=0.1, gamma=0.001, kernel=rbf ..................................\n",
      "[CV] ...... C=0.1, gamma=0.001, kernel=rbf, score=0.885, total=   0.1s\n",
      "[CV] C=0.1, gamma=0.001, kernel=rbf ..................................\n",
      "[CV] ...... C=0.1, gamma=0.001, kernel=rbf, score=0.908, total=   0.1s\n",
      "[CV] C=0.1, gamma=0.0001, kernel=rbf .................................\n",
      "[CV] ..... C=0.1, gamma=0.0001, kernel=rbf, score=0.771, total=   0.1s\n",
      "[CV] C=0.1, gamma=0.0001, kernel=rbf .................................\n",
      "[CV] ..... C=0.1, gamma=0.0001, kernel=rbf, score=0.756, total=   0.1s\n",
      "[CV] C=0.1, gamma=0.0001, kernel=rbf .................................\n",
      "[CV] ..... C=0.1, gamma=0.0001, kernel=rbf, score=0.769, total=   0.1s\n",
      "[CV] C=0.1, gamma=0.0001, kernel=rbf .................................\n",
      "[CV] ..... C=0.1, gamma=0.0001, kernel=rbf, score=0.769, total=   0.1s\n",
      "[CV] C=0.1, gamma=0.0001, kernel=rbf .................................\n",
      "[CV] ..... C=0.1, gamma=0.0001, kernel=rbf, score=0.815, total=   0.1s\n",
      "[CV] C=10, gamma=1, kernel=rbf .......................................\n",
      "[CV] ........... C=10, gamma=1, kernel=rbf, score=0.626, total=   0.1s\n",
      "[CV] C=10, gamma=1, kernel=rbf .......................................\n",
      "[CV] ........... C=10, gamma=1, kernel=rbf, score=0.504, total=   0.1s\n",
      "[CV] C=10, gamma=1, kernel=rbf .......................................\n",
      "[CV] ........... C=10, gamma=1, kernel=rbf, score=0.500, total=   0.1s\n",
      "[CV] C=10, gamma=1, kernel=rbf .......................................\n",
      "[CV] ........... C=10, gamma=1, kernel=rbf, score=0.500, total=   0.1s\n",
      "[CV] C=10, gamma=1, kernel=rbf .......................................\n",
      "[CV] ........... C=10, gamma=1, kernel=rbf, score=0.500, total=   0.1s\n",
      "[CV] C=10, gamma=0.1, kernel=rbf .....................................\n",
      "[CV] ......... C=10, gamma=0.1, kernel=rbf, score=0.916, total=   0.1s\n",
      "[CV] C=10, gamma=0.1, kernel=rbf .....................................\n",
      "[CV] ......... C=10, gamma=0.1, kernel=rbf, score=0.924, total=   0.1s\n",
      "[CV] C=10, gamma=0.1, kernel=rbf .....................................\n",
      "[CV] ......... C=10, gamma=0.1, kernel=rbf, score=0.885, total=   0.1s\n",
      "[CV] C=10, gamma=0.1, kernel=rbf .....................................\n",
      "[CV] ......... C=10, gamma=0.1, kernel=rbf, score=0.777, total=   0.1s\n",
      "[CV] C=10, gamma=0.1, kernel=rbf .....................................\n",
      "[CV] ......... C=10, gamma=0.1, kernel=rbf, score=0.577, total=   0.1s\n",
      "[CV] C=10, gamma=0.01, kernel=rbf ....................................\n",
      "[CV] ........ C=10, gamma=0.01, kernel=rbf, score=0.908, total=   0.1s\n",
      "[CV] C=10, gamma=0.01, kernel=rbf ....................................\n",
      "[CV] ........ C=10, gamma=0.01, kernel=rbf, score=0.977, total=   0.1s\n",
      "[CV] C=10, gamma=0.01, kernel=rbf ....................................\n"
     ]
    },
    {
     "name": "stdout",
     "output_type": "stream",
     "text": [
      "[CV] ........ C=10, gamma=0.01, kernel=rbf, score=0.992, total=   0.1s\n",
      "[CV] C=10, gamma=0.01, kernel=rbf ....................................\n",
      "[CV] ........ C=10, gamma=0.01, kernel=rbf, score=0.969, total=   0.1s\n",
      "[CV] C=10, gamma=0.01, kernel=rbf ....................................\n",
      "[CV] ........ C=10, gamma=0.01, kernel=rbf, score=0.969, total=   0.1s\n",
      "[CV] C=10, gamma=0.001, kernel=rbf ...................................\n",
      "[CV] ....... C=10, gamma=0.001, kernel=rbf, score=0.969, total=   0.0s\n",
      "[CV] C=10, gamma=0.001, kernel=rbf ...................................\n",
      "[CV] ....... C=10, gamma=0.001, kernel=rbf, score=0.977, total=   0.0s\n",
      "[CV] C=10, gamma=0.001, kernel=rbf ...................................\n",
      "[CV] ....... C=10, gamma=0.001, kernel=rbf, score=0.969, total=   0.0s\n",
      "[CV] C=10, gamma=0.001, kernel=rbf ...................................\n",
      "[CV] ....... C=10, gamma=0.001, kernel=rbf, score=0.969, total=   0.0s\n",
      "[CV] C=10, gamma=0.001, kernel=rbf ...................................\n",
      "[CV] ....... C=10, gamma=0.001, kernel=rbf, score=0.962, total=   0.0s\n",
      "[CV] C=10, gamma=0.0001, kernel=rbf ..................................\n",
      "[CV] ...... C=10, gamma=0.0001, kernel=rbf, score=0.939, total=   0.0s\n",
      "[CV] C=10, gamma=0.0001, kernel=rbf ..................................\n",
      "[CV] ...... C=10, gamma=0.0001, kernel=rbf, score=0.962, total=   0.0s\n",
      "[CV] C=10, gamma=0.0001, kernel=rbf ..................................\n",
      "[CV] ...... C=10, gamma=0.0001, kernel=rbf, score=0.923, total=   0.0s\n",
      "[CV] C=10, gamma=0.0001, kernel=rbf ..................................\n",
      "[CV] ...... C=10, gamma=0.0001, kernel=rbf, score=0.931, total=   0.0s\n",
      "[CV] C=10, gamma=0.0001, kernel=rbf ..................................\n",
      "[CV] ...... C=10, gamma=0.0001, kernel=rbf, score=0.931, total=   0.0s\n",
      "[CV] C=100, gamma=1, kernel=rbf ......................................\n",
      "[CV] .......... C=100, gamma=1, kernel=rbf, score=0.626, total=   0.1s\n",
      "[CV] C=100, gamma=1, kernel=rbf ......................................\n",
      "[CV] .......... C=100, gamma=1, kernel=rbf, score=0.504, total=   0.1s\n",
      "[CV] C=100, gamma=1, kernel=rbf ......................................\n",
      "[CV] .......... C=100, gamma=1, kernel=rbf, score=0.500, total=   0.1s\n",
      "[CV] C=100, gamma=1, kernel=rbf ......................................\n",
      "[CV] .......... C=100, gamma=1, kernel=rbf, score=0.500, total=   0.1s\n",
      "[CV] C=100, gamma=1, kernel=rbf ......................................\n",
      "[CV] .......... C=100, gamma=1, kernel=rbf, score=0.500, total=   0.1s\n",
      "[CV] C=100, gamma=0.1, kernel=rbf ....................................\n",
      "[CV] ........ C=100, gamma=0.1, kernel=rbf, score=0.916, total=   0.1s\n",
      "[CV] C=100, gamma=0.1, kernel=rbf ....................................\n",
      "[CV] ........ C=100, gamma=0.1, kernel=rbf, score=0.924, total=   0.1s\n",
      "[CV] C=100, gamma=0.1, kernel=rbf ....................................\n",
      "[CV] ........ C=100, gamma=0.1, kernel=rbf, score=0.885, total=   0.1s\n",
      "[CV] C=100, gamma=0.1, kernel=rbf ....................................\n",
      "[CV] ........ C=100, gamma=0.1, kernel=rbf, score=0.777, total=   0.1s\n",
      "[CV] C=100, gamma=0.1, kernel=rbf ....................................\n",
      "[CV] ........ C=100, gamma=0.1, kernel=rbf, score=0.577, total=   0.1s\n",
      "[CV] C=100, gamma=0.01, kernel=rbf ...................................\n",
      "[CV] ....... C=100, gamma=0.01, kernel=rbf, score=0.908, total=   0.1s\n",
      "[CV] C=100, gamma=0.01, kernel=rbf ...................................\n",
      "[CV] ....... C=100, gamma=0.01, kernel=rbf, score=0.977, total=   0.1s\n",
      "[CV] C=100, gamma=0.01, kernel=rbf ...................................\n",
      "[CV] ....... C=100, gamma=0.01, kernel=rbf, score=0.992, total=   0.1s\n",
      "[CV] C=100, gamma=0.01, kernel=rbf ...................................\n",
      "[CV] ....... C=100, gamma=0.01, kernel=rbf, score=0.977, total=   0.1s\n",
      "[CV] C=100, gamma=0.01, kernel=rbf ...................................\n",
      "[CV] ....... C=100, gamma=0.01, kernel=rbf, score=0.985, total=   0.1s\n",
      "[CV] C=100, gamma=0.001, kernel=rbf ..................................\n",
      "[CV] ...... C=100, gamma=0.001, kernel=rbf, score=0.947, total=   0.0s\n",
      "[CV] C=100, gamma=0.001, kernel=rbf ..................................\n",
      "[CV] ...... C=100, gamma=0.001, kernel=rbf, score=0.977, total=   0.0s\n",
      "[CV] C=100, gamma=0.001, kernel=rbf ..................................\n",
      "[CV] ...... C=100, gamma=0.001, kernel=rbf, score=0.992, total=   0.0s\n",
      "[CV] C=100, gamma=0.001, kernel=rbf ..................................\n",
      "[CV] ...... C=100, gamma=0.001, kernel=rbf, score=0.977, total=   0.0s\n",
      "[CV] C=100, gamma=0.001, kernel=rbf ..................................\n",
      "[CV] ...... C=100, gamma=0.001, kernel=rbf, score=0.985, total=   0.0s\n",
      "[CV] C=100, gamma=0.0001, kernel=rbf .................................\n",
      "[CV] ..... C=100, gamma=0.0001, kernel=rbf, score=0.969, total=   0.0s\n",
      "[CV] C=100, gamma=0.0001, kernel=rbf .................................\n",
      "[CV] ..... C=100, gamma=0.0001, kernel=rbf, score=0.992, total=   0.0s\n",
      "[CV] C=100, gamma=0.0001, kernel=rbf .................................\n",
      "[CV] ..... C=100, gamma=0.0001, kernel=rbf, score=0.962, total=   0.0s\n",
      "[CV] C=100, gamma=0.0001, kernel=rbf .................................\n",
      "[CV] ..... C=100, gamma=0.0001, kernel=rbf, score=0.969, total=   0.0s\n",
      "[CV] C=100, gamma=0.0001, kernel=rbf .................................\n",
      "[CV] ..... C=100, gamma=0.0001, kernel=rbf, score=0.962, total=   0.0s\n",
      "[CV] C=1000, gamma=1, kernel=rbf .....................................\n",
      "[CV] ......... C=1000, gamma=1, kernel=rbf, score=0.626, total=   0.1s\n",
      "[CV] C=1000, gamma=1, kernel=rbf .....................................\n",
      "[CV] ......... C=1000, gamma=1, kernel=rbf, score=0.504, total=   0.1s\n",
      "[CV] C=1000, gamma=1, kernel=rbf .....................................\n",
      "[CV] ......... C=1000, gamma=1, kernel=rbf, score=0.500, total=   0.1s\n",
      "[CV] C=1000, gamma=1, kernel=rbf .....................................\n",
      "[CV] ......... C=1000, gamma=1, kernel=rbf, score=0.500, total=   0.1s\n",
      "[CV] C=1000, gamma=1, kernel=rbf .....................................\n",
      "[CV] ......... C=1000, gamma=1, kernel=rbf, score=0.500, total=   0.1s\n",
      "[CV] C=1000, gamma=0.1, kernel=rbf ...................................\n",
      "[CV] ....... C=1000, gamma=0.1, kernel=rbf, score=0.916, total=   0.1s\n",
      "[CV] C=1000, gamma=0.1, kernel=rbf ...................................\n",
      "[CV] ....... C=1000, gamma=0.1, kernel=rbf, score=0.924, total=   0.1s\n",
      "[CV] C=1000, gamma=0.1, kernel=rbf ...................................\n",
      "[CV] ....... C=1000, gamma=0.1, kernel=rbf, score=0.885, total=   0.1s\n",
      "[CV] C=1000, gamma=0.1, kernel=rbf ...................................\n",
      "[CV] ....... C=1000, gamma=0.1, kernel=rbf, score=0.777, total=   0.1s\n",
      "[CV] C=1000, gamma=0.1, kernel=rbf ...................................\n",
      "[CV] ....... C=1000, gamma=0.1, kernel=rbf, score=0.577, total=   0.1s\n",
      "[CV] C=1000, gamma=0.01, kernel=rbf ..................................\n",
      "[CV] ...... C=1000, gamma=0.01, kernel=rbf, score=0.908, total=   0.1s\n",
      "[CV] C=1000, gamma=0.01, kernel=rbf ..................................\n",
      "[CV] ...... C=1000, gamma=0.01, kernel=rbf, score=0.977, total=   0.1s\n",
      "[CV] C=1000, gamma=0.01, kernel=rbf ..................................\n",
      "[CV] ...... C=1000, gamma=0.01, kernel=rbf, score=0.992, total=   0.1s\n",
      "[CV] C=1000, gamma=0.01, kernel=rbf ..................................\n",
      "[CV] ...... C=1000, gamma=0.01, kernel=rbf, score=0.977, total=   0.1s\n",
      "[CV] C=1000, gamma=0.01, kernel=rbf ..................................\n",
      "[CV] ...... C=1000, gamma=0.01, kernel=rbf, score=0.985, total=   0.1s\n",
      "[CV] C=1000, gamma=0.001, kernel=rbf .................................\n",
      "[CV] ..... C=1000, gamma=0.001, kernel=rbf, score=0.947, total=   0.0s\n",
      "[CV] C=1000, gamma=0.001, kernel=rbf .................................\n",
      "[CV] ..... C=1000, gamma=0.001, kernel=rbf, score=0.985, total=   0.0s\n",
      "[CV] C=1000, gamma=0.001, kernel=rbf .................................\n",
      "[CV] ..... C=1000, gamma=0.001, kernel=rbf, score=0.992, total=   0.0s\n",
      "[CV] C=1000, gamma=0.001, kernel=rbf .................................\n",
      "[CV] ..... C=1000, gamma=0.001, kernel=rbf, score=0.962, total=   0.0s\n",
      "[CV] C=1000, gamma=0.001, kernel=rbf .................................\n",
      "[CV] ..... C=1000, gamma=0.001, kernel=rbf, score=0.985, total=   0.0s\n",
      "[CV] C=1000, gamma=0.0001, kernel=rbf ................................\n",
      "[CV] .... C=1000, gamma=0.0001, kernel=rbf, score=0.954, total=   0.0s\n",
      "[CV] C=1000, gamma=0.0001, kernel=rbf ................................\n",
      "[CV] .... C=1000, gamma=0.0001, kernel=rbf, score=0.977, total=   0.0s\n",
      "[CV] C=1000, gamma=0.0001, kernel=rbf ................................\n",
      "[CV] .... C=1000, gamma=0.0001, kernel=rbf, score=0.969, total=   0.0s\n",
      "[CV] C=1000, gamma=0.0001, kernel=rbf ................................\n",
      "[CV] .... C=1000, gamma=0.0001, kernel=rbf, score=0.985, total=   0.0s\n",
      "[CV] C=1000, gamma=0.0001, kernel=rbf ................................\n",
      "[CV] .... C=1000, gamma=0.0001, kernel=rbf, score=0.977, total=   0.0s\n"
     ]
    },
    {
     "name": "stderr",
     "output_type": "stream",
     "text": [
      "[Parallel(n_jobs=1)]: Done 125 out of 125 | elapsed:    9.1s finished\n"
     ]
    },
    {
     "data": {
      "text/plain": [
       "GridSearchCV(estimator=SVC(),\n",
       "             param_grid={'C': [1, 0.1, 10, 100, 1000],\n",
       "                         'gamma': [1, 0.1, 0.01, 0.001, 0.0001],\n",
       "                         'kernel': ['rbf']},\n",
       "             verbose=3)"
      ]
     },
     "execution_count": 58,
     "metadata": {},
     "output_type": "execute_result"
    }
   ],
   "source": [
    "grid_search = GridSearchCV(SVC(),param_grid,refit=True,verbose=3)\n",
    "grid_search.fit(X_train_transformed,y_train)"
   ]
  },
  {
   "cell_type": "code",
   "execution_count": 59,
   "id": "bccea1a2",
   "metadata": {},
   "outputs": [
    {
     "data": {
      "text/plain": [
       "0.9755020551967117"
      ]
     },
     "execution_count": 59,
     "metadata": {},
     "output_type": "execute_result"
    }
   ],
   "source": [
    "grid_search.best_score_"
   ]
  },
  {
   "cell_type": "code",
   "execution_count": 60,
   "id": "7120c03e",
   "metadata": {},
   "outputs": [
    {
     "data": {
      "text/plain": [
       "SVC(C=1, gamma=0.01, random_state=4)"
      ]
     },
     "execution_count": 60,
     "metadata": {},
     "output_type": "execute_result"
    }
   ],
   "source": [
    "svm = SVC(C=1,gamma=0.01,kernel='rbf',random_state=4)\n",
    "svm.fit(X_train_transformed,y_train)"
   ]
  },
  {
   "cell_type": "code",
   "execution_count": 61,
   "id": "7947412e",
   "metadata": {},
   "outputs": [
    {
     "data": {
      "text/plain": [
       "array([0, 0, 0, 0, 0, 0, 0, 0, 0, 0, 0, 0, 0, 0, 0, 0, 0, 0, 0, 0, 0, 0,\n",
       "       0, 0, 0, 0, 0, 0, 0, 0, 0, 0, 0, 0, 0, 0, 0, 0, 0, 0, 0, 0, 0, 0,\n",
       "       0, 0, 0, 0, 0, 0, 0, 0, 0, 0, 0, 0, 0, 0, 0, 0, 0, 0, 0, 0, 0, 0,\n",
       "       0, 0, 0, 0, 0, 0, 0, 0, 0, 0, 0, 0, 0, 0, 0, 0, 0, 0, 0, 0, 0, 0,\n",
       "       0, 0, 0, 0, 0, 0, 0, 0, 0, 0, 0, 0, 0, 0, 0, 0, 0, 0, 0, 0, 0, 0,\n",
       "       0, 0, 0, 0, 0, 0, 0, 0, 0, 0, 0, 0, 0, 0, 0, 0, 0, 0, 0, 0, 0, 0,\n",
       "       0, 0, 0, 0, 1, 0, 0, 0, 0, 0, 0, 0, 0, 0, 0, 0, 0, 0, 0, 0, 0, 0,\n",
       "       0, 0, 0, 0, 0, 0, 0, 0, 0, 0, 0, 0, 0, 0, 0, 0, 0, 0, 0, 0, 1, 1,\n",
       "       1, 1, 1, 1, 0, 1, 1, 1, 1, 1, 1, 1, 1, 1, 1, 1, 0, 1, 1, 1, 1, 1,\n",
       "       1, 1, 1, 1, 1, 1, 1, 1, 1, 0, 0, 1, 1, 1, 1, 1, 1, 1, 1, 1, 1, 1,\n",
       "       1, 1, 1, 1, 1, 1, 1, 1, 1, 1, 0, 1, 1, 1, 1, 1, 1, 1, 1, 1, 1, 1,\n",
       "       1, 1, 1, 1, 1, 1, 1, 1, 1, 0, 1, 1, 1, 1, 0, 0, 0, 1, 1, 1, 0, 1,\n",
       "       1, 1, 0, 1, 1, 1, 1, 1, 1, 1, 1, 1, 1, 1, 1, 1, 1, 1, 1, 1, 0, 1,\n",
       "       1, 1, 1, 1, 1, 1, 1, 0, 1, 1, 1, 1, 1, 1, 1, 0, 1, 1, 0, 1, 1, 1,\n",
       "       0, 1, 1, 1, 1, 1, 0, 1, 1, 1, 1, 1, 1, 1, 1, 0, 1, 1, 1, 1, 0, 0,\n",
       "       1, 1, 1, 1, 1, 1, 1, 1, 1, 1, 0, 1, 1, 1, 1, 1, 1, 0])"
      ]
     },
     "execution_count": 61,
     "metadata": {},
     "output_type": "execute_result"
    }
   ],
   "source": [
    "optimized_svm_pred = svm.predict(X_test_transformed)\n",
    "optimized_svm_pred"
   ]
  },
  {
   "cell_type": "code",
   "execution_count": 62,
   "id": "9deb0167",
   "metadata": {},
   "outputs": [
    {
     "name": "stdout",
     "output_type": "stream",
     "text": [
      "[[173   1]\n",
      " [ 22 152]]\n",
      "              precision    recall  f1-score   support\n",
      "\n",
      "           0       0.89      0.99      0.94       174\n",
      "           1       0.99      0.87      0.93       174\n",
      "\n",
      "    accuracy                           0.93       348\n",
      "   macro avg       0.94      0.93      0.93       348\n",
      "weighted avg       0.94      0.93      0.93       348\n",
      "\n"
     ]
    }
   ],
   "source": [
    "print(confusion_matrix(y_test,optimized_svm_pred))\n",
    "print(classification_report(y_test,optimized_svm_pred))"
   ]
  },
  {
   "cell_type": "code",
   "execution_count": 63,
   "id": "2a26b0b4",
   "metadata": {},
   "outputs": [],
   "source": [
    "param_grid = {'n_neighbors': [3,4,5,6,7],\n",
    "             'weights': ['uniform','distance'],\n",
    "             'algorithm': ['auto', 'ball_tree', 'kd_tree', 'brute'],\n",
    "             'p': [1,2]}"
   ]
  },
  {
   "cell_type": "code",
   "execution_count": 64,
   "id": "0012c8d9",
   "metadata": {},
   "outputs": [
    {
     "name": "stdout",
     "output_type": "stream",
     "text": [
      "Fitting 5 folds for each of 80 candidates, totalling 400 fits\n",
      "[CV] algorithm=auto, n_neighbors=3, p=1, weights=uniform .............\n",
      "[CV]  algorithm=auto, n_neighbors=3, p=1, weights=uniform, score=0.840, total=   0.0s\n",
      "[CV] algorithm=auto, n_neighbors=3, p=1, weights=uniform .............\n",
      "[CV]  algorithm=auto, n_neighbors=3, p=1, weights=uniform, score=0.863, total=   0.0s\n",
      "[CV] algorithm=auto, n_neighbors=3, p=1, weights=uniform .............\n",
      "[CV]  algorithm=auto, n_neighbors=3, p=1, weights=uniform, score=0.908, total=   0.0s\n",
      "[CV] algorithm=auto, n_neighbors=3, p=1, weights=uniform .............\n",
      "[CV]  algorithm=auto, n_neighbors=3, p=1, weights=uniform, score=0.900, total=   0.0s\n",
      "[CV] algorithm=auto, n_neighbors=3, p=1, weights=uniform .............\n",
      "[CV]  algorithm=auto, n_neighbors=3, p=1, weights=uniform, score=0.931, total=   0.0s\n",
      "[CV] algorithm=auto, n_neighbors=3, p=1, weights=distance ............\n",
      "[CV]  algorithm=auto, n_neighbors=3, p=1, weights=distance, score=0.847, total=   0.0s\n",
      "[CV] algorithm=auto, n_neighbors=3, p=1, weights=distance ............\n",
      "[CV]  algorithm=auto, n_neighbors=3, p=1, weights=distance, score=0.893, total=   0.0s\n",
      "[CV] algorithm=auto, n_neighbors=3, p=1, weights=distance ............\n",
      "[CV]  algorithm=auto, n_neighbors=3, p=1, weights=distance, score=0.915, total=   0.0s\n",
      "[CV] algorithm=auto, n_neighbors=3, p=1, weights=distance ............\n",
      "[CV]  algorithm=auto, n_neighbors=3, p=1, weights=distance, score=0.923, total=   0.0s\n",
      "[CV] algorithm=auto, n_neighbors=3, p=1, weights=distance ............\n",
      "[CV]  algorithm=auto, n_neighbors=3, p=1, weights=distance, score=0.962, total=   0.0s\n",
      "[CV] algorithm=auto, n_neighbors=3, p=2, weights=uniform .............\n",
      "[CV]  algorithm=auto, n_neighbors=3, p=2, weights=uniform, score=0.878, total=   0.0s\n",
      "[CV] algorithm=auto, n_neighbors=3, p=2, weights=uniform .............\n",
      "[CV]  algorithm=auto, n_neighbors=3, p=2, weights=uniform, score=0.878, total=   0.0s\n",
      "[CV] algorithm=auto, n_neighbors=3, p=2, weights=uniform .............\n",
      "[CV]  algorithm=auto, n_neighbors=3, p=2, weights=uniform, score=0.915, total=   0.0s\n",
      "[CV] algorithm=auto, n_neighbors=3, p=2, weights=uniform .............\n",
      "[CV]  algorithm=auto, n_neighbors=3, p=2, weights=uniform, score=0.938, total=   0.0s\n",
      "[CV] algorithm=auto, n_neighbors=3, p=2, weights=uniform .............\n",
      "[CV]  algorithm=auto, n_neighbors=3, p=2, weights=uniform, score=0.931, total=   0.0s\n",
      "[CV] algorithm=auto, n_neighbors=3, p=2, weights=distance ............\n"
     ]
    },
    {
     "name": "stderr",
     "output_type": "stream",
     "text": [
      "[Parallel(n_jobs=1)]: Using backend SequentialBackend with 1 concurrent workers.\n",
      "[Parallel(n_jobs=1)]: Done   1 out of   1 | elapsed:    0.0s remaining:    0.0s\n",
      "[Parallel(n_jobs=1)]: Done   2 out of   2 | elapsed:    0.0s remaining:    0.0s\n",
      "[Parallel(n_jobs=1)]: Done   3 out of   3 | elapsed:    0.0s remaining:    0.0s\n"
     ]
    },
    {
     "name": "stdout",
     "output_type": "stream",
     "text": [
      "[CV]  algorithm=auto, n_neighbors=3, p=2, weights=distance, score=0.878, total=   0.0s\n",
      "[CV] algorithm=auto, n_neighbors=3, p=2, weights=distance ............\n",
      "[CV]  algorithm=auto, n_neighbors=3, p=2, weights=distance, score=0.893, total=   0.0s\n",
      "[CV] algorithm=auto, n_neighbors=3, p=2, weights=distance ............\n",
      "[CV]  algorithm=auto, n_neighbors=3, p=2, weights=distance, score=0.923, total=   0.0s\n",
      "[CV] algorithm=auto, n_neighbors=3, p=2, weights=distance ............\n",
      "[CV]  algorithm=auto, n_neighbors=3, p=2, weights=distance, score=0.954, total=   0.0s\n",
      "[CV] algorithm=auto, n_neighbors=3, p=2, weights=distance ............\n",
      "[CV]  algorithm=auto, n_neighbors=3, p=2, weights=distance, score=0.954, total=   0.0s\n",
      "[CV] algorithm=auto, n_neighbors=4, p=1, weights=uniform .............\n",
      "[CV]  algorithm=auto, n_neighbors=4, p=1, weights=uniform, score=0.809, total=   0.0s\n",
      "[CV] algorithm=auto, n_neighbors=4, p=1, weights=uniform .............\n",
      "[CV]  algorithm=auto, n_neighbors=4, p=1, weights=uniform, score=0.847, total=   0.0s\n",
      "[CV] algorithm=auto, n_neighbors=4, p=1, weights=uniform .............\n",
      "[CV]  algorithm=auto, n_neighbors=4, p=1, weights=uniform, score=0.892, total=   0.0s\n",
      "[CV] algorithm=auto, n_neighbors=4, p=1, weights=uniform .............\n",
      "[CV]  algorithm=auto, n_neighbors=4, p=1, weights=uniform, score=0.931, total=   0.0s\n",
      "[CV] algorithm=auto, n_neighbors=4, p=1, weights=uniform .............\n",
      "[CV]  algorithm=auto, n_neighbors=4, p=1, weights=uniform, score=0.923, total=   0.0s\n",
      "[CV] algorithm=auto, n_neighbors=4, p=1, weights=distance ............\n",
      "[CV]  algorithm=auto, n_neighbors=4, p=1, weights=distance, score=0.855, total=   0.0s\n",
      "[CV] algorithm=auto, n_neighbors=4, p=1, weights=distance ............\n",
      "[CV]  algorithm=auto, n_neighbors=4, p=1, weights=distance, score=0.885, total=   0.0s\n",
      "[CV] algorithm=auto, n_neighbors=4, p=1, weights=distance ............\n",
      "[CV]  algorithm=auto, n_neighbors=4, p=1, weights=distance, score=0.915, total=   0.0s\n",
      "[CV] algorithm=auto, n_neighbors=4, p=1, weights=distance ............\n",
      "[CV]  algorithm=auto, n_neighbors=4, p=1, weights=distance, score=0.908, total=   0.0s\n",
      "[CV] algorithm=auto, n_neighbors=4, p=1, weights=distance ............\n",
      "[CV]  algorithm=auto, n_neighbors=4, p=1, weights=distance, score=0.962, total=   0.0s\n",
      "[CV] algorithm=auto, n_neighbors=4, p=2, weights=uniform .............\n",
      "[CV]  algorithm=auto, n_neighbors=4, p=2, weights=uniform, score=0.863, total=   0.0s\n",
      "[CV] algorithm=auto, n_neighbors=4, p=2, weights=uniform .............\n",
      "[CV]  algorithm=auto, n_neighbors=4, p=2, weights=uniform, score=0.855, total=   0.0s\n",
      "[CV] algorithm=auto, n_neighbors=4, p=2, weights=uniform .............\n",
      "[CV]  algorithm=auto, n_neighbors=4, p=2, weights=uniform, score=0.892, total=   0.0s\n",
      "[CV] algorithm=auto, n_neighbors=4, p=2, weights=uniform .............\n",
      "[CV]  algorithm=auto, n_neighbors=4, p=2, weights=uniform, score=0.938, total=   0.0s\n",
      "[CV] algorithm=auto, n_neighbors=4, p=2, weights=uniform .............\n",
      "[CV]  algorithm=auto, n_neighbors=4, p=2, weights=uniform, score=0.908, total=   0.0s\n",
      "[CV] algorithm=auto, n_neighbors=4, p=2, weights=distance ............\n",
      "[CV]  algorithm=auto, n_neighbors=4, p=2, weights=distance, score=0.878, total=   0.0s\n",
      "[CV] algorithm=auto, n_neighbors=4, p=2, weights=distance ............\n",
      "[CV]  algorithm=auto, n_neighbors=4, p=2, weights=distance, score=0.885, total=   0.0s\n",
      "[CV] algorithm=auto, n_neighbors=4, p=2, weights=distance ............\n",
      "[CV]  algorithm=auto, n_neighbors=4, p=2, weights=distance, score=0.946, total=   0.0s\n",
      "[CV] algorithm=auto, n_neighbors=4, p=2, weights=distance ............\n",
      "[CV]  algorithm=auto, n_neighbors=4, p=2, weights=distance, score=0.938, total=   0.0s\n",
      "[CV] algorithm=auto, n_neighbors=4, p=2, weights=distance ............\n",
      "[CV]  algorithm=auto, n_neighbors=4, p=2, weights=distance, score=0.954, total=   0.0s\n",
      "[CV] algorithm=auto, n_neighbors=5, p=1, weights=uniform .............\n",
      "[CV]  algorithm=auto, n_neighbors=5, p=1, weights=uniform, score=0.824, total=   0.0s\n",
      "[CV] algorithm=auto, n_neighbors=5, p=1, weights=uniform .............\n",
      "[CV]  algorithm=auto, n_neighbors=5, p=1, weights=uniform, score=0.847, total=   0.0s\n",
      "[CV] algorithm=auto, n_neighbors=5, p=1, weights=uniform .............\n",
      "[CV]  algorithm=auto, n_neighbors=5, p=1, weights=uniform, score=0.915, total=   0.0s\n",
      "[CV] algorithm=auto, n_neighbors=5, p=1, weights=uniform .............\n",
      "[CV]  algorithm=auto, n_neighbors=5, p=1, weights=uniform, score=0.923, total=   0.0s\n",
      "[CV] algorithm=auto, n_neighbors=5, p=1, weights=uniform .............\n",
      "[CV]  algorithm=auto, n_neighbors=5, p=1, weights=uniform, score=0.923, total=   0.0s\n",
      "[CV] algorithm=auto, n_neighbors=5, p=1, weights=distance ............\n",
      "[CV]  algorithm=auto, n_neighbors=5, p=1, weights=distance, score=0.840, total=   0.0s\n",
      "[CV] algorithm=auto, n_neighbors=5, p=1, weights=distance ............\n",
      "[CV]  algorithm=auto, n_neighbors=5, p=1, weights=distance, score=0.885, total=   0.0s\n",
      "[CV] algorithm=auto, n_neighbors=5, p=1, weights=distance ............\n",
      "[CV]  algorithm=auto, n_neighbors=5, p=1, weights=distance, score=0.923, total=   0.0s\n",
      "[CV] algorithm=auto, n_neighbors=5, p=1, weights=distance ............\n",
      "[CV]  algorithm=auto, n_neighbors=5, p=1, weights=distance, score=0.946, total=   0.0s\n",
      "[CV] algorithm=auto, n_neighbors=5, p=1, weights=distance ............\n",
      "[CV]  algorithm=auto, n_neighbors=5, p=1, weights=distance, score=0.962, total=   0.0s\n",
      "[CV] algorithm=auto, n_neighbors=5, p=2, weights=uniform .............\n",
      "[CV]  algorithm=auto, n_neighbors=5, p=2, weights=uniform, score=0.863, total=   0.0s\n",
      "[CV] algorithm=auto, n_neighbors=5, p=2, weights=uniform .............\n",
      "[CV]  algorithm=auto, n_neighbors=5, p=2, weights=uniform, score=0.863, total=   0.0s\n",
      "[CV] algorithm=auto, n_neighbors=5, p=2, weights=uniform .............\n",
      "[CV]  algorithm=auto, n_neighbors=5, p=2, weights=uniform, score=0.923, total=   0.0s\n",
      "[CV] algorithm=auto, n_neighbors=5, p=2, weights=uniform .............\n",
      "[CV]  algorithm=auto, n_neighbors=5, p=2, weights=uniform, score=0.938, total=   0.0s\n",
      "[CV] algorithm=auto, n_neighbors=5, p=2, weights=uniform .............\n",
      "[CV]  algorithm=auto, n_neighbors=5, p=2, weights=uniform, score=0.915, total=   0.0s\n",
      "[CV] algorithm=auto, n_neighbors=5, p=2, weights=distance ............\n",
      "[CV]  algorithm=auto, n_neighbors=5, p=2, weights=distance, score=0.870, total=   0.0s\n",
      "[CV] algorithm=auto, n_neighbors=5, p=2, weights=distance ............\n",
      "[CV]  algorithm=auto, n_neighbors=5, p=2, weights=distance, score=0.893, total=   0.0s\n",
      "[CV] algorithm=auto, n_neighbors=5, p=2, weights=distance ............\n",
      "[CV]  algorithm=auto, n_neighbors=5, p=2, weights=distance, score=0.931, total=   0.0s\n",
      "[CV] algorithm=auto, n_neighbors=5, p=2, weights=distance ............\n",
      "[CV]  algorithm=auto, n_neighbors=5, p=2, weights=distance, score=0.962, total=   0.0s\n",
      "[CV] algorithm=auto, n_neighbors=5, p=2, weights=distance ............\n",
      "[CV]  algorithm=auto, n_neighbors=5, p=2, weights=distance, score=0.938, total=   0.0s\n",
      "[CV] algorithm=auto, n_neighbors=6, p=1, weights=uniform .............\n",
      "[CV]  algorithm=auto, n_neighbors=6, p=1, weights=uniform, score=0.756, total=   0.0s\n",
      "[CV] algorithm=auto, n_neighbors=6, p=1, weights=uniform .............\n",
      "[CV]  algorithm=auto, n_neighbors=6, p=1, weights=uniform, score=0.840, total=   0.0s\n",
      "[CV] algorithm=auto, n_neighbors=6, p=1, weights=uniform .............\n",
      "[CV]  algorithm=auto, n_neighbors=6, p=1, weights=uniform, score=0.885, total=   0.0s\n",
      "[CV] algorithm=auto, n_neighbors=6, p=1, weights=uniform .............\n",
      "[CV]  algorithm=auto, n_neighbors=6, p=1, weights=uniform, score=0.892, total=   0.0s\n",
      "[CV] algorithm=auto, n_neighbors=6, p=1, weights=uniform .............\n",
      "[CV]  algorithm=auto, n_neighbors=6, p=1, weights=uniform, score=0.908, total=   0.0s\n",
      "[CV] algorithm=auto, n_neighbors=6, p=1, weights=distance ............\n",
      "[CV]  algorithm=auto, n_neighbors=6, p=1, weights=distance, score=0.840, total=   0.0s\n",
      "[CV] algorithm=auto, n_neighbors=6, p=1, weights=distance ............\n",
      "[CV]  algorithm=auto, n_neighbors=6, p=1, weights=distance, score=0.885, total=   0.0s\n",
      "[CV] algorithm=auto, n_neighbors=6, p=1, weights=distance ............\n",
      "[CV]  algorithm=auto, n_neighbors=6, p=1, weights=distance, score=0.923, total=   0.0s\n",
      "[CV] algorithm=auto, n_neighbors=6, p=1, weights=distance ............\n",
      "[CV]  algorithm=auto, n_neighbors=6, p=1, weights=distance, score=0.938, total=   0.0s\n",
      "[CV] algorithm=auto, n_neighbors=6, p=1, weights=distance ............\n",
      "[CV]  algorithm=auto, n_neighbors=6, p=1, weights=distance, score=0.962, total=   0.0s\n",
      "[CV] algorithm=auto, n_neighbors=6, p=2, weights=uniform .............\n",
      "[CV]  algorithm=auto, n_neighbors=6, p=2, weights=uniform, score=0.840, total=   0.0s\n",
      "[CV] algorithm=auto, n_neighbors=6, p=2, weights=uniform .............\n",
      "[CV]  algorithm=auto, n_neighbors=6, p=2, weights=uniform, score=0.840, total=   0.0s\n",
      "[CV] algorithm=auto, n_neighbors=6, p=2, weights=uniform .............\n",
      "[CV]  algorithm=auto, n_neighbors=6, p=2, weights=uniform, score=0.892, total=   0.0s\n",
      "[CV] algorithm=auto, n_neighbors=6, p=2, weights=uniform .............\n",
      "[CV]  algorithm=auto, n_neighbors=6, p=2, weights=uniform, score=0.931, total=   0.0s\n",
      "[CV] algorithm=auto, n_neighbors=6, p=2, weights=uniform .............\n",
      "[CV]  algorithm=auto, n_neighbors=6, p=2, weights=uniform, score=0.908, total=   0.0s\n",
      "[CV] algorithm=auto, n_neighbors=6, p=2, weights=distance ............\n",
      "[CV]  algorithm=auto, n_neighbors=6, p=2, weights=distance, score=0.870, total=   0.0s\n",
      "[CV] algorithm=auto, n_neighbors=6, p=2, weights=distance ............\n",
      "[CV]  algorithm=auto, n_neighbors=6, p=2, weights=distance, score=0.878, total=   0.0s\n",
      "[CV] algorithm=auto, n_neighbors=6, p=2, weights=distance ............\n",
      "[CV]  algorithm=auto, n_neighbors=6, p=2, weights=distance, score=0.931, total=   0.0s\n",
      "[CV] algorithm=auto, n_neighbors=6, p=2, weights=distance ............\n",
      "[CV]  algorithm=auto, n_neighbors=6, p=2, weights=distance, score=0.938, total=   0.0s\n",
      "[CV] algorithm=auto, n_neighbors=6, p=2, weights=distance ............\n",
      "[CV]  algorithm=auto, n_neighbors=6, p=2, weights=distance, score=0.938, total=   0.0s\n",
      "[CV] algorithm=auto, n_neighbors=7, p=1, weights=uniform .............\n",
      "[CV]  algorithm=auto, n_neighbors=7, p=1, weights=uniform, score=0.779, total=   0.0s\n",
      "[CV] algorithm=auto, n_neighbors=7, p=1, weights=uniform .............\n",
      "[CV]  algorithm=auto, n_neighbors=7, p=1, weights=uniform, score=0.840, total=   0.0s\n",
      "[CV] algorithm=auto, n_neighbors=7, p=1, weights=uniform .............\n",
      "[CV]  algorithm=auto, n_neighbors=7, p=1, weights=uniform, score=0.877, total=   0.0s\n",
      "[CV] algorithm=auto, n_neighbors=7, p=1, weights=uniform .............\n"
     ]
    },
    {
     "name": "stdout",
     "output_type": "stream",
     "text": [
      "[CV]  algorithm=auto, n_neighbors=7, p=1, weights=uniform, score=0.877, total=   0.0s\n",
      "[CV] algorithm=auto, n_neighbors=7, p=1, weights=uniform .............\n",
      "[CV]  algorithm=auto, n_neighbors=7, p=1, weights=uniform, score=0.915, total=   0.0s\n",
      "[CV] algorithm=auto, n_neighbors=7, p=1, weights=distance ............\n",
      "[CV]  algorithm=auto, n_neighbors=7, p=1, weights=distance, score=0.802, total=   0.0s\n",
      "[CV] algorithm=auto, n_neighbors=7, p=1, weights=distance ............\n",
      "[CV]  algorithm=auto, n_neighbors=7, p=1, weights=distance, score=0.878, total=   0.0s\n",
      "[CV] algorithm=auto, n_neighbors=7, p=1, weights=distance ............\n",
      "[CV]  algorithm=auto, n_neighbors=7, p=1, weights=distance, score=0.900, total=   0.0s\n",
      "[CV] algorithm=auto, n_neighbors=7, p=1, weights=distance ............\n",
      "[CV]  algorithm=auto, n_neighbors=7, p=1, weights=distance, score=0.915, total=   0.0s\n",
      "[CV] algorithm=auto, n_neighbors=7, p=1, weights=distance ............\n",
      "[CV]  algorithm=auto, n_neighbors=7, p=1, weights=distance, score=0.954, total=   0.0s\n",
      "[CV] algorithm=auto, n_neighbors=7, p=2, weights=uniform .............\n",
      "[CV]  algorithm=auto, n_neighbors=7, p=2, weights=uniform, score=0.855, total=   0.0s\n",
      "[CV] algorithm=auto, n_neighbors=7, p=2, weights=uniform .............\n",
      "[CV]  algorithm=auto, n_neighbors=7, p=2, weights=uniform, score=0.870, total=   0.0s\n",
      "[CV] algorithm=auto, n_neighbors=7, p=2, weights=uniform .............\n",
      "[CV]  algorithm=auto, n_neighbors=7, p=2, weights=uniform, score=0.908, total=   0.0s\n",
      "[CV] algorithm=auto, n_neighbors=7, p=2, weights=uniform .............\n",
      "[CV]  algorithm=auto, n_neighbors=7, p=2, weights=uniform, score=0.931, total=   0.0s\n",
      "[CV] algorithm=auto, n_neighbors=7, p=2, weights=uniform .............\n",
      "[CV]  algorithm=auto, n_neighbors=7, p=2, weights=uniform, score=0.915, total=   0.0s\n",
      "[CV] algorithm=auto, n_neighbors=7, p=2, weights=distance ............\n",
      "[CV]  algorithm=auto, n_neighbors=7, p=2, weights=distance, score=0.863, total=   0.0s\n",
      "[CV] algorithm=auto, n_neighbors=7, p=2, weights=distance ............\n",
      "[CV]  algorithm=auto, n_neighbors=7, p=2, weights=distance, score=0.878, total=   0.0s\n",
      "[CV] algorithm=auto, n_neighbors=7, p=2, weights=distance ............\n",
      "[CV]  algorithm=auto, n_neighbors=7, p=2, weights=distance, score=0.931, total=   0.0s\n",
      "[CV] algorithm=auto, n_neighbors=7, p=2, weights=distance ............\n",
      "[CV]  algorithm=auto, n_neighbors=7, p=2, weights=distance, score=0.954, total=   0.0s\n",
      "[CV] algorithm=auto, n_neighbors=7, p=2, weights=distance ............\n",
      "[CV]  algorithm=auto, n_neighbors=7, p=2, weights=distance, score=0.938, total=   0.0s\n",
      "[CV] algorithm=ball_tree, n_neighbors=3, p=1, weights=uniform ........\n",
      "[CV]  algorithm=ball_tree, n_neighbors=3, p=1, weights=uniform, score=0.840, total=   0.0s\n",
      "[CV] algorithm=ball_tree, n_neighbors=3, p=1, weights=uniform ........\n",
      "[CV]  algorithm=ball_tree, n_neighbors=3, p=1, weights=uniform, score=0.863, total=   0.0s\n",
      "[CV] algorithm=ball_tree, n_neighbors=3, p=1, weights=uniform ........\n",
      "[CV]  algorithm=ball_tree, n_neighbors=3, p=1, weights=uniform, score=0.908, total=   0.0s\n",
      "[CV] algorithm=ball_tree, n_neighbors=3, p=1, weights=uniform ........\n",
      "[CV]  algorithm=ball_tree, n_neighbors=3, p=1, weights=uniform, score=0.900, total=   0.0s\n",
      "[CV] algorithm=ball_tree, n_neighbors=3, p=1, weights=uniform ........\n",
      "[CV]  algorithm=ball_tree, n_neighbors=3, p=1, weights=uniform, score=0.931, total=   0.0s\n",
      "[CV] algorithm=ball_tree, n_neighbors=3, p=1, weights=distance .......\n",
      "[CV]  algorithm=ball_tree, n_neighbors=3, p=1, weights=distance, score=0.847, total=   0.0s\n",
      "[CV] algorithm=ball_tree, n_neighbors=3, p=1, weights=distance .......\n",
      "[CV]  algorithm=ball_tree, n_neighbors=3, p=1, weights=distance, score=0.893, total=   0.0s\n",
      "[CV] algorithm=ball_tree, n_neighbors=3, p=1, weights=distance .......\n",
      "[CV]  algorithm=ball_tree, n_neighbors=3, p=1, weights=distance, score=0.915, total=   0.0s\n",
      "[CV] algorithm=ball_tree, n_neighbors=3, p=1, weights=distance .......\n",
      "[CV]  algorithm=ball_tree, n_neighbors=3, p=1, weights=distance, score=0.923, total=   0.0s\n",
      "[CV] algorithm=ball_tree, n_neighbors=3, p=1, weights=distance .......\n",
      "[CV]  algorithm=ball_tree, n_neighbors=3, p=1, weights=distance, score=0.962, total=   0.0s\n",
      "[CV] algorithm=ball_tree, n_neighbors=3, p=2, weights=uniform ........\n",
      "[CV]  algorithm=ball_tree, n_neighbors=3, p=2, weights=uniform, score=0.878, total=   0.0s\n",
      "[CV] algorithm=ball_tree, n_neighbors=3, p=2, weights=uniform ........\n",
      "[CV]  algorithm=ball_tree, n_neighbors=3, p=2, weights=uniform, score=0.878, total=   0.0s\n",
      "[CV] algorithm=ball_tree, n_neighbors=3, p=2, weights=uniform ........\n",
      "[CV]  algorithm=ball_tree, n_neighbors=3, p=2, weights=uniform, score=0.915, total=   0.0s\n",
      "[CV] algorithm=ball_tree, n_neighbors=3, p=2, weights=uniform ........\n",
      "[CV]  algorithm=ball_tree, n_neighbors=3, p=2, weights=uniform, score=0.938, total=   0.0s\n",
      "[CV] algorithm=ball_tree, n_neighbors=3, p=2, weights=uniform ........\n",
      "[CV]  algorithm=ball_tree, n_neighbors=3, p=2, weights=uniform, score=0.931, total=   0.0s\n",
      "[CV] algorithm=ball_tree, n_neighbors=3, p=2, weights=distance .......\n",
      "[CV]  algorithm=ball_tree, n_neighbors=3, p=2, weights=distance, score=0.878, total=   0.0s\n",
      "[CV] algorithm=ball_tree, n_neighbors=3, p=2, weights=distance .......\n",
      "[CV]  algorithm=ball_tree, n_neighbors=3, p=2, weights=distance, score=0.893, total=   0.0s\n",
      "[CV] algorithm=ball_tree, n_neighbors=3, p=2, weights=distance .......\n",
      "[CV]  algorithm=ball_tree, n_neighbors=3, p=2, weights=distance, score=0.923, total=   0.0s\n",
      "[CV] algorithm=ball_tree, n_neighbors=3, p=2, weights=distance .......\n",
      "[CV]  algorithm=ball_tree, n_neighbors=3, p=2, weights=distance, score=0.954, total=   0.0s\n",
      "[CV] algorithm=ball_tree, n_neighbors=3, p=2, weights=distance .......\n",
      "[CV]  algorithm=ball_tree, n_neighbors=3, p=2, weights=distance, score=0.954, total=   0.0s\n",
      "[CV] algorithm=ball_tree, n_neighbors=4, p=1, weights=uniform ........\n",
      "[CV]  algorithm=ball_tree, n_neighbors=4, p=1, weights=uniform, score=0.809, total=   0.0s\n",
      "[CV] algorithm=ball_tree, n_neighbors=4, p=1, weights=uniform ........\n",
      "[CV]  algorithm=ball_tree, n_neighbors=4, p=1, weights=uniform, score=0.847, total=   0.0s\n",
      "[CV] algorithm=ball_tree, n_neighbors=4, p=1, weights=uniform ........\n",
      "[CV]  algorithm=ball_tree, n_neighbors=4, p=1, weights=uniform, score=0.892, total=   0.0s\n",
      "[CV] algorithm=ball_tree, n_neighbors=4, p=1, weights=uniform ........\n",
      "[CV]  algorithm=ball_tree, n_neighbors=4, p=1, weights=uniform, score=0.931, total=   0.0s\n",
      "[CV] algorithm=ball_tree, n_neighbors=4, p=1, weights=uniform ........\n",
      "[CV]  algorithm=ball_tree, n_neighbors=4, p=1, weights=uniform, score=0.923, total=   0.0s\n",
      "[CV] algorithm=ball_tree, n_neighbors=4, p=1, weights=distance .......\n",
      "[CV]  algorithm=ball_tree, n_neighbors=4, p=1, weights=distance, score=0.855, total=   0.0s\n",
      "[CV] algorithm=ball_tree, n_neighbors=4, p=1, weights=distance .......\n",
      "[CV]  algorithm=ball_tree, n_neighbors=4, p=1, weights=distance, score=0.885, total=   0.0s\n",
      "[CV] algorithm=ball_tree, n_neighbors=4, p=1, weights=distance .......\n",
      "[CV]  algorithm=ball_tree, n_neighbors=4, p=1, weights=distance, score=0.915, total=   0.0s\n",
      "[CV] algorithm=ball_tree, n_neighbors=4, p=1, weights=distance .......\n",
      "[CV]  algorithm=ball_tree, n_neighbors=4, p=1, weights=distance, score=0.908, total=   0.0s\n",
      "[CV] algorithm=ball_tree, n_neighbors=4, p=1, weights=distance .......\n",
      "[CV]  algorithm=ball_tree, n_neighbors=4, p=1, weights=distance, score=0.962, total=   0.0s\n",
      "[CV] algorithm=ball_tree, n_neighbors=4, p=2, weights=uniform ........\n",
      "[CV]  algorithm=ball_tree, n_neighbors=4, p=2, weights=uniform, score=0.863, total=   0.0s\n",
      "[CV] algorithm=ball_tree, n_neighbors=4, p=2, weights=uniform ........\n",
      "[CV]  algorithm=ball_tree, n_neighbors=4, p=2, weights=uniform, score=0.855, total=   0.0s\n",
      "[CV] algorithm=ball_tree, n_neighbors=4, p=2, weights=uniform ........\n",
      "[CV]  algorithm=ball_tree, n_neighbors=4, p=2, weights=uniform, score=0.892, total=   0.0s\n",
      "[CV] algorithm=ball_tree, n_neighbors=4, p=2, weights=uniform ........\n",
      "[CV]  algorithm=ball_tree, n_neighbors=4, p=2, weights=uniform, score=0.938, total=   0.0s\n",
      "[CV] algorithm=ball_tree, n_neighbors=4, p=2, weights=uniform ........\n",
      "[CV]  algorithm=ball_tree, n_neighbors=4, p=2, weights=uniform, score=0.908, total=   0.0s\n",
      "[CV] algorithm=ball_tree, n_neighbors=4, p=2, weights=distance .......\n",
      "[CV]  algorithm=ball_tree, n_neighbors=4, p=2, weights=distance, score=0.878, total=   0.0s\n",
      "[CV] algorithm=ball_tree, n_neighbors=4, p=2, weights=distance .......\n",
      "[CV]  algorithm=ball_tree, n_neighbors=4, p=2, weights=distance, score=0.885, total=   0.0s\n",
      "[CV] algorithm=ball_tree, n_neighbors=4, p=2, weights=distance .......\n",
      "[CV]  algorithm=ball_tree, n_neighbors=4, p=2, weights=distance, score=0.946, total=   0.0s\n",
      "[CV] algorithm=ball_tree, n_neighbors=4, p=2, weights=distance .......\n",
      "[CV]  algorithm=ball_tree, n_neighbors=4, p=2, weights=distance, score=0.938, total=   0.0s\n",
      "[CV] algorithm=ball_tree, n_neighbors=4, p=2, weights=distance .......\n"
     ]
    },
    {
     "name": "stdout",
     "output_type": "stream",
     "text": [
      "[CV]  algorithm=ball_tree, n_neighbors=4, p=2, weights=distance, score=0.954, total=   0.0s\n",
      "[CV] algorithm=ball_tree, n_neighbors=5, p=1, weights=uniform ........\n",
      "[CV]  algorithm=ball_tree, n_neighbors=5, p=1, weights=uniform, score=0.824, total=   0.0s\n",
      "[CV] algorithm=ball_tree, n_neighbors=5, p=1, weights=uniform ........\n",
      "[CV]  algorithm=ball_tree, n_neighbors=5, p=1, weights=uniform, score=0.847, total=   0.0s\n",
      "[CV] algorithm=ball_tree, n_neighbors=5, p=1, weights=uniform ........\n",
      "[CV]  algorithm=ball_tree, n_neighbors=5, p=1, weights=uniform, score=0.915, total=   0.0s\n",
      "[CV] algorithm=ball_tree, n_neighbors=5, p=1, weights=uniform ........\n",
      "[CV]  algorithm=ball_tree, n_neighbors=5, p=1, weights=uniform, score=0.923, total=   0.0s\n",
      "[CV] algorithm=ball_tree, n_neighbors=5, p=1, weights=uniform ........\n",
      "[CV]  algorithm=ball_tree, n_neighbors=5, p=1, weights=uniform, score=0.923, total=   0.0s\n",
      "[CV] algorithm=ball_tree, n_neighbors=5, p=1, weights=distance .......\n",
      "[CV]  algorithm=ball_tree, n_neighbors=5, p=1, weights=distance, score=0.840, total=   0.0s\n",
      "[CV] algorithm=ball_tree, n_neighbors=5, p=1, weights=distance .......\n",
      "[CV]  algorithm=ball_tree, n_neighbors=5, p=1, weights=distance, score=0.885, total=   0.0s\n",
      "[CV] algorithm=ball_tree, n_neighbors=5, p=1, weights=distance .......\n",
      "[CV]  algorithm=ball_tree, n_neighbors=5, p=1, weights=distance, score=0.923, total=   0.0s\n",
      "[CV] algorithm=ball_tree, n_neighbors=5, p=1, weights=distance .......\n",
      "[CV]  algorithm=ball_tree, n_neighbors=5, p=1, weights=distance, score=0.946, total=   0.0s\n",
      "[CV] algorithm=ball_tree, n_neighbors=5, p=1, weights=distance .......\n",
      "[CV]  algorithm=ball_tree, n_neighbors=5, p=1, weights=distance, score=0.962, total=   0.0s\n",
      "[CV] algorithm=ball_tree, n_neighbors=5, p=2, weights=uniform ........\n",
      "[CV]  algorithm=ball_tree, n_neighbors=5, p=2, weights=uniform, score=0.863, total=   0.0s\n",
      "[CV] algorithm=ball_tree, n_neighbors=5, p=2, weights=uniform ........\n",
      "[CV]  algorithm=ball_tree, n_neighbors=5, p=2, weights=uniform, score=0.863, total=   0.0s\n",
      "[CV] algorithm=ball_tree, n_neighbors=5, p=2, weights=uniform ........\n",
      "[CV]  algorithm=ball_tree, n_neighbors=5, p=2, weights=uniform, score=0.923, total=   0.0s\n",
      "[CV] algorithm=ball_tree, n_neighbors=5, p=2, weights=uniform ........\n",
      "[CV]  algorithm=ball_tree, n_neighbors=5, p=2, weights=uniform, score=0.938, total=   0.0s\n",
      "[CV] algorithm=ball_tree, n_neighbors=5, p=2, weights=uniform ........\n",
      "[CV]  algorithm=ball_tree, n_neighbors=5, p=2, weights=uniform, score=0.915, total=   0.0s\n",
      "[CV] algorithm=ball_tree, n_neighbors=5, p=2, weights=distance .......\n",
      "[CV]  algorithm=ball_tree, n_neighbors=5, p=2, weights=distance, score=0.870, total=   0.0s\n",
      "[CV] algorithm=ball_tree, n_neighbors=5, p=2, weights=distance .......\n",
      "[CV]  algorithm=ball_tree, n_neighbors=5, p=2, weights=distance, score=0.893, total=   0.0s\n",
      "[CV] algorithm=ball_tree, n_neighbors=5, p=2, weights=distance .......\n",
      "[CV]  algorithm=ball_tree, n_neighbors=5, p=2, weights=distance, score=0.931, total=   0.0s\n",
      "[CV] algorithm=ball_tree, n_neighbors=5, p=2, weights=distance .......\n",
      "[CV]  algorithm=ball_tree, n_neighbors=5, p=2, weights=distance, score=0.962, total=   0.0s\n",
      "[CV] algorithm=ball_tree, n_neighbors=5, p=2, weights=distance .......\n",
      "[CV]  algorithm=ball_tree, n_neighbors=5, p=2, weights=distance, score=0.938, total=   0.0s\n",
      "[CV] algorithm=ball_tree, n_neighbors=6, p=1, weights=uniform ........\n",
      "[CV]  algorithm=ball_tree, n_neighbors=6, p=1, weights=uniform, score=0.756, total=   0.0s\n",
      "[CV] algorithm=ball_tree, n_neighbors=6, p=1, weights=uniform ........\n",
      "[CV]  algorithm=ball_tree, n_neighbors=6, p=1, weights=uniform, score=0.840, total=   0.0s\n",
      "[CV] algorithm=ball_tree, n_neighbors=6, p=1, weights=uniform ........\n",
      "[CV]  algorithm=ball_tree, n_neighbors=6, p=1, weights=uniform, score=0.885, total=   0.0s\n",
      "[CV] algorithm=ball_tree, n_neighbors=6, p=1, weights=uniform ........\n",
      "[CV]  algorithm=ball_tree, n_neighbors=6, p=1, weights=uniform, score=0.892, total=   0.0s\n",
      "[CV] algorithm=ball_tree, n_neighbors=6, p=1, weights=uniform ........\n",
      "[CV]  algorithm=ball_tree, n_neighbors=6, p=1, weights=uniform, score=0.908, total=   0.0s\n",
      "[CV] algorithm=ball_tree, n_neighbors=6, p=1, weights=distance .......\n",
      "[CV]  algorithm=ball_tree, n_neighbors=6, p=1, weights=distance, score=0.840, total=   0.0s\n",
      "[CV] algorithm=ball_tree, n_neighbors=6, p=1, weights=distance .......\n",
      "[CV]  algorithm=ball_tree, n_neighbors=6, p=1, weights=distance, score=0.885, total=   0.0s\n",
      "[CV] algorithm=ball_tree, n_neighbors=6, p=1, weights=distance .......\n",
      "[CV]  algorithm=ball_tree, n_neighbors=6, p=1, weights=distance, score=0.923, total=   0.0s\n",
      "[CV] algorithm=ball_tree, n_neighbors=6, p=1, weights=distance .......\n",
      "[CV]  algorithm=ball_tree, n_neighbors=6, p=1, weights=distance, score=0.938, total=   0.0s\n",
      "[CV] algorithm=ball_tree, n_neighbors=6, p=1, weights=distance .......\n",
      "[CV]  algorithm=ball_tree, n_neighbors=6, p=1, weights=distance, score=0.962, total=   0.0s\n",
      "[CV] algorithm=ball_tree, n_neighbors=6, p=2, weights=uniform ........\n",
      "[CV]  algorithm=ball_tree, n_neighbors=6, p=2, weights=uniform, score=0.840, total=   0.0s\n",
      "[CV] algorithm=ball_tree, n_neighbors=6, p=2, weights=uniform ........\n",
      "[CV]  algorithm=ball_tree, n_neighbors=6, p=2, weights=uniform, score=0.840, total=   0.0s\n",
      "[CV] algorithm=ball_tree, n_neighbors=6, p=2, weights=uniform ........\n",
      "[CV]  algorithm=ball_tree, n_neighbors=6, p=2, weights=uniform, score=0.892, total=   0.0s\n",
      "[CV] algorithm=ball_tree, n_neighbors=6, p=2, weights=uniform ........\n",
      "[CV]  algorithm=ball_tree, n_neighbors=6, p=2, weights=uniform, score=0.931, total=   0.0s\n",
      "[CV] algorithm=ball_tree, n_neighbors=6, p=2, weights=uniform ........\n",
      "[CV]  algorithm=ball_tree, n_neighbors=6, p=2, weights=uniform, score=0.908, total=   0.0s\n",
      "[CV] algorithm=ball_tree, n_neighbors=6, p=2, weights=distance .......\n",
      "[CV]  algorithm=ball_tree, n_neighbors=6, p=2, weights=distance, score=0.870, total=   0.0s\n",
      "[CV] algorithm=ball_tree, n_neighbors=6, p=2, weights=distance .......\n",
      "[CV]  algorithm=ball_tree, n_neighbors=6, p=2, weights=distance, score=0.878, total=   0.0s\n",
      "[CV] algorithm=ball_tree, n_neighbors=6, p=2, weights=distance .......\n",
      "[CV]  algorithm=ball_tree, n_neighbors=6, p=2, weights=distance, score=0.931, total=   0.0s\n",
      "[CV] algorithm=ball_tree, n_neighbors=6, p=2, weights=distance .......\n",
      "[CV]  algorithm=ball_tree, n_neighbors=6, p=2, weights=distance, score=0.938, total=   0.0s\n",
      "[CV] algorithm=ball_tree, n_neighbors=6, p=2, weights=distance .......\n",
      "[CV]  algorithm=ball_tree, n_neighbors=6, p=2, weights=distance, score=0.938, total=   0.0s\n",
      "[CV] algorithm=ball_tree, n_neighbors=7, p=1, weights=uniform ........\n",
      "[CV]  algorithm=ball_tree, n_neighbors=7, p=1, weights=uniform, score=0.779, total=   0.0s\n",
      "[CV] algorithm=ball_tree, n_neighbors=7, p=1, weights=uniform ........\n",
      "[CV]  algorithm=ball_tree, n_neighbors=7, p=1, weights=uniform, score=0.840, total=   0.0s\n",
      "[CV] algorithm=ball_tree, n_neighbors=7, p=1, weights=uniform ........\n",
      "[CV]  algorithm=ball_tree, n_neighbors=7, p=1, weights=uniform, score=0.877, total=   0.0s\n",
      "[CV] algorithm=ball_tree, n_neighbors=7, p=1, weights=uniform ........\n",
      "[CV]  algorithm=ball_tree, n_neighbors=7, p=1, weights=uniform, score=0.877, total=   0.0s\n",
      "[CV] algorithm=ball_tree, n_neighbors=7, p=1, weights=uniform ........\n",
      "[CV]  algorithm=ball_tree, n_neighbors=7, p=1, weights=uniform, score=0.915, total=   0.0s\n",
      "[CV] algorithm=ball_tree, n_neighbors=7, p=1, weights=distance .......\n",
      "[CV]  algorithm=ball_tree, n_neighbors=7, p=1, weights=distance, score=0.802, total=   0.0s\n",
      "[CV] algorithm=ball_tree, n_neighbors=7, p=1, weights=distance .......\n",
      "[CV]  algorithm=ball_tree, n_neighbors=7, p=1, weights=distance, score=0.878, total=   0.0s\n",
      "[CV] algorithm=ball_tree, n_neighbors=7, p=1, weights=distance .......\n",
      "[CV]  algorithm=ball_tree, n_neighbors=7, p=1, weights=distance, score=0.900, total=   0.0s\n",
      "[CV] algorithm=ball_tree, n_neighbors=7, p=1, weights=distance .......\n",
      "[CV]  algorithm=ball_tree, n_neighbors=7, p=1, weights=distance, score=0.915, total=   0.0s\n",
      "[CV] algorithm=ball_tree, n_neighbors=7, p=1, weights=distance .......\n",
      "[CV]  algorithm=ball_tree, n_neighbors=7, p=1, weights=distance, score=0.954, total=   0.0s\n",
      "[CV] algorithm=ball_tree, n_neighbors=7, p=2, weights=uniform ........\n",
      "[CV]  algorithm=ball_tree, n_neighbors=7, p=2, weights=uniform, score=0.855, total=   0.0s\n",
      "[CV] algorithm=ball_tree, n_neighbors=7, p=2, weights=uniform ........\n"
     ]
    },
    {
     "name": "stdout",
     "output_type": "stream",
     "text": [
      "[CV]  algorithm=ball_tree, n_neighbors=7, p=2, weights=uniform, score=0.870, total=   0.0s\n",
      "[CV] algorithm=ball_tree, n_neighbors=7, p=2, weights=uniform ........\n",
      "[CV]  algorithm=ball_tree, n_neighbors=7, p=2, weights=uniform, score=0.908, total=   0.0s\n",
      "[CV] algorithm=ball_tree, n_neighbors=7, p=2, weights=uniform ........\n",
      "[CV]  algorithm=ball_tree, n_neighbors=7, p=2, weights=uniform, score=0.931, total=   0.0s\n",
      "[CV] algorithm=ball_tree, n_neighbors=7, p=2, weights=uniform ........\n",
      "[CV]  algorithm=ball_tree, n_neighbors=7, p=2, weights=uniform, score=0.915, total=   0.0s\n",
      "[CV] algorithm=ball_tree, n_neighbors=7, p=2, weights=distance .......\n",
      "[CV]  algorithm=ball_tree, n_neighbors=7, p=2, weights=distance, score=0.863, total=   0.0s\n",
      "[CV] algorithm=ball_tree, n_neighbors=7, p=2, weights=distance .......\n",
      "[CV]  algorithm=ball_tree, n_neighbors=7, p=2, weights=distance, score=0.878, total=   0.0s\n",
      "[CV] algorithm=ball_tree, n_neighbors=7, p=2, weights=distance .......\n",
      "[CV]  algorithm=ball_tree, n_neighbors=7, p=2, weights=distance, score=0.931, total=   0.0s\n",
      "[CV] algorithm=ball_tree, n_neighbors=7, p=2, weights=distance .......\n",
      "[CV]  algorithm=ball_tree, n_neighbors=7, p=2, weights=distance, score=0.954, total=   0.0s\n",
      "[CV] algorithm=ball_tree, n_neighbors=7, p=2, weights=distance .......\n",
      "[CV]  algorithm=ball_tree, n_neighbors=7, p=2, weights=distance, score=0.938, total=   0.0s\n",
      "[CV] algorithm=kd_tree, n_neighbors=3, p=1, weights=uniform ..........\n",
      "[CV]  algorithm=kd_tree, n_neighbors=3, p=1, weights=uniform, score=0.840, total=   0.0s\n",
      "[CV] algorithm=kd_tree, n_neighbors=3, p=1, weights=uniform ..........\n",
      "[CV]  algorithm=kd_tree, n_neighbors=3, p=1, weights=uniform, score=0.863, total=   0.0s\n",
      "[CV] algorithm=kd_tree, n_neighbors=3, p=1, weights=uniform ..........\n",
      "[CV]  algorithm=kd_tree, n_neighbors=3, p=1, weights=uniform, score=0.908, total=   0.0s\n",
      "[CV] algorithm=kd_tree, n_neighbors=3, p=1, weights=uniform ..........\n",
      "[CV]  algorithm=kd_tree, n_neighbors=3, p=1, weights=uniform, score=0.900, total=   0.0s\n",
      "[CV] algorithm=kd_tree, n_neighbors=3, p=1, weights=uniform ..........\n",
      "[CV]  algorithm=kd_tree, n_neighbors=3, p=1, weights=uniform, score=0.931, total=   0.0s\n",
      "[CV] algorithm=kd_tree, n_neighbors=3, p=1, weights=distance .........\n",
      "[CV]  algorithm=kd_tree, n_neighbors=3, p=1, weights=distance, score=0.847, total=   0.0s\n",
      "[CV] algorithm=kd_tree, n_neighbors=3, p=1, weights=distance .........\n",
      "[CV]  algorithm=kd_tree, n_neighbors=3, p=1, weights=distance, score=0.893, total=   0.0s\n",
      "[CV] algorithm=kd_tree, n_neighbors=3, p=1, weights=distance .........\n",
      "[CV]  algorithm=kd_tree, n_neighbors=3, p=1, weights=distance, score=0.915, total=   0.0s\n",
      "[CV] algorithm=kd_tree, n_neighbors=3, p=1, weights=distance .........\n",
      "[CV]  algorithm=kd_tree, n_neighbors=3, p=1, weights=distance, score=0.923, total=   0.0s\n",
      "[CV] algorithm=kd_tree, n_neighbors=3, p=1, weights=distance .........\n",
      "[CV]  algorithm=kd_tree, n_neighbors=3, p=1, weights=distance, score=0.962, total=   0.0s\n",
      "[CV] algorithm=kd_tree, n_neighbors=3, p=2, weights=uniform ..........\n",
      "[CV]  algorithm=kd_tree, n_neighbors=3, p=2, weights=uniform, score=0.878, total=   0.0s\n",
      "[CV] algorithm=kd_tree, n_neighbors=3, p=2, weights=uniform ..........\n",
      "[CV]  algorithm=kd_tree, n_neighbors=3, p=2, weights=uniform, score=0.878, total=   0.0s\n",
      "[CV] algorithm=kd_tree, n_neighbors=3, p=2, weights=uniform ..........\n",
      "[CV]  algorithm=kd_tree, n_neighbors=3, p=2, weights=uniform, score=0.915, total=   0.0s\n",
      "[CV] algorithm=kd_tree, n_neighbors=3, p=2, weights=uniform ..........\n",
      "[CV]  algorithm=kd_tree, n_neighbors=3, p=2, weights=uniform, score=0.938, total=   0.0s\n",
      "[CV] algorithm=kd_tree, n_neighbors=3, p=2, weights=uniform ..........\n",
      "[CV]  algorithm=kd_tree, n_neighbors=3, p=2, weights=uniform, score=0.931, total=   0.0s\n",
      "[CV] algorithm=kd_tree, n_neighbors=3, p=2, weights=distance .........\n",
      "[CV]  algorithm=kd_tree, n_neighbors=3, p=2, weights=distance, score=0.878, total=   0.0s\n",
      "[CV] algorithm=kd_tree, n_neighbors=3, p=2, weights=distance .........\n",
      "[CV]  algorithm=kd_tree, n_neighbors=3, p=2, weights=distance, score=0.893, total=   0.0s\n",
      "[CV] algorithm=kd_tree, n_neighbors=3, p=2, weights=distance .........\n",
      "[CV]  algorithm=kd_tree, n_neighbors=3, p=2, weights=distance, score=0.923, total=   0.0s\n",
      "[CV] algorithm=kd_tree, n_neighbors=3, p=2, weights=distance .........\n",
      "[CV]  algorithm=kd_tree, n_neighbors=3, p=2, weights=distance, score=0.954, total=   0.0s\n",
      "[CV] algorithm=kd_tree, n_neighbors=3, p=2, weights=distance .........\n",
      "[CV]  algorithm=kd_tree, n_neighbors=3, p=2, weights=distance, score=0.954, total=   0.0s\n",
      "[CV] algorithm=kd_tree, n_neighbors=4, p=1, weights=uniform ..........\n",
      "[CV]  algorithm=kd_tree, n_neighbors=4, p=1, weights=uniform, score=0.809, total=   0.0s\n",
      "[CV] algorithm=kd_tree, n_neighbors=4, p=1, weights=uniform ..........\n",
      "[CV]  algorithm=kd_tree, n_neighbors=4, p=1, weights=uniform, score=0.847, total=   0.0s\n",
      "[CV] algorithm=kd_tree, n_neighbors=4, p=1, weights=uniform ..........\n",
      "[CV]  algorithm=kd_tree, n_neighbors=4, p=1, weights=uniform, score=0.892, total=   0.0s\n",
      "[CV] algorithm=kd_tree, n_neighbors=4, p=1, weights=uniform ..........\n",
      "[CV]  algorithm=kd_tree, n_neighbors=4, p=1, weights=uniform, score=0.931, total=   0.0s\n",
      "[CV] algorithm=kd_tree, n_neighbors=4, p=1, weights=uniform ..........\n",
      "[CV]  algorithm=kd_tree, n_neighbors=4, p=1, weights=uniform, score=0.923, total=   0.0s\n",
      "[CV] algorithm=kd_tree, n_neighbors=4, p=1, weights=distance .........\n",
      "[CV]  algorithm=kd_tree, n_neighbors=4, p=1, weights=distance, score=0.855, total=   0.0s\n",
      "[CV] algorithm=kd_tree, n_neighbors=4, p=1, weights=distance .........\n",
      "[CV]  algorithm=kd_tree, n_neighbors=4, p=1, weights=distance, score=0.885, total=   0.0s\n",
      "[CV] algorithm=kd_tree, n_neighbors=4, p=1, weights=distance .........\n",
      "[CV]  algorithm=kd_tree, n_neighbors=4, p=1, weights=distance, score=0.915, total=   0.0s\n",
      "[CV] algorithm=kd_tree, n_neighbors=4, p=1, weights=distance .........\n",
      "[CV]  algorithm=kd_tree, n_neighbors=4, p=1, weights=distance, score=0.908, total=   0.0s\n",
      "[CV] algorithm=kd_tree, n_neighbors=4, p=1, weights=distance .........\n",
      "[CV]  algorithm=kd_tree, n_neighbors=4, p=1, weights=distance, score=0.962, total=   0.0s\n",
      "[CV] algorithm=kd_tree, n_neighbors=4, p=2, weights=uniform ..........\n",
      "[CV]  algorithm=kd_tree, n_neighbors=4, p=2, weights=uniform, score=0.863, total=   0.0s\n",
      "[CV] algorithm=kd_tree, n_neighbors=4, p=2, weights=uniform ..........\n",
      "[CV]  algorithm=kd_tree, n_neighbors=4, p=2, weights=uniform, score=0.855, total=   0.0s\n",
      "[CV] algorithm=kd_tree, n_neighbors=4, p=2, weights=uniform ..........\n",
      "[CV]  algorithm=kd_tree, n_neighbors=4, p=2, weights=uniform, score=0.892, total=   0.0s\n",
      "[CV] algorithm=kd_tree, n_neighbors=4, p=2, weights=uniform ..........\n",
      "[CV]  algorithm=kd_tree, n_neighbors=4, p=2, weights=uniform, score=0.938, total=   0.0s\n",
      "[CV] algorithm=kd_tree, n_neighbors=4, p=2, weights=uniform ..........\n",
      "[CV]  algorithm=kd_tree, n_neighbors=4, p=2, weights=uniform, score=0.908, total=   0.0s\n",
      "[CV] algorithm=kd_tree, n_neighbors=4, p=2, weights=distance .........\n",
      "[CV]  algorithm=kd_tree, n_neighbors=4, p=2, weights=distance, score=0.878, total=   0.0s\n",
      "[CV] algorithm=kd_tree, n_neighbors=4, p=2, weights=distance .........\n",
      "[CV]  algorithm=kd_tree, n_neighbors=4, p=2, weights=distance, score=0.885, total=   0.0s\n",
      "[CV] algorithm=kd_tree, n_neighbors=4, p=2, weights=distance .........\n",
      "[CV]  algorithm=kd_tree, n_neighbors=4, p=2, weights=distance, score=0.946, total=   0.0s\n",
      "[CV] algorithm=kd_tree, n_neighbors=4, p=2, weights=distance .........\n",
      "[CV]  algorithm=kd_tree, n_neighbors=4, p=2, weights=distance, score=0.938, total=   0.0s\n",
      "[CV] algorithm=kd_tree, n_neighbors=4, p=2, weights=distance .........\n",
      "[CV]  algorithm=kd_tree, n_neighbors=4, p=2, weights=distance, score=0.954, total=   0.0s\n",
      "[CV] algorithm=kd_tree, n_neighbors=5, p=1, weights=uniform ..........\n",
      "[CV]  algorithm=kd_tree, n_neighbors=5, p=1, weights=uniform, score=0.824, total=   0.0s\n",
      "[CV] algorithm=kd_tree, n_neighbors=5, p=1, weights=uniform ..........\n",
      "[CV]  algorithm=kd_tree, n_neighbors=5, p=1, weights=uniform, score=0.847, total=   0.0s\n",
      "[CV] algorithm=kd_tree, n_neighbors=5, p=1, weights=uniform ..........\n",
      "[CV]  algorithm=kd_tree, n_neighbors=5, p=1, weights=uniform, score=0.915, total=   0.0s\n",
      "[CV] algorithm=kd_tree, n_neighbors=5, p=1, weights=uniform ..........\n",
      "[CV]  algorithm=kd_tree, n_neighbors=5, p=1, weights=uniform, score=0.923, total=   0.0s\n",
      "[CV] algorithm=kd_tree, n_neighbors=5, p=1, weights=uniform ..........\n",
      "[CV]  algorithm=kd_tree, n_neighbors=5, p=1, weights=uniform, score=0.923, total=   0.0s\n",
      "[CV] algorithm=kd_tree, n_neighbors=5, p=1, weights=distance .........\n",
      "[CV]  algorithm=kd_tree, n_neighbors=5, p=1, weights=distance, score=0.840, total=   0.0s\n",
      "[CV] algorithm=kd_tree, n_neighbors=5, p=1, weights=distance .........\n",
      "[CV]  algorithm=kd_tree, n_neighbors=5, p=1, weights=distance, score=0.885, total=   0.0s\n",
      "[CV] algorithm=kd_tree, n_neighbors=5, p=1, weights=distance .........\n"
     ]
    },
    {
     "name": "stdout",
     "output_type": "stream",
     "text": [
      "[CV]  algorithm=kd_tree, n_neighbors=5, p=1, weights=distance, score=0.923, total=   0.0s\n",
      "[CV] algorithm=kd_tree, n_neighbors=5, p=1, weights=distance .........\n",
      "[CV]  algorithm=kd_tree, n_neighbors=5, p=1, weights=distance, score=0.946, total=   0.0s\n",
      "[CV] algorithm=kd_tree, n_neighbors=5, p=1, weights=distance .........\n",
      "[CV]  algorithm=kd_tree, n_neighbors=5, p=1, weights=distance, score=0.962, total=   0.0s\n",
      "[CV] algorithm=kd_tree, n_neighbors=5, p=2, weights=uniform ..........\n",
      "[CV]  algorithm=kd_tree, n_neighbors=5, p=2, weights=uniform, score=0.863, total=   0.0s\n",
      "[CV] algorithm=kd_tree, n_neighbors=5, p=2, weights=uniform ..........\n",
      "[CV]  algorithm=kd_tree, n_neighbors=5, p=2, weights=uniform, score=0.863, total=   0.0s\n",
      "[CV] algorithm=kd_tree, n_neighbors=5, p=2, weights=uniform ..........\n",
      "[CV]  algorithm=kd_tree, n_neighbors=5, p=2, weights=uniform, score=0.923, total=   0.0s\n",
      "[CV] algorithm=kd_tree, n_neighbors=5, p=2, weights=uniform ..........\n",
      "[CV]  algorithm=kd_tree, n_neighbors=5, p=2, weights=uniform, score=0.938, total=   0.0s\n",
      "[CV] algorithm=kd_tree, n_neighbors=5, p=2, weights=uniform ..........\n",
      "[CV]  algorithm=kd_tree, n_neighbors=5, p=2, weights=uniform, score=0.915, total=   0.0s\n",
      "[CV] algorithm=kd_tree, n_neighbors=5, p=2, weights=distance .........\n",
      "[CV]  algorithm=kd_tree, n_neighbors=5, p=2, weights=distance, score=0.870, total=   0.0s\n",
      "[CV] algorithm=kd_tree, n_neighbors=5, p=2, weights=distance .........\n",
      "[CV]  algorithm=kd_tree, n_neighbors=5, p=2, weights=distance, score=0.893, total=   0.0s\n",
      "[CV] algorithm=kd_tree, n_neighbors=5, p=2, weights=distance .........\n",
      "[CV]  algorithm=kd_tree, n_neighbors=5, p=2, weights=distance, score=0.931, total=   0.0s\n",
      "[CV] algorithm=kd_tree, n_neighbors=5, p=2, weights=distance .........\n",
      "[CV]  algorithm=kd_tree, n_neighbors=5, p=2, weights=distance, score=0.962, total=   0.0s\n",
      "[CV] algorithm=kd_tree, n_neighbors=5, p=2, weights=distance .........\n",
      "[CV]  algorithm=kd_tree, n_neighbors=5, p=2, weights=distance, score=0.938, total=   0.0s\n",
      "[CV] algorithm=kd_tree, n_neighbors=6, p=1, weights=uniform ..........\n",
      "[CV]  algorithm=kd_tree, n_neighbors=6, p=1, weights=uniform, score=0.756, total=   0.0s\n",
      "[CV] algorithm=kd_tree, n_neighbors=6, p=1, weights=uniform ..........\n",
      "[CV]  algorithm=kd_tree, n_neighbors=6, p=1, weights=uniform, score=0.840, total=   0.0s\n",
      "[CV] algorithm=kd_tree, n_neighbors=6, p=1, weights=uniform ..........\n",
      "[CV]  algorithm=kd_tree, n_neighbors=6, p=1, weights=uniform, score=0.885, total=   0.0s\n",
      "[CV] algorithm=kd_tree, n_neighbors=6, p=1, weights=uniform ..........\n",
      "[CV]  algorithm=kd_tree, n_neighbors=6, p=1, weights=uniform, score=0.892, total=   0.0s\n",
      "[CV] algorithm=kd_tree, n_neighbors=6, p=1, weights=uniform ..........\n",
      "[CV]  algorithm=kd_tree, n_neighbors=6, p=1, weights=uniform, score=0.908, total=   0.0s\n",
      "[CV] algorithm=kd_tree, n_neighbors=6, p=1, weights=distance .........\n",
      "[CV]  algorithm=kd_tree, n_neighbors=6, p=1, weights=distance, score=0.840, total=   0.0s\n",
      "[CV] algorithm=kd_tree, n_neighbors=6, p=1, weights=distance .........\n",
      "[CV]  algorithm=kd_tree, n_neighbors=6, p=1, weights=distance, score=0.885, total=   0.0s\n",
      "[CV] algorithm=kd_tree, n_neighbors=6, p=1, weights=distance .........\n",
      "[CV]  algorithm=kd_tree, n_neighbors=6, p=1, weights=distance, score=0.923, total=   0.0s\n",
      "[CV] algorithm=kd_tree, n_neighbors=6, p=1, weights=distance .........\n",
      "[CV]  algorithm=kd_tree, n_neighbors=6, p=1, weights=distance, score=0.938, total=   0.0s\n",
      "[CV] algorithm=kd_tree, n_neighbors=6, p=1, weights=distance .........\n",
      "[CV]  algorithm=kd_tree, n_neighbors=6, p=1, weights=distance, score=0.962, total=   0.0s\n",
      "[CV] algorithm=kd_tree, n_neighbors=6, p=2, weights=uniform ..........\n",
      "[CV]  algorithm=kd_tree, n_neighbors=6, p=2, weights=uniform, score=0.840, total=   0.0s\n",
      "[CV] algorithm=kd_tree, n_neighbors=6, p=2, weights=uniform ..........\n",
      "[CV]  algorithm=kd_tree, n_neighbors=6, p=2, weights=uniform, score=0.840, total=   0.0s\n",
      "[CV] algorithm=kd_tree, n_neighbors=6, p=2, weights=uniform ..........\n",
      "[CV]  algorithm=kd_tree, n_neighbors=6, p=2, weights=uniform, score=0.892, total=   0.0s\n",
      "[CV] algorithm=kd_tree, n_neighbors=6, p=2, weights=uniform ..........\n",
      "[CV]  algorithm=kd_tree, n_neighbors=6, p=2, weights=uniform, score=0.931, total=   0.0s\n",
      "[CV] algorithm=kd_tree, n_neighbors=6, p=2, weights=uniform ..........\n",
      "[CV]  algorithm=kd_tree, n_neighbors=6, p=2, weights=uniform, score=0.908, total=   0.0s\n",
      "[CV] algorithm=kd_tree, n_neighbors=6, p=2, weights=distance .........\n",
      "[CV]  algorithm=kd_tree, n_neighbors=6, p=2, weights=distance, score=0.870, total=   0.0s\n",
      "[CV] algorithm=kd_tree, n_neighbors=6, p=2, weights=distance .........\n",
      "[CV]  algorithm=kd_tree, n_neighbors=6, p=2, weights=distance, score=0.878, total=   0.0s\n",
      "[CV] algorithm=kd_tree, n_neighbors=6, p=2, weights=distance .........\n",
      "[CV]  algorithm=kd_tree, n_neighbors=6, p=2, weights=distance, score=0.931, total=   0.0s\n",
      "[CV] algorithm=kd_tree, n_neighbors=6, p=2, weights=distance .........\n",
      "[CV]  algorithm=kd_tree, n_neighbors=6, p=2, weights=distance, score=0.938, total=   0.0s\n",
      "[CV] algorithm=kd_tree, n_neighbors=6, p=2, weights=distance .........\n",
      "[CV]  algorithm=kd_tree, n_neighbors=6, p=2, weights=distance, score=0.938, total=   0.0s\n",
      "[CV] algorithm=kd_tree, n_neighbors=7, p=1, weights=uniform ..........\n",
      "[CV]  algorithm=kd_tree, n_neighbors=7, p=1, weights=uniform, score=0.779, total=   0.0s\n",
      "[CV] algorithm=kd_tree, n_neighbors=7, p=1, weights=uniform ..........\n",
      "[CV]  algorithm=kd_tree, n_neighbors=7, p=1, weights=uniform, score=0.840, total=   0.0s\n",
      "[CV] algorithm=kd_tree, n_neighbors=7, p=1, weights=uniform ..........\n",
      "[CV]  algorithm=kd_tree, n_neighbors=7, p=1, weights=uniform, score=0.877, total=   0.0s\n",
      "[CV] algorithm=kd_tree, n_neighbors=7, p=1, weights=uniform ..........\n",
      "[CV]  algorithm=kd_tree, n_neighbors=7, p=1, weights=uniform, score=0.877, total=   0.0s\n",
      "[CV] algorithm=kd_tree, n_neighbors=7, p=1, weights=uniform ..........\n",
      "[CV]  algorithm=kd_tree, n_neighbors=7, p=1, weights=uniform, score=0.915, total=   0.0s\n",
      "[CV] algorithm=kd_tree, n_neighbors=7, p=1, weights=distance .........\n",
      "[CV]  algorithm=kd_tree, n_neighbors=7, p=1, weights=distance, score=0.802, total=   0.0s\n",
      "[CV] algorithm=kd_tree, n_neighbors=7, p=1, weights=distance .........\n",
      "[CV]  algorithm=kd_tree, n_neighbors=7, p=1, weights=distance, score=0.878, total=   0.0s\n",
      "[CV] algorithm=kd_tree, n_neighbors=7, p=1, weights=distance .........\n",
      "[CV]  algorithm=kd_tree, n_neighbors=7, p=1, weights=distance, score=0.900, total=   0.0s\n",
      "[CV] algorithm=kd_tree, n_neighbors=7, p=1, weights=distance .........\n",
      "[CV]  algorithm=kd_tree, n_neighbors=7, p=1, weights=distance, score=0.915, total=   0.0s\n",
      "[CV] algorithm=kd_tree, n_neighbors=7, p=1, weights=distance .........\n",
      "[CV]  algorithm=kd_tree, n_neighbors=7, p=1, weights=distance, score=0.954, total=   0.0s\n",
      "[CV] algorithm=kd_tree, n_neighbors=7, p=2, weights=uniform ..........\n",
      "[CV]  algorithm=kd_tree, n_neighbors=7, p=2, weights=uniform, score=0.855, total=   0.0s\n",
      "[CV] algorithm=kd_tree, n_neighbors=7, p=2, weights=uniform ..........\n",
      "[CV]  algorithm=kd_tree, n_neighbors=7, p=2, weights=uniform, score=0.870, total=   0.0s\n",
      "[CV] algorithm=kd_tree, n_neighbors=7, p=2, weights=uniform ..........\n",
      "[CV]  algorithm=kd_tree, n_neighbors=7, p=2, weights=uniform, score=0.908, total=   0.0s\n",
      "[CV] algorithm=kd_tree, n_neighbors=7, p=2, weights=uniform ..........\n",
      "[CV]  algorithm=kd_tree, n_neighbors=7, p=2, weights=uniform, score=0.931, total=   0.0s\n",
      "[CV] algorithm=kd_tree, n_neighbors=7, p=2, weights=uniform ..........\n",
      "[CV]  algorithm=kd_tree, n_neighbors=7, p=2, weights=uniform, score=0.915, total=   0.0s\n",
      "[CV] algorithm=kd_tree, n_neighbors=7, p=2, weights=distance .........\n",
      "[CV]  algorithm=kd_tree, n_neighbors=7, p=2, weights=distance, score=0.863, total=   0.0s\n",
      "[CV] algorithm=kd_tree, n_neighbors=7, p=2, weights=distance .........\n",
      "[CV]  algorithm=kd_tree, n_neighbors=7, p=2, weights=distance, score=0.878, total=   0.0s\n",
      "[CV] algorithm=kd_tree, n_neighbors=7, p=2, weights=distance .........\n",
      "[CV]  algorithm=kd_tree, n_neighbors=7, p=2, weights=distance, score=0.931, total=   0.0s\n",
      "[CV] algorithm=kd_tree, n_neighbors=7, p=2, weights=distance .........\n",
      "[CV]  algorithm=kd_tree, n_neighbors=7, p=2, weights=distance, score=0.954, total=   0.0s\n",
      "[CV] algorithm=kd_tree, n_neighbors=7, p=2, weights=distance .........\n",
      "[CV]  algorithm=kd_tree, n_neighbors=7, p=2, weights=distance, score=0.938, total=   0.0s\n",
      "[CV] algorithm=brute, n_neighbors=3, p=1, weights=uniform ............\n",
      "[CV]  algorithm=brute, n_neighbors=3, p=1, weights=uniform, score=0.840, total=   0.0s\n",
      "[CV] algorithm=brute, n_neighbors=3, p=1, weights=uniform ............\n",
      "[CV]  algorithm=brute, n_neighbors=3, p=1, weights=uniform, score=0.863, total=   0.0s\n",
      "[CV] algorithm=brute, n_neighbors=3, p=1, weights=uniform ............\n",
      "[CV]  algorithm=brute, n_neighbors=3, p=1, weights=uniform, score=0.908, total=   0.0s\n",
      "[CV] algorithm=brute, n_neighbors=3, p=1, weights=uniform ............\n"
     ]
    },
    {
     "name": "stdout",
     "output_type": "stream",
     "text": [
      "[CV]  algorithm=brute, n_neighbors=3, p=1, weights=uniform, score=0.900, total=   0.0s\n",
      "[CV] algorithm=brute, n_neighbors=3, p=1, weights=uniform ............\n",
      "[CV]  algorithm=brute, n_neighbors=3, p=1, weights=uniform, score=0.931, total=   0.0s\n",
      "[CV] algorithm=brute, n_neighbors=3, p=1, weights=distance ...........\n",
      "[CV]  algorithm=brute, n_neighbors=3, p=1, weights=distance, score=0.847, total=   0.0s\n",
      "[CV] algorithm=brute, n_neighbors=3, p=1, weights=distance ...........\n",
      "[CV]  algorithm=brute, n_neighbors=3, p=1, weights=distance, score=0.893, total=   0.0s\n",
      "[CV] algorithm=brute, n_neighbors=3, p=1, weights=distance ...........\n",
      "[CV]  algorithm=brute, n_neighbors=3, p=1, weights=distance, score=0.915, total=   0.0s\n",
      "[CV] algorithm=brute, n_neighbors=3, p=1, weights=distance ...........\n",
      "[CV]  algorithm=brute, n_neighbors=3, p=1, weights=distance, score=0.923, total=   0.0s\n",
      "[CV] algorithm=brute, n_neighbors=3, p=1, weights=distance ...........\n",
      "[CV]  algorithm=brute, n_neighbors=3, p=1, weights=distance, score=0.962, total=   0.0s\n",
      "[CV] algorithm=brute, n_neighbors=3, p=2, weights=uniform ............\n",
      "[CV]  algorithm=brute, n_neighbors=3, p=2, weights=uniform, score=0.878, total=   0.0s\n",
      "[CV] algorithm=brute, n_neighbors=3, p=2, weights=uniform ............\n",
      "[CV]  algorithm=brute, n_neighbors=3, p=2, weights=uniform, score=0.878, total=   0.0s\n",
      "[CV] algorithm=brute, n_neighbors=3, p=2, weights=uniform ............\n",
      "[CV]  algorithm=brute, n_neighbors=3, p=2, weights=uniform, score=0.915, total=   0.0s\n",
      "[CV] algorithm=brute, n_neighbors=3, p=2, weights=uniform ............\n",
      "[CV]  algorithm=brute, n_neighbors=3, p=2, weights=uniform, score=0.938, total=   0.0s\n",
      "[CV] algorithm=brute, n_neighbors=3, p=2, weights=uniform ............\n",
      "[CV]  algorithm=brute, n_neighbors=3, p=2, weights=uniform, score=0.931, total=   0.0s\n",
      "[CV] algorithm=brute, n_neighbors=3, p=2, weights=distance ...........\n",
      "[CV]  algorithm=brute, n_neighbors=3, p=2, weights=distance, score=0.878, total=   0.0s\n",
      "[CV] algorithm=brute, n_neighbors=3, p=2, weights=distance ...........\n",
      "[CV]  algorithm=brute, n_neighbors=3, p=2, weights=distance, score=0.893, total=   0.0s\n",
      "[CV] algorithm=brute, n_neighbors=3, p=2, weights=distance ...........\n",
      "[CV]  algorithm=brute, n_neighbors=3, p=2, weights=distance, score=0.923, total=   0.0s\n",
      "[CV] algorithm=brute, n_neighbors=3, p=2, weights=distance ...........\n",
      "[CV]  algorithm=brute, n_neighbors=3, p=2, weights=distance, score=0.954, total=   0.0s\n",
      "[CV] algorithm=brute, n_neighbors=3, p=2, weights=distance ...........\n",
      "[CV]  algorithm=brute, n_neighbors=3, p=2, weights=distance, score=0.954, total=   0.0s\n",
      "[CV] algorithm=brute, n_neighbors=4, p=1, weights=uniform ............\n",
      "[CV]  algorithm=brute, n_neighbors=4, p=1, weights=uniform, score=0.809, total=   0.0s\n",
      "[CV] algorithm=brute, n_neighbors=4, p=1, weights=uniform ............\n",
      "[CV]  algorithm=brute, n_neighbors=4, p=1, weights=uniform, score=0.847, total=   0.0s\n",
      "[CV] algorithm=brute, n_neighbors=4, p=1, weights=uniform ............\n",
      "[CV]  algorithm=brute, n_neighbors=4, p=1, weights=uniform, score=0.892, total=   0.0s\n",
      "[CV] algorithm=brute, n_neighbors=4, p=1, weights=uniform ............\n",
      "[CV]  algorithm=brute, n_neighbors=4, p=1, weights=uniform, score=0.931, total=   0.0s\n",
      "[CV] algorithm=brute, n_neighbors=4, p=1, weights=uniform ............\n",
      "[CV]  algorithm=brute, n_neighbors=4, p=1, weights=uniform, score=0.923, total=   0.0s\n",
      "[CV] algorithm=brute, n_neighbors=4, p=1, weights=distance ...........\n",
      "[CV]  algorithm=brute, n_neighbors=4, p=1, weights=distance, score=0.855, total=   0.0s\n",
      "[CV] algorithm=brute, n_neighbors=4, p=1, weights=distance ...........\n",
      "[CV]  algorithm=brute, n_neighbors=4, p=1, weights=distance, score=0.885, total=   0.0s\n",
      "[CV] algorithm=brute, n_neighbors=4, p=1, weights=distance ...........\n",
      "[CV]  algorithm=brute, n_neighbors=4, p=1, weights=distance, score=0.915, total=   0.0s\n",
      "[CV] algorithm=brute, n_neighbors=4, p=1, weights=distance ...........\n",
      "[CV]  algorithm=brute, n_neighbors=4, p=1, weights=distance, score=0.908, total=   0.0s\n",
      "[CV] algorithm=brute, n_neighbors=4, p=1, weights=distance ...........\n",
      "[CV]  algorithm=brute, n_neighbors=4, p=1, weights=distance, score=0.962, total=   0.0s\n",
      "[CV] algorithm=brute, n_neighbors=4, p=2, weights=uniform ............\n",
      "[CV]  algorithm=brute, n_neighbors=4, p=2, weights=uniform, score=0.863, total=   0.0s\n",
      "[CV] algorithm=brute, n_neighbors=4, p=2, weights=uniform ............\n",
      "[CV]  algorithm=brute, n_neighbors=4, p=2, weights=uniform, score=0.855, total=   0.0s\n",
      "[CV] algorithm=brute, n_neighbors=4, p=2, weights=uniform ............\n",
      "[CV]  algorithm=brute, n_neighbors=4, p=2, weights=uniform, score=0.892, total=   0.0s\n",
      "[CV] algorithm=brute, n_neighbors=4, p=2, weights=uniform ............\n",
      "[CV]  algorithm=brute, n_neighbors=4, p=2, weights=uniform, score=0.938, total=   0.0s\n",
      "[CV] algorithm=brute, n_neighbors=4, p=2, weights=uniform ............\n",
      "[CV]  algorithm=brute, n_neighbors=4, p=2, weights=uniform, score=0.908, total=   0.0s\n",
      "[CV] algorithm=brute, n_neighbors=4, p=2, weights=distance ...........\n",
      "[CV]  algorithm=brute, n_neighbors=4, p=2, weights=distance, score=0.878, total=   0.0s\n",
      "[CV] algorithm=brute, n_neighbors=4, p=2, weights=distance ...........\n",
      "[CV]  algorithm=brute, n_neighbors=4, p=2, weights=distance, score=0.885, total=   0.0s\n",
      "[CV] algorithm=brute, n_neighbors=4, p=2, weights=distance ...........\n",
      "[CV]  algorithm=brute, n_neighbors=4, p=2, weights=distance, score=0.946, total=   0.0s\n",
      "[CV] algorithm=brute, n_neighbors=4, p=2, weights=distance ...........\n",
      "[CV]  algorithm=brute, n_neighbors=4, p=2, weights=distance, score=0.938, total=   0.0s\n",
      "[CV] algorithm=brute, n_neighbors=4, p=2, weights=distance ...........\n",
      "[CV]  algorithm=brute, n_neighbors=4, p=2, weights=distance, score=0.954, total=   0.0s\n",
      "[CV] algorithm=brute, n_neighbors=5, p=1, weights=uniform ............\n",
      "[CV]  algorithm=brute, n_neighbors=5, p=1, weights=uniform, score=0.824, total=   0.0s\n",
      "[CV] algorithm=brute, n_neighbors=5, p=1, weights=uniform ............\n",
      "[CV]  algorithm=brute, n_neighbors=5, p=1, weights=uniform, score=0.847, total=   0.0s\n",
      "[CV] algorithm=brute, n_neighbors=5, p=1, weights=uniform ............\n",
      "[CV]  algorithm=brute, n_neighbors=5, p=1, weights=uniform, score=0.915, total=   0.0s\n",
      "[CV] algorithm=brute, n_neighbors=5, p=1, weights=uniform ............\n",
      "[CV]  algorithm=brute, n_neighbors=5, p=1, weights=uniform, score=0.923, total=   0.0s\n",
      "[CV] algorithm=brute, n_neighbors=5, p=1, weights=uniform ............\n",
      "[CV]  algorithm=brute, n_neighbors=5, p=1, weights=uniform, score=0.923, total=   0.0s\n",
      "[CV] algorithm=brute, n_neighbors=5, p=1, weights=distance ...........\n",
      "[CV]  algorithm=brute, n_neighbors=5, p=1, weights=distance, score=0.840, total=   0.0s\n",
      "[CV] algorithm=brute, n_neighbors=5, p=1, weights=distance ...........\n",
      "[CV]  algorithm=brute, n_neighbors=5, p=1, weights=distance, score=0.885, total=   0.0s\n",
      "[CV] algorithm=brute, n_neighbors=5, p=1, weights=distance ...........\n",
      "[CV]  algorithm=brute, n_neighbors=5, p=1, weights=distance, score=0.923, total=   0.0s\n",
      "[CV] algorithm=brute, n_neighbors=5, p=1, weights=distance ...........\n",
      "[CV]  algorithm=brute, n_neighbors=5, p=1, weights=distance, score=0.946, total=   0.0s\n",
      "[CV] algorithm=brute, n_neighbors=5, p=1, weights=distance ...........\n",
      "[CV]  algorithm=brute, n_neighbors=5, p=1, weights=distance, score=0.962, total=   0.0s\n",
      "[CV] algorithm=brute, n_neighbors=5, p=2, weights=uniform ............\n",
      "[CV]  algorithm=brute, n_neighbors=5, p=2, weights=uniform, score=0.863, total=   0.0s\n",
      "[CV] algorithm=brute, n_neighbors=5, p=2, weights=uniform ............\n",
      "[CV]  algorithm=brute, n_neighbors=5, p=2, weights=uniform, score=0.863, total=   0.0s\n",
      "[CV] algorithm=brute, n_neighbors=5, p=2, weights=uniform ............\n",
      "[CV]  algorithm=brute, n_neighbors=5, p=2, weights=uniform, score=0.923, total=   0.0s\n",
      "[CV] algorithm=brute, n_neighbors=5, p=2, weights=uniform ............\n",
      "[CV]  algorithm=brute, n_neighbors=5, p=2, weights=uniform, score=0.938, total=   0.0s\n",
      "[CV] algorithm=brute, n_neighbors=5, p=2, weights=uniform ............\n",
      "[CV]  algorithm=brute, n_neighbors=5, p=2, weights=uniform, score=0.915, total=   0.0s\n",
      "[CV] algorithm=brute, n_neighbors=5, p=2, weights=distance ...........\n",
      "[CV]  algorithm=brute, n_neighbors=5, p=2, weights=distance, score=0.870, total=   0.0s\n",
      "[CV] algorithm=brute, n_neighbors=5, p=2, weights=distance ...........\n",
      "[CV]  algorithm=brute, n_neighbors=5, p=2, weights=distance, score=0.893, total=   0.0s\n",
      "[CV] algorithm=brute, n_neighbors=5, p=2, weights=distance ...........\n",
      "[CV]  algorithm=brute, n_neighbors=5, p=2, weights=distance, score=0.931, total=   0.0s\n",
      "[CV] algorithm=brute, n_neighbors=5, p=2, weights=distance ...........\n",
      "[CV]  algorithm=brute, n_neighbors=5, p=2, weights=distance, score=0.962, total=   0.0s\n",
      "[CV] algorithm=brute, n_neighbors=5, p=2, weights=distance ...........\n",
      "[CV]  algorithm=brute, n_neighbors=5, p=2, weights=distance, score=0.938, total=   0.0s\n",
      "[CV] algorithm=brute, n_neighbors=6, p=1, weights=uniform ............\n",
      "[CV]  algorithm=brute, n_neighbors=6, p=1, weights=uniform, score=0.756, total=   0.0s\n",
      "[CV] algorithm=brute, n_neighbors=6, p=1, weights=uniform ............\n"
     ]
    },
    {
     "name": "stdout",
     "output_type": "stream",
     "text": [
      "[CV]  algorithm=brute, n_neighbors=6, p=1, weights=uniform, score=0.840, total=   0.0s\n",
      "[CV] algorithm=brute, n_neighbors=6, p=1, weights=uniform ............\n",
      "[CV]  algorithm=brute, n_neighbors=6, p=1, weights=uniform, score=0.885, total=   0.0s\n",
      "[CV] algorithm=brute, n_neighbors=6, p=1, weights=uniform ............\n",
      "[CV]  algorithm=brute, n_neighbors=6, p=1, weights=uniform, score=0.892, total=   0.0s\n",
      "[CV] algorithm=brute, n_neighbors=6, p=1, weights=uniform ............\n",
      "[CV]  algorithm=brute, n_neighbors=6, p=1, weights=uniform, score=0.908, total=   0.0s\n",
      "[CV] algorithm=brute, n_neighbors=6, p=1, weights=distance ...........\n",
      "[CV]  algorithm=brute, n_neighbors=6, p=1, weights=distance, score=0.840, total=   0.0s\n",
      "[CV] algorithm=brute, n_neighbors=6, p=1, weights=distance ...........\n",
      "[CV]  algorithm=brute, n_neighbors=6, p=1, weights=distance, score=0.885, total=   0.0s\n",
      "[CV] algorithm=brute, n_neighbors=6, p=1, weights=distance ...........\n",
      "[CV]  algorithm=brute, n_neighbors=6, p=1, weights=distance, score=0.923, total=   0.0s\n",
      "[CV] algorithm=brute, n_neighbors=6, p=1, weights=distance ...........\n",
      "[CV]  algorithm=brute, n_neighbors=6, p=1, weights=distance, score=0.938, total=   0.0s\n",
      "[CV] algorithm=brute, n_neighbors=6, p=1, weights=distance ...........\n",
      "[CV]  algorithm=brute, n_neighbors=6, p=1, weights=distance, score=0.962, total=   0.0s\n",
      "[CV] algorithm=brute, n_neighbors=6, p=2, weights=uniform ............\n",
      "[CV]  algorithm=brute, n_neighbors=6, p=2, weights=uniform, score=0.840, total=   0.0s\n",
      "[CV] algorithm=brute, n_neighbors=6, p=2, weights=uniform ............\n",
      "[CV]  algorithm=brute, n_neighbors=6, p=2, weights=uniform, score=0.840, total=   0.0s\n",
      "[CV] algorithm=brute, n_neighbors=6, p=2, weights=uniform ............\n",
      "[CV]  algorithm=brute, n_neighbors=6, p=2, weights=uniform, score=0.892, total=   0.0s\n",
      "[CV] algorithm=brute, n_neighbors=6, p=2, weights=uniform ............\n",
      "[CV]  algorithm=brute, n_neighbors=6, p=2, weights=uniform, score=0.931, total=   0.0s\n",
      "[CV] algorithm=brute, n_neighbors=6, p=2, weights=uniform ............\n",
      "[CV]  algorithm=brute, n_neighbors=6, p=2, weights=uniform, score=0.908, total=   0.0s\n",
      "[CV] algorithm=brute, n_neighbors=6, p=2, weights=distance ...........\n",
      "[CV]  algorithm=brute, n_neighbors=6, p=2, weights=distance, score=0.870, total=   0.0s\n",
      "[CV] algorithm=brute, n_neighbors=6, p=2, weights=distance ...........\n",
      "[CV]  algorithm=brute, n_neighbors=6, p=2, weights=distance, score=0.878, total=   0.0s\n",
      "[CV] algorithm=brute, n_neighbors=6, p=2, weights=distance ...........\n",
      "[CV]  algorithm=brute, n_neighbors=6, p=2, weights=distance, score=0.931, total=   0.0s\n",
      "[CV] algorithm=brute, n_neighbors=6, p=2, weights=distance ...........\n",
      "[CV]  algorithm=brute, n_neighbors=6, p=2, weights=distance, score=0.938, total=   0.0s\n",
      "[CV] algorithm=brute, n_neighbors=6, p=2, weights=distance ...........\n",
      "[CV]  algorithm=brute, n_neighbors=6, p=2, weights=distance, score=0.938, total=   0.0s\n",
      "[CV] algorithm=brute, n_neighbors=7, p=1, weights=uniform ............\n",
      "[CV]  algorithm=brute, n_neighbors=7, p=1, weights=uniform, score=0.779, total=   0.0s\n",
      "[CV] algorithm=brute, n_neighbors=7, p=1, weights=uniform ............\n",
      "[CV]  algorithm=brute, n_neighbors=7, p=1, weights=uniform, score=0.840, total=   0.0s\n",
      "[CV] algorithm=brute, n_neighbors=7, p=1, weights=uniform ............\n",
      "[CV]  algorithm=brute, n_neighbors=7, p=1, weights=uniform, score=0.877, total=   0.0s\n",
      "[CV] algorithm=brute, n_neighbors=7, p=1, weights=uniform ............\n",
      "[CV]  algorithm=brute, n_neighbors=7, p=1, weights=uniform, score=0.877, total=   0.0s\n",
      "[CV] algorithm=brute, n_neighbors=7, p=1, weights=uniform ............\n",
      "[CV]  algorithm=brute, n_neighbors=7, p=1, weights=uniform, score=0.915, total=   0.0s\n",
      "[CV] algorithm=brute, n_neighbors=7, p=1, weights=distance ...........\n",
      "[CV]  algorithm=brute, n_neighbors=7, p=1, weights=distance, score=0.802, total=   0.0s\n",
      "[CV] algorithm=brute, n_neighbors=7, p=1, weights=distance ...........\n",
      "[CV]  algorithm=brute, n_neighbors=7, p=1, weights=distance, score=0.878, total=   0.0s\n",
      "[CV] algorithm=brute, n_neighbors=7, p=1, weights=distance ...........\n",
      "[CV]  algorithm=brute, n_neighbors=7, p=1, weights=distance, score=0.900, total=   0.0s\n",
      "[CV] algorithm=brute, n_neighbors=7, p=1, weights=distance ...........\n",
      "[CV]  algorithm=brute, n_neighbors=7, p=1, weights=distance, score=0.915, total=   0.0s\n",
      "[CV] algorithm=brute, n_neighbors=7, p=1, weights=distance ...........\n",
      "[CV]  algorithm=brute, n_neighbors=7, p=1, weights=distance, score=0.954, total=   0.0s\n",
      "[CV] algorithm=brute, n_neighbors=7, p=2, weights=uniform ............\n",
      "[CV]  algorithm=brute, n_neighbors=7, p=2, weights=uniform, score=0.855, total=   0.0s\n",
      "[CV] algorithm=brute, n_neighbors=7, p=2, weights=uniform ............\n",
      "[CV]  algorithm=brute, n_neighbors=7, p=2, weights=uniform, score=0.870, total=   0.0s\n",
      "[CV] algorithm=brute, n_neighbors=7, p=2, weights=uniform ............\n",
      "[CV]  algorithm=brute, n_neighbors=7, p=2, weights=uniform, score=0.908, total=   0.0s\n",
      "[CV] algorithm=brute, n_neighbors=7, p=2, weights=uniform ............\n",
      "[CV]  algorithm=brute, n_neighbors=7, p=2, weights=uniform, score=0.931, total=   0.0s\n",
      "[CV] algorithm=brute, n_neighbors=7, p=2, weights=uniform ............\n",
      "[CV]  algorithm=brute, n_neighbors=7, p=2, weights=uniform, score=0.915, total=   0.0s\n",
      "[CV] algorithm=brute, n_neighbors=7, p=2, weights=distance ...........\n",
      "[CV]  algorithm=brute, n_neighbors=7, p=2, weights=distance, score=0.863, total=   0.0s\n",
      "[CV] algorithm=brute, n_neighbors=7, p=2, weights=distance ...........\n",
      "[CV]  algorithm=brute, n_neighbors=7, p=2, weights=distance, score=0.878, total=   0.0s\n",
      "[CV] algorithm=brute, n_neighbors=7, p=2, weights=distance ...........\n",
      "[CV]  algorithm=brute, n_neighbors=7, p=2, weights=distance, score=0.931, total=   0.0s\n",
      "[CV] algorithm=brute, n_neighbors=7, p=2, weights=distance ...........\n",
      "[CV]  algorithm=brute, n_neighbors=7, p=2, weights=distance, score=0.954, total=   0.0s\n",
      "[CV] algorithm=brute, n_neighbors=7, p=2, weights=distance ...........\n",
      "[CV]  algorithm=brute, n_neighbors=7, p=2, weights=distance, score=0.938, total=   0.0s\n"
     ]
    },
    {
     "name": "stderr",
     "output_type": "stream",
     "text": [
      "[Parallel(n_jobs=1)]: Done 400 out of 400 | elapsed:    4.3s finished\n"
     ]
    },
    {
     "data": {
      "text/plain": [
       "GridSearchCV(estimator=KNeighborsClassifier(),\n",
       "             param_grid={'algorithm': ['auto', 'ball_tree', 'kd_tree', 'brute'],\n",
       "                         'n_neighbors': [3, 4, 5, 6, 7], 'p': [1, 2],\n",
       "                         'weights': ['uniform', 'distance']},\n",
       "             verbose=4)"
      ]
     },
     "execution_count": 64,
     "metadata": {},
     "output_type": "execute_result"
    }
   ],
   "source": [
    "grid_search = GridSearchCV(KNeighborsClassifier(),param_grid,refit=True,verbose=4)\n",
    "grid_search.fit(X_train_transformed,y_train)"
   ]
  },
  {
   "cell_type": "code",
   "execution_count": 65,
   "id": "cb64002b",
   "metadata": {},
   "outputs": [
    {
     "data": {
      "text/plain": [
       "{'algorithm': 'auto', 'n_neighbors': 4, 'p': 2, 'weights': 'distance'}"
      ]
     },
     "execution_count": 65,
     "metadata": {},
     "output_type": "execute_result"
    }
   ],
   "source": [
    "grid_search.best_params_"
   ]
  },
  {
   "cell_type": "code",
   "execution_count": 66,
   "id": "fecdeda8",
   "metadata": {},
   "outputs": [
    {
     "data": {
      "text/plain": [
       "array([1, 1, 0, 0, 1, 0, 0, 0, 0, 0, 0, 1, 0, 0, 0, 0, 0, 1, 0, 0, 0, 0,\n",
       "       0, 0, 0, 0, 0, 0, 0, 0, 0, 0, 0, 0, 0, 0, 0, 0, 0, 0, 0, 0, 0, 0,\n",
       "       0, 0, 0, 0, 0, 0, 0, 0, 0, 0, 0, 0, 0, 0, 0, 0, 0, 0, 0, 0, 0, 0,\n",
       "       0, 0, 0, 0, 0, 0, 0, 0, 0, 0, 0, 0, 0, 0, 0, 0, 0, 0, 0, 0, 0, 0,\n",
       "       0, 0, 0, 0, 0, 0, 0, 0, 0, 0, 0, 0, 0, 0, 0, 0, 0, 0, 0, 0, 0, 0,\n",
       "       0, 0, 0, 0, 0, 0, 0, 0, 0, 0, 0, 0, 0, 0, 0, 0, 0, 0, 0, 0, 0, 0,\n",
       "       0, 0, 0, 0, 1, 0, 0, 0, 0, 0, 0, 0, 0, 0, 0, 0, 0, 0, 0, 0, 0, 0,\n",
       "       0, 0, 0, 0, 0, 0, 0, 0, 0, 0, 0, 0, 0, 0, 0, 0, 0, 0, 0, 0, 1, 1,\n",
       "       1, 1, 0, 1, 0, 1, 1, 1, 1, 1, 0, 1, 1, 1, 1, 0, 0, 1, 1, 1, 1, 0,\n",
       "       1, 1, 0, 1, 1, 1, 0, 1, 1, 0, 0, 1, 1, 0, 1, 0, 1, 1, 1, 1, 1, 1,\n",
       "       1, 0, 1, 1, 1, 1, 1, 1, 1, 1, 0, 1, 1, 0, 1, 1, 1, 1, 1, 1, 1, 1,\n",
       "       1, 1, 1, 1, 0, 1, 0, 1, 1, 0, 1, 1, 1, 1, 0, 1, 0, 1, 0, 1, 0, 1,\n",
       "       0, 1, 0, 1, 1, 1, 1, 1, 1, 1, 0, 1, 1, 1, 1, 1, 1, 1, 1, 1, 0, 1,\n",
       "       0, 1, 1, 1, 1, 1, 0, 1, 1, 1, 1, 0, 1, 1, 1, 0, 1, 1, 0, 0, 0, 1,\n",
       "       1, 1, 0, 1, 1, 1, 0, 1, 1, 0, 0, 1, 1, 0, 1, 0, 1, 1, 1, 1, 1, 0,\n",
       "       0, 1, 0, 1, 0, 1, 1, 1, 0, 1, 0, 0, 1, 1, 0, 0, 1, 0])"
      ]
     },
     "execution_count": 66,
     "metadata": {},
     "output_type": "execute_result"
    }
   ],
   "source": [
    "optimized_knn_pred = grid_search.predict(X_test_transformed)\n",
    "optimized_knn_pred"
   ]
  },
  {
   "cell_type": "code",
   "execution_count": 67,
   "id": "a21fc544",
   "metadata": {},
   "outputs": [
    {
     "name": "stdout",
     "output_type": "stream",
     "text": [
      "[[168   6]\n",
      " [ 49 125]]\n",
      "              precision    recall  f1-score   support\n",
      "\n",
      "           0       0.77      0.97      0.86       174\n",
      "           1       0.95      0.72      0.82       174\n",
      "\n",
      "    accuracy                           0.84       348\n",
      "   macro avg       0.86      0.84      0.84       348\n",
      "weighted avg       0.86      0.84      0.84       348\n",
      "\n"
     ]
    }
   ],
   "source": [
    "print(confusion_matrix(y_test,optimized_knn_pred))\n",
    "print(classification_report(y_test,optimized_knn_pred))"
   ]
  },
  {
   "cell_type": "code",
   "execution_count": 68,
   "id": "303e277d",
   "metadata": {},
   "outputs": [],
   "source": [
    "param_grid = {'n_estimators': [100,200,300,400,500],\n",
    "             'criterion': ['gini','entropy'],\n",
    "             'max_features': [\"auto\", \"sqrt\", \"log2\"],\n",
    "             'bootstrap': [True,False],\n",
    "             'class_weight': ['balanced','balanced_subsample']}"
   ]
  },
  {
   "cell_type": "code",
   "execution_count": 69,
   "id": "56bbc191",
   "metadata": {},
   "outputs": [
    {
     "name": "stdout",
     "output_type": "stream",
     "text": [
      "Fitting 5 folds for each of 120 candidates, totalling 600 fits\n",
      "[CV] bootstrap=True, class_weight=balanced, criterion=gini, max_features=auto, n_estimators=100 \n"
     ]
    },
    {
     "name": "stderr",
     "output_type": "stream",
     "text": [
      "[Parallel(n_jobs=1)]: Using backend SequentialBackend with 1 concurrent workers.\n"
     ]
    },
    {
     "name": "stdout",
     "output_type": "stream",
     "text": [
      "[CV]  bootstrap=True, class_weight=balanced, criterion=gini, max_features=auto, n_estimators=100, score=0.969, total=   0.2s\n",
      "[CV] bootstrap=True, class_weight=balanced, criterion=gini, max_features=auto, n_estimators=100 \n",
      "[CV]  bootstrap=True, class_weight=balanced, criterion=gini, max_features=auto, n_estimators=100, score=0.985, total=   0.2s\n",
      "[CV] bootstrap=True, class_weight=balanced, criterion=gini, max_features=auto, n_estimators=100 \n"
     ]
    },
    {
     "name": "stderr",
     "output_type": "stream",
     "text": [
      "[Parallel(n_jobs=1)]: Done   1 out of   1 | elapsed:    0.1s remaining:    0.0s\n",
      "[Parallel(n_jobs=1)]: Done   2 out of   2 | elapsed:    0.3s remaining:    0.0s\n"
     ]
    },
    {
     "name": "stdout",
     "output_type": "stream",
     "text": [
      "[CV]  bootstrap=True, class_weight=balanced, criterion=gini, max_features=auto, n_estimators=100, score=0.985, total=   0.2s\n",
      "[CV] bootstrap=True, class_weight=balanced, criterion=gini, max_features=auto, n_estimators=100 \n",
      "[CV]  bootstrap=True, class_weight=balanced, criterion=gini, max_features=auto, n_estimators=100, score=0.969, total=   0.2s\n",
      "[CV] bootstrap=True, class_weight=balanced, criterion=gini, max_features=auto, n_estimators=100 \n"
     ]
    },
    {
     "name": "stderr",
     "output_type": "stream",
     "text": [
      "[Parallel(n_jobs=1)]: Done   3 out of   3 | elapsed:    0.5s remaining:    0.0s\n"
     ]
    },
    {
     "name": "stdout",
     "output_type": "stream",
     "text": [
      "[CV]  bootstrap=True, class_weight=balanced, criterion=gini, max_features=auto, n_estimators=100, score=0.962, total=   0.2s\n",
      "[CV] bootstrap=True, class_weight=balanced, criterion=gini, max_features=auto, n_estimators=200 \n",
      "[CV]  bootstrap=True, class_weight=balanced, criterion=gini, max_features=auto, n_estimators=200, score=0.969, total=   0.4s\n",
      "[CV] bootstrap=True, class_weight=balanced, criterion=gini, max_features=auto, n_estimators=200 \n",
      "[CV]  bootstrap=True, class_weight=balanced, criterion=gini, max_features=auto, n_estimators=200, score=0.985, total=   0.4s\n",
      "[CV] bootstrap=True, class_weight=balanced, criterion=gini, max_features=auto, n_estimators=200 \n",
      "[CV]  bootstrap=True, class_weight=balanced, criterion=gini, max_features=auto, n_estimators=200, score=0.985, total=   0.4s\n",
      "[CV] bootstrap=True, class_weight=balanced, criterion=gini, max_features=auto, n_estimators=200 \n",
      "[CV]  bootstrap=True, class_weight=balanced, criterion=gini, max_features=auto, n_estimators=200, score=0.977, total=   0.4s\n",
      "[CV] bootstrap=True, class_weight=balanced, criterion=gini, max_features=auto, n_estimators=200 \n",
      "[CV]  bootstrap=True, class_weight=balanced, criterion=gini, max_features=auto, n_estimators=200, score=0.962, total=   0.3s\n",
      "[CV] bootstrap=True, class_weight=balanced, criterion=gini, max_features=auto, n_estimators=300 \n",
      "[CV]  bootstrap=True, class_weight=balanced, criterion=gini, max_features=auto, n_estimators=300, score=0.977, total=   0.5s\n",
      "[CV] bootstrap=True, class_weight=balanced, criterion=gini, max_features=auto, n_estimators=300 \n",
      "[CV]  bootstrap=True, class_weight=balanced, criterion=gini, max_features=auto, n_estimators=300, score=0.992, total=   0.6s\n",
      "[CV] bootstrap=True, class_weight=balanced, criterion=gini, max_features=auto, n_estimators=300 \n",
      "[CV]  bootstrap=True, class_weight=balanced, criterion=gini, max_features=auto, n_estimators=300, score=0.985, total=   0.5s\n",
      "[CV] bootstrap=True, class_weight=balanced, criterion=gini, max_features=auto, n_estimators=300 \n",
      "[CV]  bootstrap=True, class_weight=balanced, criterion=gini, max_features=auto, n_estimators=300, score=0.977, total=   0.5s\n",
      "[CV] bootstrap=True, class_weight=balanced, criterion=gini, max_features=auto, n_estimators=300 \n",
      "[CV]  bootstrap=True, class_weight=balanced, criterion=gini, max_features=auto, n_estimators=300, score=0.962, total=   0.6s\n",
      "[CV] bootstrap=True, class_weight=balanced, criterion=gini, max_features=auto, n_estimators=400 \n",
      "[CV]  bootstrap=True, class_weight=balanced, criterion=gini, max_features=auto, n_estimators=400, score=0.969, total=   0.8s\n",
      "[CV] bootstrap=True, class_weight=balanced, criterion=gini, max_features=auto, n_estimators=400 \n",
      "[CV]  bootstrap=True, class_weight=balanced, criterion=gini, max_features=auto, n_estimators=400, score=0.992, total=   0.7s\n",
      "[CV] bootstrap=True, class_weight=balanced, criterion=gini, max_features=auto, n_estimators=400 \n",
      "[CV]  bootstrap=True, class_weight=balanced, criterion=gini, max_features=auto, n_estimators=400, score=0.985, total=   0.7s\n",
      "[CV] bootstrap=True, class_weight=balanced, criterion=gini, max_features=auto, n_estimators=400 \n",
      "[CV]  bootstrap=True, class_weight=balanced, criterion=gini, max_features=auto, n_estimators=400, score=0.985, total=   0.7s\n",
      "[CV] bootstrap=True, class_weight=balanced, criterion=gini, max_features=auto, n_estimators=400 \n",
      "[CV]  bootstrap=True, class_weight=balanced, criterion=gini, max_features=auto, n_estimators=400, score=0.954, total=   0.7s\n",
      "[CV] bootstrap=True, class_weight=balanced, criterion=gini, max_features=auto, n_estimators=500 \n",
      "[CV]  bootstrap=True, class_weight=balanced, criterion=gini, max_features=auto, n_estimators=500, score=0.977, total=   0.9s\n",
      "[CV] bootstrap=True, class_weight=balanced, criterion=gini, max_features=auto, n_estimators=500 \n",
      "[CV]  bootstrap=True, class_weight=balanced, criterion=gini, max_features=auto, n_estimators=500, score=0.985, total=   0.9s\n",
      "[CV] bootstrap=True, class_weight=balanced, criterion=gini, max_features=auto, n_estimators=500 \n",
      "[CV]  bootstrap=True, class_weight=balanced, criterion=gini, max_features=auto, n_estimators=500, score=0.985, total=   0.8s\n",
      "[CV] bootstrap=True, class_weight=balanced, criterion=gini, max_features=auto, n_estimators=500 \n",
      "[CV]  bootstrap=True, class_weight=balanced, criterion=gini, max_features=auto, n_estimators=500, score=0.977, total=   0.8s\n",
      "[CV] bootstrap=True, class_weight=balanced, criterion=gini, max_features=auto, n_estimators=500 \n",
      "[CV]  bootstrap=True, class_weight=balanced, criterion=gini, max_features=auto, n_estimators=500, score=0.954, total=   0.8s\n",
      "[CV] bootstrap=True, class_weight=balanced, criterion=gini, max_features=sqrt, n_estimators=100 \n",
      "[CV]  bootstrap=True, class_weight=balanced, criterion=gini, max_features=sqrt, n_estimators=100, score=0.969, total=   0.2s\n",
      "[CV] bootstrap=True, class_weight=balanced, criterion=gini, max_features=sqrt, n_estimators=100 \n",
      "[CV]  bootstrap=True, class_weight=balanced, criterion=gini, max_features=sqrt, n_estimators=100, score=0.985, total=   0.2s\n",
      "[CV] bootstrap=True, class_weight=balanced, criterion=gini, max_features=sqrt, n_estimators=100 \n",
      "[CV]  bootstrap=True, class_weight=balanced, criterion=gini, max_features=sqrt, n_estimators=100, score=0.985, total=   0.2s\n",
      "[CV] bootstrap=True, class_weight=balanced, criterion=gini, max_features=sqrt, n_estimators=100 \n",
      "[CV]  bootstrap=True, class_weight=balanced, criterion=gini, max_features=sqrt, n_estimators=100, score=0.985, total=   0.2s\n",
      "[CV] bootstrap=True, class_weight=balanced, criterion=gini, max_features=sqrt, n_estimators=100 \n",
      "[CV]  bootstrap=True, class_weight=balanced, criterion=gini, max_features=sqrt, n_estimators=100, score=0.954, total=   0.2s\n",
      "[CV] bootstrap=True, class_weight=balanced, criterion=gini, max_features=sqrt, n_estimators=200 \n",
      "[CV]  bootstrap=True, class_weight=balanced, criterion=gini, max_features=sqrt, n_estimators=200, score=0.969, total=   0.4s\n",
      "[CV] bootstrap=True, class_weight=balanced, criterion=gini, max_features=sqrt, n_estimators=200 \n",
      "[CV]  bootstrap=True, class_weight=balanced, criterion=gini, max_features=sqrt, n_estimators=200, score=0.985, total=   0.3s\n",
      "[CV] bootstrap=True, class_weight=balanced, criterion=gini, max_features=sqrt, n_estimators=200 \n",
      "[CV]  bootstrap=True, class_weight=balanced, criterion=gini, max_features=sqrt, n_estimators=200, score=0.985, total=   0.3s\n",
      "[CV] bootstrap=True, class_weight=balanced, criterion=gini, max_features=sqrt, n_estimators=200 \n",
      "[CV]  bootstrap=True, class_weight=balanced, criterion=gini, max_features=sqrt, n_estimators=200, score=0.992, total=   0.3s\n",
      "[CV] bootstrap=True, class_weight=balanced, criterion=gini, max_features=sqrt, n_estimators=200 \n",
      "[CV]  bootstrap=True, class_weight=balanced, criterion=gini, max_features=sqrt, n_estimators=200, score=0.954, total=   0.3s\n",
      "[CV] bootstrap=True, class_weight=balanced, criterion=gini, max_features=sqrt, n_estimators=300 \n",
      "[CV]  bootstrap=True, class_weight=balanced, criterion=gini, max_features=sqrt, n_estimators=300, score=0.977, total=   0.6s\n",
      "[CV] bootstrap=True, class_weight=balanced, criterion=gini, max_features=sqrt, n_estimators=300 \n",
      "[CV]  bootstrap=True, class_weight=balanced, criterion=gini, max_features=sqrt, n_estimators=300, score=0.985, total=   0.6s\n",
      "[CV] bootstrap=True, class_weight=balanced, criterion=gini, max_features=sqrt, n_estimators=300 \n",
      "[CV]  bootstrap=True, class_weight=balanced, criterion=gini, max_features=sqrt, n_estimators=300, score=0.985, total=   0.6s\n",
      "[CV] bootstrap=True, class_weight=balanced, criterion=gini, max_features=sqrt, n_estimators=300 \n",
      "[CV]  bootstrap=True, class_weight=balanced, criterion=gini, max_features=sqrt, n_estimators=300, score=0.985, total=   0.6s\n",
      "[CV] bootstrap=True, class_weight=balanced, criterion=gini, max_features=sqrt, n_estimators=300 \n",
      "[CV]  bootstrap=True, class_weight=balanced, criterion=gini, max_features=sqrt, n_estimators=300, score=0.962, total=   0.5s\n",
      "[CV] bootstrap=True, class_weight=balanced, criterion=gini, max_features=sqrt, n_estimators=400 \n",
      "[CV]  bootstrap=True, class_weight=balanced, criterion=gini, max_features=sqrt, n_estimators=400, score=0.977, total=   0.8s\n",
      "[CV] bootstrap=True, class_weight=balanced, criterion=gini, max_features=sqrt, n_estimators=400 \n"
     ]
    },
    {
     "name": "stdout",
     "output_type": "stream",
     "text": [
      "[CV]  bootstrap=True, class_weight=balanced, criterion=gini, max_features=sqrt, n_estimators=400, score=0.985, total=   0.8s\n",
      "[CV] bootstrap=True, class_weight=balanced, criterion=gini, max_features=sqrt, n_estimators=400 \n",
      "[CV]  bootstrap=True, class_weight=balanced, criterion=gini, max_features=sqrt, n_estimators=400, score=0.985, total=   0.7s\n",
      "[CV] bootstrap=True, class_weight=balanced, criterion=gini, max_features=sqrt, n_estimators=400 \n",
      "[CV]  bootstrap=True, class_weight=balanced, criterion=gini, max_features=sqrt, n_estimators=400, score=0.977, total=   0.7s\n",
      "[CV] bootstrap=True, class_weight=balanced, criterion=gini, max_features=sqrt, n_estimators=400 \n",
      "[CV]  bootstrap=True, class_weight=balanced, criterion=gini, max_features=sqrt, n_estimators=400, score=0.962, total=   0.7s\n",
      "[CV] bootstrap=True, class_weight=balanced, criterion=gini, max_features=sqrt, n_estimators=500 \n",
      "[CV]  bootstrap=True, class_weight=balanced, criterion=gini, max_features=sqrt, n_estimators=500, score=0.977, total=   0.9s\n",
      "[CV] bootstrap=True, class_weight=balanced, criterion=gini, max_features=sqrt, n_estimators=500 \n",
      "[CV]  bootstrap=True, class_weight=balanced, criterion=gini, max_features=sqrt, n_estimators=500, score=0.992, total=   0.9s\n",
      "[CV] bootstrap=True, class_weight=balanced, criterion=gini, max_features=sqrt, n_estimators=500 \n",
      "[CV]  bootstrap=True, class_weight=balanced, criterion=gini, max_features=sqrt, n_estimators=500, score=0.985, total=   0.8s\n",
      "[CV] bootstrap=True, class_weight=balanced, criterion=gini, max_features=sqrt, n_estimators=500 \n",
      "[CV]  bootstrap=True, class_weight=balanced, criterion=gini, max_features=sqrt, n_estimators=500, score=0.985, total=   0.9s\n",
      "[CV] bootstrap=True, class_weight=balanced, criterion=gini, max_features=sqrt, n_estimators=500 \n",
      "[CV]  bootstrap=True, class_weight=balanced, criterion=gini, max_features=sqrt, n_estimators=500, score=0.954, total=   0.8s\n",
      "[CV] bootstrap=True, class_weight=balanced, criterion=gini, max_features=log2, n_estimators=100 \n",
      "[CV]  bootstrap=True, class_weight=balanced, criterion=gini, max_features=log2, n_estimators=100, score=0.962, total=   0.2s\n",
      "[CV] bootstrap=True, class_weight=balanced, criterion=gini, max_features=log2, n_estimators=100 \n",
      "[CV]  bootstrap=True, class_weight=balanced, criterion=gini, max_features=log2, n_estimators=100, score=0.992, total=   0.2s\n",
      "[CV] bootstrap=True, class_weight=balanced, criterion=gini, max_features=log2, n_estimators=100 \n",
      "[CV]  bootstrap=True, class_weight=balanced, criterion=gini, max_features=log2, n_estimators=100, score=0.985, total=   0.2s\n",
      "[CV] bootstrap=True, class_weight=balanced, criterion=gini, max_features=log2, n_estimators=100 \n",
      "[CV]  bootstrap=True, class_weight=balanced, criterion=gini, max_features=log2, n_estimators=100, score=0.969, total=   0.2s\n",
      "[CV] bootstrap=True, class_weight=balanced, criterion=gini, max_features=log2, n_estimators=100 \n",
      "[CV]  bootstrap=True, class_weight=balanced, criterion=gini, max_features=log2, n_estimators=100, score=0.962, total=   0.2s\n",
      "[CV] bootstrap=True, class_weight=balanced, criterion=gini, max_features=log2, n_estimators=200 \n",
      "[CV]  bootstrap=True, class_weight=balanced, criterion=gini, max_features=log2, n_estimators=200, score=0.977, total=   0.3s\n",
      "[CV] bootstrap=True, class_weight=balanced, criterion=gini, max_features=log2, n_estimators=200 \n",
      "[CV]  bootstrap=True, class_weight=balanced, criterion=gini, max_features=log2, n_estimators=200, score=0.992, total=   0.3s\n",
      "[CV] bootstrap=True, class_weight=balanced, criterion=gini, max_features=log2, n_estimators=200 \n",
      "[CV]  bootstrap=True, class_weight=balanced, criterion=gini, max_features=log2, n_estimators=200, score=0.985, total=   0.3s\n",
      "[CV] bootstrap=True, class_weight=balanced, criterion=gini, max_features=log2, n_estimators=200 \n",
      "[CV]  bootstrap=True, class_weight=balanced, criterion=gini, max_features=log2, n_estimators=200, score=1.000, total=   0.3s\n",
      "[CV] bootstrap=True, class_weight=balanced, criterion=gini, max_features=log2, n_estimators=200 \n",
      "[CV]  bootstrap=True, class_weight=balanced, criterion=gini, max_features=log2, n_estimators=200, score=0.954, total=   0.3s\n",
      "[CV] bootstrap=True, class_weight=balanced, criterion=gini, max_features=log2, n_estimators=300 \n",
      "[CV]  bootstrap=True, class_weight=balanced, criterion=gini, max_features=log2, n_estimators=300, score=0.977, total=   0.5s\n",
      "[CV] bootstrap=True, class_weight=balanced, criterion=gini, max_features=log2, n_estimators=300 \n",
      "[CV]  bootstrap=True, class_weight=balanced, criterion=gini, max_features=log2, n_estimators=300, score=0.992, total=   0.5s\n",
      "[CV] bootstrap=True, class_weight=balanced, criterion=gini, max_features=log2, n_estimators=300 \n",
      "[CV]  bootstrap=True, class_weight=balanced, criterion=gini, max_features=log2, n_estimators=300, score=0.985, total=   0.5s\n",
      "[CV] bootstrap=True, class_weight=balanced, criterion=gini, max_features=log2, n_estimators=300 \n",
      "[CV]  bootstrap=True, class_weight=balanced, criterion=gini, max_features=log2, n_estimators=300, score=0.985, total=   0.5s\n",
      "[CV] bootstrap=True, class_weight=balanced, criterion=gini, max_features=log2, n_estimators=300 \n",
      "[CV]  bootstrap=True, class_weight=balanced, criterion=gini, max_features=log2, n_estimators=300, score=0.969, total=   0.5s\n",
      "[CV] bootstrap=True, class_weight=balanced, criterion=gini, max_features=log2, n_estimators=400 \n",
      "[CV]  bootstrap=True, class_weight=balanced, criterion=gini, max_features=log2, n_estimators=400, score=0.969, total=   0.8s\n",
      "[CV] bootstrap=True, class_weight=balanced, criterion=gini, max_features=log2, n_estimators=400 \n",
      "[CV]  bootstrap=True, class_weight=balanced, criterion=gini, max_features=log2, n_estimators=400, score=0.992, total=   0.8s\n",
      "[CV] bootstrap=True, class_weight=balanced, criterion=gini, max_features=log2, n_estimators=400 \n",
      "[CV]  bootstrap=True, class_weight=balanced, criterion=gini, max_features=log2, n_estimators=400, score=0.985, total=   0.8s\n",
      "[CV] bootstrap=True, class_weight=balanced, criterion=gini, max_features=log2, n_estimators=400 \n",
      "[CV]  bootstrap=True, class_weight=balanced, criterion=gini, max_features=log2, n_estimators=400, score=0.985, total=   0.8s\n",
      "[CV] bootstrap=True, class_weight=balanced, criterion=gini, max_features=log2, n_estimators=400 \n",
      "[CV]  bootstrap=True, class_weight=balanced, criterion=gini, max_features=log2, n_estimators=400, score=0.977, total=   0.7s\n",
      "[CV] bootstrap=True, class_weight=balanced, criterion=gini, max_features=log2, n_estimators=500 \n",
      "[CV]  bootstrap=True, class_weight=balanced, criterion=gini, max_features=log2, n_estimators=500, score=0.969, total=   1.0s\n",
      "[CV] bootstrap=True, class_weight=balanced, criterion=gini, max_features=log2, n_estimators=500 \n",
      "[CV]  bootstrap=True, class_weight=balanced, criterion=gini, max_features=log2, n_estimators=500, score=0.992, total=   1.1s\n",
      "[CV] bootstrap=True, class_weight=balanced, criterion=gini, max_features=log2, n_estimators=500 \n",
      "[CV]  bootstrap=True, class_weight=balanced, criterion=gini, max_features=log2, n_estimators=500, score=0.985, total=   0.8s\n",
      "[CV] bootstrap=True, class_weight=balanced, criterion=gini, max_features=log2, n_estimators=500 \n",
      "[CV]  bootstrap=True, class_weight=balanced, criterion=gini, max_features=log2, n_estimators=500, score=0.977, total=   0.9s\n",
      "[CV] bootstrap=True, class_weight=balanced, criterion=gini, max_features=log2, n_estimators=500 \n",
      "[CV]  bootstrap=True, class_weight=balanced, criterion=gini, max_features=log2, n_estimators=500, score=0.969, total=   0.8s\n",
      "[CV] bootstrap=True, class_weight=balanced, criterion=entropy, max_features=auto, n_estimators=100 \n",
      "[CV]  bootstrap=True, class_weight=balanced, criterion=entropy, max_features=auto, n_estimators=100, score=0.969, total=   0.2s\n",
      "[CV] bootstrap=True, class_weight=balanced, criterion=entropy, max_features=auto, n_estimators=100 \n",
      "[CV]  bootstrap=True, class_weight=balanced, criterion=entropy, max_features=auto, n_estimators=100, score=0.992, total=   0.2s\n",
      "[CV] bootstrap=True, class_weight=balanced, criterion=entropy, max_features=auto, n_estimators=100 \n",
      "[CV]  bootstrap=True, class_weight=balanced, criterion=entropy, max_features=auto, n_estimators=100, score=0.985, total=   0.2s\n",
      "[CV] bootstrap=True, class_weight=balanced, criterion=entropy, max_features=auto, n_estimators=100 \n"
     ]
    },
    {
     "name": "stdout",
     "output_type": "stream",
     "text": [
      "[CV]  bootstrap=True, class_weight=balanced, criterion=entropy, max_features=auto, n_estimators=100, score=0.985, total=   0.2s\n",
      "[CV] bootstrap=True, class_weight=balanced, criterion=entropy, max_features=auto, n_estimators=100 \n",
      "[CV]  bootstrap=True, class_weight=balanced, criterion=entropy, max_features=auto, n_estimators=100, score=0.962, total=   0.2s\n",
      "[CV] bootstrap=True, class_weight=balanced, criterion=entropy, max_features=auto, n_estimators=200 \n",
      "[CV]  bootstrap=True, class_weight=balanced, criterion=entropy, max_features=auto, n_estimators=200, score=0.962, total=   0.4s\n",
      "[CV] bootstrap=True, class_weight=balanced, criterion=entropy, max_features=auto, n_estimators=200 \n",
      "[CV]  bootstrap=True, class_weight=balanced, criterion=entropy, max_features=auto, n_estimators=200, score=0.992, total=   0.4s\n",
      "[CV] bootstrap=True, class_weight=balanced, criterion=entropy, max_features=auto, n_estimators=200 \n",
      "[CV]  bootstrap=True, class_weight=balanced, criterion=entropy, max_features=auto, n_estimators=200, score=0.985, total=   0.4s\n",
      "[CV] bootstrap=True, class_weight=balanced, criterion=entropy, max_features=auto, n_estimators=200 \n",
      "[CV]  bootstrap=True, class_weight=balanced, criterion=entropy, max_features=auto, n_estimators=200, score=1.000, total=   0.3s\n",
      "[CV] bootstrap=True, class_weight=balanced, criterion=entropy, max_features=auto, n_estimators=200 \n",
      "[CV]  bootstrap=True, class_weight=balanced, criterion=entropy, max_features=auto, n_estimators=200, score=0.969, total=   0.3s\n",
      "[CV] bootstrap=True, class_weight=balanced, criterion=entropy, max_features=auto, n_estimators=300 \n",
      "[CV]  bootstrap=True, class_weight=balanced, criterion=entropy, max_features=auto, n_estimators=300, score=0.969, total=   0.6s\n",
      "[CV] bootstrap=True, class_weight=balanced, criterion=entropy, max_features=auto, n_estimators=300 \n",
      "[CV]  bootstrap=True, class_weight=balanced, criterion=entropy, max_features=auto, n_estimators=300, score=0.992, total=   0.5s\n",
      "[CV] bootstrap=True, class_weight=balanced, criterion=entropy, max_features=auto, n_estimators=300 \n",
      "[CV]  bootstrap=True, class_weight=balanced, criterion=entropy, max_features=auto, n_estimators=300, score=0.985, total=   0.5s\n",
      "[CV] bootstrap=True, class_weight=balanced, criterion=entropy, max_features=auto, n_estimators=300 \n",
      "[CV]  bootstrap=True, class_weight=balanced, criterion=entropy, max_features=auto, n_estimators=300, score=0.977, total=   0.5s\n",
      "[CV] bootstrap=True, class_weight=balanced, criterion=entropy, max_features=auto, n_estimators=300 \n",
      "[CV]  bootstrap=True, class_weight=balanced, criterion=entropy, max_features=auto, n_estimators=300, score=0.954, total=   0.5s\n",
      "[CV] bootstrap=True, class_weight=balanced, criterion=entropy, max_features=auto, n_estimators=400 \n",
      "[CV]  bootstrap=True, class_weight=balanced, criterion=entropy, max_features=auto, n_estimators=400, score=0.969, total=   0.8s\n",
      "[CV] bootstrap=True, class_weight=balanced, criterion=entropy, max_features=auto, n_estimators=400 \n",
      "[CV]  bootstrap=True, class_weight=balanced, criterion=entropy, max_features=auto, n_estimators=400, score=0.985, total=   0.7s\n",
      "[CV] bootstrap=True, class_weight=balanced, criterion=entropy, max_features=auto, n_estimators=400 \n",
      "[CV]  bootstrap=True, class_weight=balanced, criterion=entropy, max_features=auto, n_estimators=400, score=0.985, total=   0.7s\n",
      "[CV] bootstrap=True, class_weight=balanced, criterion=entropy, max_features=auto, n_estimators=400 \n",
      "[CV]  bootstrap=True, class_weight=balanced, criterion=entropy, max_features=auto, n_estimators=400, score=0.969, total=   0.7s\n",
      "[CV] bootstrap=True, class_weight=balanced, criterion=entropy, max_features=auto, n_estimators=400 \n",
      "[CV]  bootstrap=True, class_weight=balanced, criterion=entropy, max_features=auto, n_estimators=400, score=0.954, total=   0.7s\n",
      "[CV] bootstrap=True, class_weight=balanced, criterion=entropy, max_features=auto, n_estimators=500 \n",
      "[CV]  bootstrap=True, class_weight=balanced, criterion=entropy, max_features=auto, n_estimators=500, score=0.977, total=   0.9s\n",
      "[CV] bootstrap=True, class_weight=balanced, criterion=entropy, max_features=auto, n_estimators=500 \n",
      "[CV]  bootstrap=True, class_weight=balanced, criterion=entropy, max_features=auto, n_estimators=500, score=0.992, total=   0.9s\n",
      "[CV] bootstrap=True, class_weight=balanced, criterion=entropy, max_features=auto, n_estimators=500 \n",
      "[CV]  bootstrap=True, class_weight=balanced, criterion=entropy, max_features=auto, n_estimators=500, score=0.985, total=   0.9s\n",
      "[CV] bootstrap=True, class_weight=balanced, criterion=entropy, max_features=auto, n_estimators=500 \n",
      "[CV]  bootstrap=True, class_weight=balanced, criterion=entropy, max_features=auto, n_estimators=500, score=0.985, total=   0.8s\n",
      "[CV] bootstrap=True, class_weight=balanced, criterion=entropy, max_features=auto, n_estimators=500 \n",
      "[CV]  bootstrap=True, class_weight=balanced, criterion=entropy, max_features=auto, n_estimators=500, score=0.954, total=   0.8s\n",
      "[CV] bootstrap=True, class_weight=balanced, criterion=entropy, max_features=sqrt, n_estimators=100 \n",
      "[CV]  bootstrap=True, class_weight=balanced, criterion=entropy, max_features=sqrt, n_estimators=100, score=0.977, total=   0.2s\n",
      "[CV] bootstrap=True, class_weight=balanced, criterion=entropy, max_features=sqrt, n_estimators=100 \n",
      "[CV]  bootstrap=True, class_weight=balanced, criterion=entropy, max_features=sqrt, n_estimators=100, score=0.985, total=   0.2s\n",
      "[CV] bootstrap=True, class_weight=balanced, criterion=entropy, max_features=sqrt, n_estimators=100 \n",
      "[CV]  bootstrap=True, class_weight=balanced, criterion=entropy, max_features=sqrt, n_estimators=100, score=0.985, total=   0.2s\n",
      "[CV] bootstrap=True, class_weight=balanced, criterion=entropy, max_features=sqrt, n_estimators=100 \n",
      "[CV]  bootstrap=True, class_weight=balanced, criterion=entropy, max_features=sqrt, n_estimators=100, score=0.985, total=   0.2s\n",
      "[CV] bootstrap=True, class_weight=balanced, criterion=entropy, max_features=sqrt, n_estimators=100 \n",
      "[CV]  bootstrap=True, class_weight=balanced, criterion=entropy, max_features=sqrt, n_estimators=100, score=0.969, total=   0.2s\n",
      "[CV] bootstrap=True, class_weight=balanced, criterion=entropy, max_features=sqrt, n_estimators=200 \n",
      "[CV]  bootstrap=True, class_weight=balanced, criterion=entropy, max_features=sqrt, n_estimators=200, score=0.969, total=   0.4s\n",
      "[CV] bootstrap=True, class_weight=balanced, criterion=entropy, max_features=sqrt, n_estimators=200 \n",
      "[CV]  bootstrap=True, class_weight=balanced, criterion=entropy, max_features=sqrt, n_estimators=200, score=0.992, total=   0.4s\n",
      "[CV] bootstrap=True, class_weight=balanced, criterion=entropy, max_features=sqrt, n_estimators=200 \n",
      "[CV]  bootstrap=True, class_weight=balanced, criterion=entropy, max_features=sqrt, n_estimators=200, score=0.985, total=   0.3s\n",
      "[CV] bootstrap=True, class_weight=balanced, criterion=entropy, max_features=sqrt, n_estimators=200 \n",
      "[CV]  bootstrap=True, class_weight=balanced, criterion=entropy, max_features=sqrt, n_estimators=200, score=0.992, total=   0.3s\n",
      "[CV] bootstrap=True, class_weight=balanced, criterion=entropy, max_features=sqrt, n_estimators=200 \n",
      "[CV]  bootstrap=True, class_weight=balanced, criterion=entropy, max_features=sqrt, n_estimators=200, score=0.962, total=   0.3s\n",
      "[CV] bootstrap=True, class_weight=balanced, criterion=entropy, max_features=sqrt, n_estimators=300 \n",
      "[CV]  bootstrap=True, class_weight=balanced, criterion=entropy, max_features=sqrt, n_estimators=300, score=0.962, total=   0.6s\n",
      "[CV] bootstrap=True, class_weight=balanced, criterion=entropy, max_features=sqrt, n_estimators=300 \n",
      "[CV]  bootstrap=True, class_weight=balanced, criterion=entropy, max_features=sqrt, n_estimators=300, score=0.992, total=   0.5s\n",
      "[CV] bootstrap=True, class_weight=balanced, criterion=entropy, max_features=sqrt, n_estimators=300 \n",
      "[CV]  bootstrap=True, class_weight=balanced, criterion=entropy, max_features=sqrt, n_estimators=300, score=0.985, total=   0.5s\n",
      "[CV] bootstrap=True, class_weight=balanced, criterion=entropy, max_features=sqrt, n_estimators=300 \n",
      "[CV]  bootstrap=True, class_weight=balanced, criterion=entropy, max_features=sqrt, n_estimators=300, score=1.000, total=   0.6s\n",
      "[CV] bootstrap=True, class_weight=balanced, criterion=entropy, max_features=sqrt, n_estimators=300 \n"
     ]
    },
    {
     "name": "stdout",
     "output_type": "stream",
     "text": [
      "[CV]  bootstrap=True, class_weight=balanced, criterion=entropy, max_features=sqrt, n_estimators=300, score=0.954, total=   0.5s\n",
      "[CV] bootstrap=True, class_weight=balanced, criterion=entropy, max_features=sqrt, n_estimators=400 \n",
      "[CV]  bootstrap=True, class_weight=balanced, criterion=entropy, max_features=sqrt, n_estimators=400, score=0.977, total=   0.7s\n",
      "[CV] bootstrap=True, class_weight=balanced, criterion=entropy, max_features=sqrt, n_estimators=400 \n",
      "[CV]  bootstrap=True, class_weight=balanced, criterion=entropy, max_features=sqrt, n_estimators=400, score=0.992, total=   0.8s\n",
      "[CV] bootstrap=True, class_weight=balanced, criterion=entropy, max_features=sqrt, n_estimators=400 \n",
      "[CV]  bootstrap=True, class_weight=balanced, criterion=entropy, max_features=sqrt, n_estimators=400, score=0.985, total=   0.7s\n",
      "[CV] bootstrap=True, class_weight=balanced, criterion=entropy, max_features=sqrt, n_estimators=400 \n",
      "[CV]  bootstrap=True, class_weight=balanced, criterion=entropy, max_features=sqrt, n_estimators=400, score=0.985, total=   0.6s\n",
      "[CV] bootstrap=True, class_weight=balanced, criterion=entropy, max_features=sqrt, n_estimators=400 \n",
      "[CV]  bootstrap=True, class_weight=balanced, criterion=entropy, max_features=sqrt, n_estimators=400, score=0.954, total=   0.6s\n",
      "[CV] bootstrap=True, class_weight=balanced, criterion=entropy, max_features=sqrt, n_estimators=500 \n",
      "[CV]  bootstrap=True, class_weight=balanced, criterion=entropy, max_features=sqrt, n_estimators=500, score=0.969, total=   0.9s\n",
      "[CV] bootstrap=True, class_weight=balanced, criterion=entropy, max_features=sqrt, n_estimators=500 \n",
      "[CV]  bootstrap=True, class_weight=balanced, criterion=entropy, max_features=sqrt, n_estimators=500, score=0.985, total=   0.9s\n",
      "[CV] bootstrap=True, class_weight=balanced, criterion=entropy, max_features=sqrt, n_estimators=500 \n",
      "[CV]  bootstrap=True, class_weight=balanced, criterion=entropy, max_features=sqrt, n_estimators=500, score=0.985, total=   0.8s\n",
      "[CV] bootstrap=True, class_weight=balanced, criterion=entropy, max_features=sqrt, n_estimators=500 \n",
      "[CV]  bootstrap=True, class_weight=balanced, criterion=entropy, max_features=sqrt, n_estimators=500, score=0.992, total=   0.8s\n",
      "[CV] bootstrap=True, class_weight=balanced, criterion=entropy, max_features=sqrt, n_estimators=500 \n",
      "[CV]  bootstrap=True, class_weight=balanced, criterion=entropy, max_features=sqrt, n_estimators=500, score=0.962, total=   0.8s\n",
      "[CV] bootstrap=True, class_weight=balanced, criterion=entropy, max_features=log2, n_estimators=100 \n",
      "[CV]  bootstrap=True, class_weight=balanced, criterion=entropy, max_features=log2, n_estimators=100, score=0.962, total=   0.2s\n",
      "[CV] bootstrap=True, class_weight=balanced, criterion=entropy, max_features=log2, n_estimators=100 \n",
      "[CV]  bootstrap=True, class_weight=balanced, criterion=entropy, max_features=log2, n_estimators=100, score=0.985, total=   0.2s\n",
      "[CV] bootstrap=True, class_weight=balanced, criterion=entropy, max_features=log2, n_estimators=100 \n",
      "[CV]  bootstrap=True, class_weight=balanced, criterion=entropy, max_features=log2, n_estimators=100, score=0.985, total=   0.2s\n",
      "[CV] bootstrap=True, class_weight=balanced, criterion=entropy, max_features=log2, n_estimators=100 \n",
      "[CV]  bootstrap=True, class_weight=balanced, criterion=entropy, max_features=log2, n_estimators=100, score=0.992, total=   0.2s\n",
      "[CV] bootstrap=True, class_weight=balanced, criterion=entropy, max_features=log2, n_estimators=100 \n",
      "[CV]  bootstrap=True, class_weight=balanced, criterion=entropy, max_features=log2, n_estimators=100, score=0.969, total=   0.2s\n",
      "[CV] bootstrap=True, class_weight=balanced, criterion=entropy, max_features=log2, n_estimators=200 \n",
      "[CV]  bootstrap=True, class_weight=balanced, criterion=entropy, max_features=log2, n_estimators=200, score=0.977, total=   0.4s\n",
      "[CV] bootstrap=True, class_weight=balanced, criterion=entropy, max_features=log2, n_estimators=200 \n",
      "[CV]  bootstrap=True, class_weight=balanced, criterion=entropy, max_features=log2, n_estimators=200, score=0.992, total=   0.4s\n",
      "[CV] bootstrap=True, class_weight=balanced, criterion=entropy, max_features=log2, n_estimators=200 \n",
      "[CV]  bootstrap=True, class_weight=balanced, criterion=entropy, max_features=log2, n_estimators=200, score=0.985, total=   0.3s\n",
      "[CV] bootstrap=True, class_weight=balanced, criterion=entropy, max_features=log2, n_estimators=200 \n",
      "[CV]  bootstrap=True, class_weight=balanced, criterion=entropy, max_features=log2, n_estimators=200, score=0.985, total=   0.3s\n",
      "[CV] bootstrap=True, class_weight=balanced, criterion=entropy, max_features=log2, n_estimators=200 \n",
      "[CV]  bootstrap=True, class_weight=balanced, criterion=entropy, max_features=log2, n_estimators=200, score=0.969, total=   0.3s\n",
      "[CV] bootstrap=True, class_weight=balanced, criterion=entropy, max_features=log2, n_estimators=300 \n",
      "[CV]  bootstrap=True, class_weight=balanced, criterion=entropy, max_features=log2, n_estimators=300, score=0.977, total=   0.5s\n",
      "[CV] bootstrap=True, class_weight=balanced, criterion=entropy, max_features=log2, n_estimators=300 \n",
      "[CV]  bootstrap=True, class_weight=balanced, criterion=entropy, max_features=log2, n_estimators=300, score=0.992, total=   0.5s\n",
      "[CV] bootstrap=True, class_weight=balanced, criterion=entropy, max_features=log2, n_estimators=300 \n",
      "[CV]  bootstrap=True, class_weight=balanced, criterion=entropy, max_features=log2, n_estimators=300, score=0.985, total=   0.5s\n",
      "[CV] bootstrap=True, class_weight=balanced, criterion=entropy, max_features=log2, n_estimators=300 \n",
      "[CV]  bootstrap=True, class_weight=balanced, criterion=entropy, max_features=log2, n_estimators=300, score=0.985, total=   0.5s\n",
      "[CV] bootstrap=True, class_weight=balanced, criterion=entropy, max_features=log2, n_estimators=300 \n",
      "[CV]  bootstrap=True, class_weight=balanced, criterion=entropy, max_features=log2, n_estimators=300, score=0.969, total=   0.5s\n",
      "[CV] bootstrap=True, class_weight=balanced, criterion=entropy, max_features=log2, n_estimators=400 \n",
      "[CV]  bootstrap=True, class_weight=balanced, criterion=entropy, max_features=log2, n_estimators=400, score=0.977, total=   0.7s\n",
      "[CV] bootstrap=True, class_weight=balanced, criterion=entropy, max_features=log2, n_estimators=400 \n",
      "[CV]  bootstrap=True, class_weight=balanced, criterion=entropy, max_features=log2, n_estimators=400, score=0.992, total=   0.7s\n",
      "[CV] bootstrap=True, class_weight=balanced, criterion=entropy, max_features=log2, n_estimators=400 \n",
      "[CV]  bootstrap=True, class_weight=balanced, criterion=entropy, max_features=log2, n_estimators=400, score=0.985, total=   0.7s\n",
      "[CV] bootstrap=True, class_weight=balanced, criterion=entropy, max_features=log2, n_estimators=400 \n",
      "[CV]  bootstrap=True, class_weight=balanced, criterion=entropy, max_features=log2, n_estimators=400, score=0.992, total=   0.6s\n",
      "[CV] bootstrap=True, class_weight=balanced, criterion=entropy, max_features=log2, n_estimators=400 \n",
      "[CV]  bootstrap=True, class_weight=balanced, criterion=entropy, max_features=log2, n_estimators=400, score=0.969, total=   0.6s\n",
      "[CV] bootstrap=True, class_weight=balanced, criterion=entropy, max_features=log2, n_estimators=500 \n",
      "[CV]  bootstrap=True, class_weight=balanced, criterion=entropy, max_features=log2, n_estimators=500, score=0.977, total=   0.9s\n",
      "[CV] bootstrap=True, class_weight=balanced, criterion=entropy, max_features=log2, n_estimators=500 \n",
      "[CV]  bootstrap=True, class_weight=balanced, criterion=entropy, max_features=log2, n_estimators=500, score=0.992, total=   0.8s\n",
      "[CV] bootstrap=True, class_weight=balanced, criterion=entropy, max_features=log2, n_estimators=500 \n",
      "[CV]  bootstrap=True, class_weight=balanced, criterion=entropy, max_features=log2, n_estimators=500, score=0.985, total=   0.8s\n",
      "[CV] bootstrap=True, class_weight=balanced, criterion=entropy, max_features=log2, n_estimators=500 \n",
      "[CV]  bootstrap=True, class_weight=balanced, criterion=entropy, max_features=log2, n_estimators=500, score=0.977, total=   0.8s\n",
      "[CV] bootstrap=True, class_weight=balanced, criterion=entropy, max_features=log2, n_estimators=500 \n",
      "[CV]  bootstrap=True, class_weight=balanced, criterion=entropy, max_features=log2, n_estimators=500, score=0.969, total=   0.8s\n",
      "[CV] bootstrap=True, class_weight=balanced_subsample, criterion=gini, max_features=auto, n_estimators=100 \n"
     ]
    },
    {
     "name": "stdout",
     "output_type": "stream",
     "text": [
      "[CV]  bootstrap=True, class_weight=balanced_subsample, criterion=gini, max_features=auto, n_estimators=100, score=0.977, total=   0.2s\n",
      "[CV] bootstrap=True, class_weight=balanced_subsample, criterion=gini, max_features=auto, n_estimators=100 \n",
      "[CV]  bootstrap=True, class_weight=balanced_subsample, criterion=gini, max_features=auto, n_estimators=100, score=0.985, total=   0.2s\n",
      "[CV] bootstrap=True, class_weight=balanced_subsample, criterion=gini, max_features=auto, n_estimators=100 \n",
      "[CV]  bootstrap=True, class_weight=balanced_subsample, criterion=gini, max_features=auto, n_estimators=100, score=0.985, total=   0.2s\n",
      "[CV] bootstrap=True, class_weight=balanced_subsample, criterion=gini, max_features=auto, n_estimators=100 \n",
      "[CV]  bootstrap=True, class_weight=balanced_subsample, criterion=gini, max_features=auto, n_estimators=100, score=0.977, total=   0.2s\n",
      "[CV] bootstrap=True, class_weight=balanced_subsample, criterion=gini, max_features=auto, n_estimators=100 \n",
      "[CV]  bootstrap=True, class_weight=balanced_subsample, criterion=gini, max_features=auto, n_estimators=100, score=0.962, total=   0.2s\n",
      "[CV] bootstrap=True, class_weight=balanced_subsample, criterion=gini, max_features=auto, n_estimators=200 \n",
      "[CV]  bootstrap=True, class_weight=balanced_subsample, criterion=gini, max_features=auto, n_estimators=200, score=0.977, total=   0.4s\n",
      "[CV] bootstrap=True, class_weight=balanced_subsample, criterion=gini, max_features=auto, n_estimators=200 \n",
      "[CV]  bootstrap=True, class_weight=balanced_subsample, criterion=gini, max_features=auto, n_estimators=200, score=0.985, total=   0.4s\n",
      "[CV] bootstrap=True, class_weight=balanced_subsample, criterion=gini, max_features=auto, n_estimators=200 \n",
      "[CV]  bootstrap=True, class_weight=balanced_subsample, criterion=gini, max_features=auto, n_estimators=200, score=0.985, total=   0.4s\n",
      "[CV] bootstrap=True, class_weight=balanced_subsample, criterion=gini, max_features=auto, n_estimators=200 \n",
      "[CV]  bootstrap=True, class_weight=balanced_subsample, criterion=gini, max_features=auto, n_estimators=200, score=0.977, total=   0.4s\n",
      "[CV] bootstrap=True, class_weight=balanced_subsample, criterion=gini, max_features=auto, n_estimators=200 \n",
      "[CV]  bootstrap=True, class_weight=balanced_subsample, criterion=gini, max_features=auto, n_estimators=200, score=0.954, total=   0.4s\n",
      "[CV] bootstrap=True, class_weight=balanced_subsample, criterion=gini, max_features=auto, n_estimators=300 \n",
      "[CV]  bootstrap=True, class_weight=balanced_subsample, criterion=gini, max_features=auto, n_estimators=300, score=0.977, total=   0.6s\n",
      "[CV] bootstrap=True, class_weight=balanced_subsample, criterion=gini, max_features=auto, n_estimators=300 \n",
      "[CV]  bootstrap=True, class_weight=balanced_subsample, criterion=gini, max_features=auto, n_estimators=300, score=0.992, total=   0.6s\n",
      "[CV] bootstrap=True, class_weight=balanced_subsample, criterion=gini, max_features=auto, n_estimators=300 \n",
      "[CV]  bootstrap=True, class_weight=balanced_subsample, criterion=gini, max_features=auto, n_estimators=300, score=0.985, total=   0.7s\n",
      "[CV] bootstrap=True, class_weight=balanced_subsample, criterion=gini, max_features=auto, n_estimators=300 \n",
      "[CV]  bootstrap=True, class_weight=balanced_subsample, criterion=gini, max_features=auto, n_estimators=300, score=0.985, total=   0.6s\n",
      "[CV] bootstrap=True, class_weight=balanced_subsample, criterion=gini, max_features=auto, n_estimators=300 \n",
      "[CV]  bootstrap=True, class_weight=balanced_subsample, criterion=gini, max_features=auto, n_estimators=300, score=0.962, total=   0.6s\n",
      "[CV] bootstrap=True, class_weight=balanced_subsample, criterion=gini, max_features=auto, n_estimators=400 \n",
      "[CV]  bootstrap=True, class_weight=balanced_subsample, criterion=gini, max_features=auto, n_estimators=400, score=0.977, total=   0.9s\n",
      "[CV] bootstrap=True, class_weight=balanced_subsample, criterion=gini, max_features=auto, n_estimators=400 \n",
      "[CV]  bootstrap=True, class_weight=balanced_subsample, criterion=gini, max_features=auto, n_estimators=400, score=0.992, total=   0.8s\n",
      "[CV] bootstrap=True, class_weight=balanced_subsample, criterion=gini, max_features=auto, n_estimators=400 \n",
      "[CV]  bootstrap=True, class_weight=balanced_subsample, criterion=gini, max_features=auto, n_estimators=400, score=0.985, total=   0.9s\n",
      "[CV] bootstrap=True, class_weight=balanced_subsample, criterion=gini, max_features=auto, n_estimators=400 \n",
      "[CV]  bootstrap=True, class_weight=balanced_subsample, criterion=gini, max_features=auto, n_estimators=400, score=0.977, total=   0.9s\n",
      "[CV] bootstrap=True, class_weight=balanced_subsample, criterion=gini, max_features=auto, n_estimators=400 \n",
      "[CV]  bootstrap=True, class_weight=balanced_subsample, criterion=gini, max_features=auto, n_estimators=400, score=0.954, total=   0.8s\n",
      "[CV] bootstrap=True, class_weight=balanced_subsample, criterion=gini, max_features=auto, n_estimators=500 \n",
      "[CV]  bootstrap=True, class_weight=balanced_subsample, criterion=gini, max_features=auto, n_estimators=500, score=0.977, total=   1.1s\n",
      "[CV] bootstrap=True, class_weight=balanced_subsample, criterion=gini, max_features=auto, n_estimators=500 \n",
      "[CV]  bootstrap=True, class_weight=balanced_subsample, criterion=gini, max_features=auto, n_estimators=500, score=0.992, total=   1.1s\n",
      "[CV] bootstrap=True, class_weight=balanced_subsample, criterion=gini, max_features=auto, n_estimators=500 \n",
      "[CV]  bootstrap=True, class_weight=balanced_subsample, criterion=gini, max_features=auto, n_estimators=500, score=0.985, total=   1.0s\n",
      "[CV] bootstrap=True, class_weight=balanced_subsample, criterion=gini, max_features=auto, n_estimators=500 \n",
      "[CV]  bootstrap=True, class_weight=balanced_subsample, criterion=gini, max_features=auto, n_estimators=500, score=0.985, total=   1.1s\n",
      "[CV] bootstrap=True, class_weight=balanced_subsample, criterion=gini, max_features=auto, n_estimators=500 \n",
      "[CV]  bootstrap=True, class_weight=balanced_subsample, criterion=gini, max_features=auto, n_estimators=500, score=0.962, total=   1.0s\n",
      "[CV] bootstrap=True, class_weight=balanced_subsample, criterion=gini, max_features=sqrt, n_estimators=100 \n",
      "[CV]  bootstrap=True, class_weight=balanced_subsample, criterion=gini, max_features=sqrt, n_estimators=100, score=0.977, total=   0.2s\n",
      "[CV] bootstrap=True, class_weight=balanced_subsample, criterion=gini, max_features=sqrt, n_estimators=100 \n",
      "[CV]  bootstrap=True, class_weight=balanced_subsample, criterion=gini, max_features=sqrt, n_estimators=100, score=0.985, total=   0.2s\n",
      "[CV] bootstrap=True, class_weight=balanced_subsample, criterion=gini, max_features=sqrt, n_estimators=100 \n",
      "[CV]  bootstrap=True, class_weight=balanced_subsample, criterion=gini, max_features=sqrt, n_estimators=100, score=0.985, total=   0.2s\n",
      "[CV] bootstrap=True, class_weight=balanced_subsample, criterion=gini, max_features=sqrt, n_estimators=100 \n",
      "[CV]  bootstrap=True, class_weight=balanced_subsample, criterion=gini, max_features=sqrt, n_estimators=100, score=0.985, total=   0.2s\n",
      "[CV] bootstrap=True, class_weight=balanced_subsample, criterion=gini, max_features=sqrt, n_estimators=100 \n",
      "[CV]  bootstrap=True, class_weight=balanced_subsample, criterion=gini, max_features=sqrt, n_estimators=100, score=0.946, total=   0.2s\n",
      "[CV] bootstrap=True, class_weight=balanced_subsample, criterion=gini, max_features=sqrt, n_estimators=200 \n",
      "[CV]  bootstrap=True, class_weight=balanced_subsample, criterion=gini, max_features=sqrt, n_estimators=200, score=0.977, total=   0.4s\n",
      "[CV] bootstrap=True, class_weight=balanced_subsample, criterion=gini, max_features=sqrt, n_estimators=200 \n",
      "[CV]  bootstrap=True, class_weight=balanced_subsample, criterion=gini, max_features=sqrt, n_estimators=200, score=0.985, total=   0.4s\n",
      "[CV] bootstrap=True, class_weight=balanced_subsample, criterion=gini, max_features=sqrt, n_estimators=200 \n",
      "[CV]  bootstrap=True, class_weight=balanced_subsample, criterion=gini, max_features=sqrt, n_estimators=200, score=0.985, total=   0.4s\n",
      "[CV] bootstrap=True, class_weight=balanced_subsample, criterion=gini, max_features=sqrt, n_estimators=200 \n",
      "[CV]  bootstrap=True, class_weight=balanced_subsample, criterion=gini, max_features=sqrt, n_estimators=200, score=0.985, total=   0.4s\n",
      "[CV] bootstrap=True, class_weight=balanced_subsample, criterion=gini, max_features=sqrt, n_estimators=200 \n"
     ]
    },
    {
     "name": "stdout",
     "output_type": "stream",
     "text": [
      "[CV]  bootstrap=True, class_weight=balanced_subsample, criterion=gini, max_features=sqrt, n_estimators=200, score=0.962, total=   0.4s\n",
      "[CV] bootstrap=True, class_weight=balanced_subsample, criterion=gini, max_features=sqrt, n_estimators=300 \n",
      "[CV]  bootstrap=True, class_weight=balanced_subsample, criterion=gini, max_features=sqrt, n_estimators=300, score=0.969, total=   0.6s\n",
      "[CV] bootstrap=True, class_weight=balanced_subsample, criterion=gini, max_features=sqrt, n_estimators=300 \n",
      "[CV]  bootstrap=True, class_weight=balanced_subsample, criterion=gini, max_features=sqrt, n_estimators=300, score=0.985, total=   0.6s\n",
      "[CV] bootstrap=True, class_weight=balanced_subsample, criterion=gini, max_features=sqrt, n_estimators=300 \n",
      "[CV]  bootstrap=True, class_weight=balanced_subsample, criterion=gini, max_features=sqrt, n_estimators=300, score=0.985, total=   0.6s\n",
      "[CV] bootstrap=True, class_weight=balanced_subsample, criterion=gini, max_features=sqrt, n_estimators=300 \n",
      "[CV]  bootstrap=True, class_weight=balanced_subsample, criterion=gini, max_features=sqrt, n_estimators=300, score=0.977, total=   0.6s\n",
      "[CV] bootstrap=True, class_weight=balanced_subsample, criterion=gini, max_features=sqrt, n_estimators=300 \n",
      "[CV]  bootstrap=True, class_weight=balanced_subsample, criterion=gini, max_features=sqrt, n_estimators=300, score=0.954, total=   0.6s\n",
      "[CV] bootstrap=True, class_weight=balanced_subsample, criterion=gini, max_features=sqrt, n_estimators=400 \n",
      "[CV]  bootstrap=True, class_weight=balanced_subsample, criterion=gini, max_features=sqrt, n_estimators=400, score=0.977, total=   0.8s\n",
      "[CV] bootstrap=True, class_weight=balanced_subsample, criterion=gini, max_features=sqrt, n_estimators=400 \n",
      "[CV]  bootstrap=True, class_weight=balanced_subsample, criterion=gini, max_features=sqrt, n_estimators=400, score=0.985, total=   0.8s\n",
      "[CV] bootstrap=True, class_weight=balanced_subsample, criterion=gini, max_features=sqrt, n_estimators=400 \n",
      "[CV]  bootstrap=True, class_weight=balanced_subsample, criterion=gini, max_features=sqrt, n_estimators=400, score=0.985, total=   0.9s\n",
      "[CV] bootstrap=True, class_weight=balanced_subsample, criterion=gini, max_features=sqrt, n_estimators=400 \n",
      "[CV]  bootstrap=True, class_weight=balanced_subsample, criterion=gini, max_features=sqrt, n_estimators=400, score=0.985, total=   0.8s\n",
      "[CV] bootstrap=True, class_weight=balanced_subsample, criterion=gini, max_features=sqrt, n_estimators=400 \n",
      "[CV]  bootstrap=True, class_weight=balanced_subsample, criterion=gini, max_features=sqrt, n_estimators=400, score=0.962, total=   0.8s\n",
      "[CV] bootstrap=True, class_weight=balanced_subsample, criterion=gini, max_features=sqrt, n_estimators=500 \n",
      "[CV]  bootstrap=True, class_weight=balanced_subsample, criterion=gini, max_features=sqrt, n_estimators=500, score=0.977, total=   1.2s\n",
      "[CV] bootstrap=True, class_weight=balanced_subsample, criterion=gini, max_features=sqrt, n_estimators=500 \n",
      "[CV]  bootstrap=True, class_weight=balanced_subsample, criterion=gini, max_features=sqrt, n_estimators=500, score=0.985, total=   1.1s\n",
      "[CV] bootstrap=True, class_weight=balanced_subsample, criterion=gini, max_features=sqrt, n_estimators=500 \n",
      "[CV]  bootstrap=True, class_weight=balanced_subsample, criterion=gini, max_features=sqrt, n_estimators=500, score=0.985, total=   1.1s\n",
      "[CV] bootstrap=True, class_weight=balanced_subsample, criterion=gini, max_features=sqrt, n_estimators=500 \n",
      "[CV]  bootstrap=True, class_weight=balanced_subsample, criterion=gini, max_features=sqrt, n_estimators=500, score=0.985, total=   1.0s\n",
      "[CV] bootstrap=True, class_weight=balanced_subsample, criterion=gini, max_features=sqrt, n_estimators=500 \n",
      "[CV]  bootstrap=True, class_weight=balanced_subsample, criterion=gini, max_features=sqrt, n_estimators=500, score=0.954, total=   1.0s\n",
      "[CV] bootstrap=True, class_weight=balanced_subsample, criterion=gini, max_features=log2, n_estimators=100 \n",
      "[CV]  bootstrap=True, class_weight=balanced_subsample, criterion=gini, max_features=log2, n_estimators=100, score=0.977, total=   0.2s\n",
      "[CV] bootstrap=True, class_weight=balanced_subsample, criterion=gini, max_features=log2, n_estimators=100 \n",
      "[CV]  bootstrap=True, class_weight=balanced_subsample, criterion=gini, max_features=log2, n_estimators=100, score=0.992, total=   0.2s\n",
      "[CV] bootstrap=True, class_weight=balanced_subsample, criterion=gini, max_features=log2, n_estimators=100 \n",
      "[CV]  bootstrap=True, class_weight=balanced_subsample, criterion=gini, max_features=log2, n_estimators=100, score=0.985, total=   0.2s\n",
      "[CV] bootstrap=True, class_weight=balanced_subsample, criterion=gini, max_features=log2, n_estimators=100 \n",
      "[CV]  bootstrap=True, class_weight=balanced_subsample, criterion=gini, max_features=log2, n_estimators=100, score=0.977, total=   0.2s\n",
      "[CV] bootstrap=True, class_weight=balanced_subsample, criterion=gini, max_features=log2, n_estimators=100 \n",
      "[CV]  bootstrap=True, class_weight=balanced_subsample, criterion=gini, max_features=log2, n_estimators=100, score=0.969, total=   0.2s\n",
      "[CV] bootstrap=True, class_weight=balanced_subsample, criterion=gini, max_features=log2, n_estimators=200 \n",
      "[CV]  bootstrap=True, class_weight=balanced_subsample, criterion=gini, max_features=log2, n_estimators=200, score=0.969, total=   0.4s\n",
      "[CV] bootstrap=True, class_weight=balanced_subsample, criterion=gini, max_features=log2, n_estimators=200 \n",
      "[CV]  bootstrap=True, class_weight=balanced_subsample, criterion=gini, max_features=log2, n_estimators=200, score=0.985, total=   0.4s\n",
      "[CV] bootstrap=True, class_weight=balanced_subsample, criterion=gini, max_features=log2, n_estimators=200 \n",
      "[CV]  bootstrap=True, class_weight=balanced_subsample, criterion=gini, max_features=log2, n_estimators=200, score=0.985, total=   0.5s\n",
      "[CV] bootstrap=True, class_weight=balanced_subsample, criterion=gini, max_features=log2, n_estimators=200 \n",
      "[CV]  bootstrap=True, class_weight=balanced_subsample, criterion=gini, max_features=log2, n_estimators=200, score=0.985, total=   0.4s\n",
      "[CV] bootstrap=True, class_weight=balanced_subsample, criterion=gini, max_features=log2, n_estimators=200 \n",
      "[CV]  bootstrap=True, class_weight=balanced_subsample, criterion=gini, max_features=log2, n_estimators=200, score=0.962, total=   0.4s\n",
      "[CV] bootstrap=True, class_weight=balanced_subsample, criterion=gini, max_features=log2, n_estimators=300 \n",
      "[CV]  bootstrap=True, class_weight=balanced_subsample, criterion=gini, max_features=log2, n_estimators=300, score=0.969, total=   0.7s\n",
      "[CV] bootstrap=True, class_weight=balanced_subsample, criterion=gini, max_features=log2, n_estimators=300 \n",
      "[CV]  bootstrap=True, class_weight=balanced_subsample, criterion=gini, max_features=log2, n_estimators=300, score=0.992, total=   0.6s\n",
      "[CV] bootstrap=True, class_weight=balanced_subsample, criterion=gini, max_features=log2, n_estimators=300 \n",
      "[CV]  bootstrap=True, class_weight=balanced_subsample, criterion=gini, max_features=log2, n_estimators=300, score=0.985, total=   0.6s\n",
      "[CV] bootstrap=True, class_weight=balanced_subsample, criterion=gini, max_features=log2, n_estimators=300 \n",
      "[CV]  bootstrap=True, class_weight=balanced_subsample, criterion=gini, max_features=log2, n_estimators=300, score=0.992, total=   0.6s\n",
      "[CV] bootstrap=True, class_weight=balanced_subsample, criterion=gini, max_features=log2, n_estimators=300 \n",
      "[CV]  bootstrap=True, class_weight=balanced_subsample, criterion=gini, max_features=log2, n_estimators=300, score=0.977, total=   0.7s\n",
      "[CV] bootstrap=True, class_weight=balanced_subsample, criterion=gini, max_features=log2, n_estimators=400 \n",
      "[CV]  bootstrap=True, class_weight=balanced_subsample, criterion=gini, max_features=log2, n_estimators=400, score=0.977, total=   0.9s\n",
      "[CV] bootstrap=True, class_weight=balanced_subsample, criterion=gini, max_features=log2, n_estimators=400 \n",
      "[CV]  bootstrap=True, class_weight=balanced_subsample, criterion=gini, max_features=log2, n_estimators=400, score=0.992, total=   0.9s\n",
      "[CV] bootstrap=True, class_weight=balanced_subsample, criterion=gini, max_features=log2, n_estimators=400 \n",
      "[CV]  bootstrap=True, class_weight=balanced_subsample, criterion=gini, max_features=log2, n_estimators=400, score=0.985, total=   0.8s\n",
      "[CV] bootstrap=True, class_weight=balanced_subsample, criterion=gini, max_features=log2, n_estimators=400 \n"
     ]
    },
    {
     "name": "stdout",
     "output_type": "stream",
     "text": [
      "[CV]  bootstrap=True, class_weight=balanced_subsample, criterion=gini, max_features=log2, n_estimators=400, score=0.992, total=   0.8s\n",
      "[CV] bootstrap=True, class_weight=balanced_subsample, criterion=gini, max_features=log2, n_estimators=400 \n",
      "[CV]  bootstrap=True, class_weight=balanced_subsample, criterion=gini, max_features=log2, n_estimators=400, score=0.969, total=   0.8s\n",
      "[CV] bootstrap=True, class_weight=balanced_subsample, criterion=gini, max_features=log2, n_estimators=500 \n",
      "[CV]  bootstrap=True, class_weight=balanced_subsample, criterion=gini, max_features=log2, n_estimators=500, score=0.977, total=   1.0s\n",
      "[CV] bootstrap=True, class_weight=balanced_subsample, criterion=gini, max_features=log2, n_estimators=500 \n",
      "[CV]  bootstrap=True, class_weight=balanced_subsample, criterion=gini, max_features=log2, n_estimators=500, score=0.992, total=   1.0s\n",
      "[CV] bootstrap=True, class_weight=balanced_subsample, criterion=gini, max_features=log2, n_estimators=500 \n",
      "[CV]  bootstrap=True, class_weight=balanced_subsample, criterion=gini, max_features=log2, n_estimators=500, score=0.985, total=   1.1s\n",
      "[CV] bootstrap=True, class_weight=balanced_subsample, criterion=gini, max_features=log2, n_estimators=500 \n",
      "[CV]  bootstrap=True, class_weight=balanced_subsample, criterion=gini, max_features=log2, n_estimators=500, score=0.992, total=   1.0s\n",
      "[CV] bootstrap=True, class_weight=balanced_subsample, criterion=gini, max_features=log2, n_estimators=500 \n",
      "[CV]  bootstrap=True, class_weight=balanced_subsample, criterion=gini, max_features=log2, n_estimators=500, score=0.969, total=   1.0s\n",
      "[CV] bootstrap=True, class_weight=balanced_subsample, criterion=entropy, max_features=auto, n_estimators=100 \n",
      "[CV]  bootstrap=True, class_weight=balanced_subsample, criterion=entropy, max_features=auto, n_estimators=100, score=0.969, total=   0.2s\n",
      "[CV] bootstrap=True, class_weight=balanced_subsample, criterion=entropy, max_features=auto, n_estimators=100 \n",
      "[CV]  bootstrap=True, class_weight=balanced_subsample, criterion=entropy, max_features=auto, n_estimators=100, score=0.985, total=   0.2s\n",
      "[CV] bootstrap=True, class_weight=balanced_subsample, criterion=entropy, max_features=auto, n_estimators=100 \n",
      "[CV]  bootstrap=True, class_weight=balanced_subsample, criterion=entropy, max_features=auto, n_estimators=100, score=0.985, total=   0.2s\n",
      "[CV] bootstrap=True, class_weight=balanced_subsample, criterion=entropy, max_features=auto, n_estimators=100 \n",
      "[CV]  bootstrap=True, class_weight=balanced_subsample, criterion=entropy, max_features=auto, n_estimators=100, score=0.985, total=   0.2s\n",
      "[CV] bootstrap=True, class_weight=balanced_subsample, criterion=entropy, max_features=auto, n_estimators=100 \n",
      "[CV]  bootstrap=True, class_weight=balanced_subsample, criterion=entropy, max_features=auto, n_estimators=100, score=0.946, total=   0.2s\n",
      "[CV] bootstrap=True, class_weight=balanced_subsample, criterion=entropy, max_features=auto, n_estimators=200 \n",
      "[CV]  bootstrap=True, class_weight=balanced_subsample, criterion=entropy, max_features=auto, n_estimators=200, score=0.977, total=   0.4s\n",
      "[CV] bootstrap=True, class_weight=balanced_subsample, criterion=entropy, max_features=auto, n_estimators=200 \n",
      "[CV]  bootstrap=True, class_weight=balanced_subsample, criterion=entropy, max_features=auto, n_estimators=200, score=0.992, total=   0.4s\n",
      "[CV] bootstrap=True, class_weight=balanced_subsample, criterion=entropy, max_features=auto, n_estimators=200 \n",
      "[CV]  bootstrap=True, class_weight=balanced_subsample, criterion=entropy, max_features=auto, n_estimators=200, score=0.985, total=   0.4s\n",
      "[CV] bootstrap=True, class_weight=balanced_subsample, criterion=entropy, max_features=auto, n_estimators=200 \n",
      "[CV]  bootstrap=True, class_weight=balanced_subsample, criterion=entropy, max_features=auto, n_estimators=200, score=1.000, total=   0.4s\n",
      "[CV] bootstrap=True, class_weight=balanced_subsample, criterion=entropy, max_features=auto, n_estimators=200 \n",
      "[CV]  bootstrap=True, class_weight=balanced_subsample, criterion=entropy, max_features=auto, n_estimators=200, score=0.962, total=   0.4s\n",
      "[CV] bootstrap=True, class_weight=balanced_subsample, criterion=entropy, max_features=auto, n_estimators=300 \n",
      "[CV]  bootstrap=True, class_weight=balanced_subsample, criterion=entropy, max_features=auto, n_estimators=300, score=0.977, total=   0.6s\n",
      "[CV] bootstrap=True, class_weight=balanced_subsample, criterion=entropy, max_features=auto, n_estimators=300 \n",
      "[CV]  bootstrap=True, class_weight=balanced_subsample, criterion=entropy, max_features=auto, n_estimators=300, score=0.985, total=   0.6s\n",
      "[CV] bootstrap=True, class_weight=balanced_subsample, criterion=entropy, max_features=auto, n_estimators=300 \n",
      "[CV]  bootstrap=True, class_weight=balanced_subsample, criterion=entropy, max_features=auto, n_estimators=300, score=0.985, total=   0.6s\n",
      "[CV] bootstrap=True, class_weight=balanced_subsample, criterion=entropy, max_features=auto, n_estimators=300 \n",
      "[CV]  bootstrap=True, class_weight=balanced_subsample, criterion=entropy, max_features=auto, n_estimators=300, score=0.992, total=   0.6s\n",
      "[CV] bootstrap=True, class_weight=balanced_subsample, criterion=entropy, max_features=auto, n_estimators=300 \n",
      "[CV]  bootstrap=True, class_weight=balanced_subsample, criterion=entropy, max_features=auto, n_estimators=300, score=0.954, total=   0.6s\n",
      "[CV] bootstrap=True, class_weight=balanced_subsample, criterion=entropy, max_features=auto, n_estimators=400 \n",
      "[CV]  bootstrap=True, class_weight=balanced_subsample, criterion=entropy, max_features=auto, n_estimators=400, score=0.969, total=   0.8s\n",
      "[CV] bootstrap=True, class_weight=balanced_subsample, criterion=entropy, max_features=auto, n_estimators=400 \n",
      "[CV]  bootstrap=True, class_weight=balanced_subsample, criterion=entropy, max_features=auto, n_estimators=400, score=0.992, total=   0.8s\n",
      "[CV] bootstrap=True, class_weight=balanced_subsample, criterion=entropy, max_features=auto, n_estimators=400 \n",
      "[CV]  bootstrap=True, class_weight=balanced_subsample, criterion=entropy, max_features=auto, n_estimators=400, score=0.985, total=   0.8s\n",
      "[CV] bootstrap=True, class_weight=balanced_subsample, criterion=entropy, max_features=auto, n_estimators=400 \n",
      "[CV]  bootstrap=True, class_weight=balanced_subsample, criterion=entropy, max_features=auto, n_estimators=400, score=0.992, total=   0.8s\n",
      "[CV] bootstrap=True, class_weight=balanced_subsample, criterion=entropy, max_features=auto, n_estimators=400 \n",
      "[CV]  bootstrap=True, class_weight=balanced_subsample, criterion=entropy, max_features=auto, n_estimators=400, score=0.954, total=   0.8s\n",
      "[CV] bootstrap=True, class_weight=balanced_subsample, criterion=entropy, max_features=auto, n_estimators=500 \n",
      "[CV]  bootstrap=True, class_weight=balanced_subsample, criterion=entropy, max_features=auto, n_estimators=500, score=0.977, total=   1.1s\n",
      "[CV] bootstrap=True, class_weight=balanced_subsample, criterion=entropy, max_features=auto, n_estimators=500 \n",
      "[CV]  bootstrap=True, class_weight=balanced_subsample, criterion=entropy, max_features=auto, n_estimators=500, score=0.992, total=   1.0s\n",
      "[CV] bootstrap=True, class_weight=balanced_subsample, criterion=entropy, max_features=auto, n_estimators=500 \n",
      "[CV]  bootstrap=True, class_weight=balanced_subsample, criterion=entropy, max_features=auto, n_estimators=500, score=0.985, total=   1.0s\n",
      "[CV] bootstrap=True, class_weight=balanced_subsample, criterion=entropy, max_features=auto, n_estimators=500 \n",
      "[CV]  bootstrap=True, class_weight=balanced_subsample, criterion=entropy, max_features=auto, n_estimators=500, score=0.985, total=   1.0s\n",
      "[CV] bootstrap=True, class_weight=balanced_subsample, criterion=entropy, max_features=auto, n_estimators=500 \n",
      "[CV]  bootstrap=True, class_weight=balanced_subsample, criterion=entropy, max_features=auto, n_estimators=500, score=0.962, total=   1.0s\n",
      "[CV] bootstrap=True, class_weight=balanced_subsample, criterion=entropy, max_features=sqrt, n_estimators=100 \n",
      "[CV]  bootstrap=True, class_weight=balanced_subsample, criterion=entropy, max_features=sqrt, n_estimators=100, score=0.969, total=   0.2s\n",
      "[CV] bootstrap=True, class_weight=balanced_subsample, criterion=entropy, max_features=sqrt, n_estimators=100 \n",
      "[CV]  bootstrap=True, class_weight=balanced_subsample, criterion=entropy, max_features=sqrt, n_estimators=100, score=0.992, total=   0.2s\n",
      "[CV] bootstrap=True, class_weight=balanced_subsample, criterion=entropy, max_features=sqrt, n_estimators=100 \n",
      "[CV]  bootstrap=True, class_weight=balanced_subsample, criterion=entropy, max_features=sqrt, n_estimators=100, score=0.985, total=   0.2s\n",
      "[CV] bootstrap=True, class_weight=balanced_subsample, criterion=entropy, max_features=sqrt, n_estimators=100 \n"
     ]
    },
    {
     "name": "stdout",
     "output_type": "stream",
     "text": [
      "[CV]  bootstrap=True, class_weight=balanced_subsample, criterion=entropy, max_features=sqrt, n_estimators=100, score=0.977, total=   0.2s\n",
      "[CV] bootstrap=True, class_weight=balanced_subsample, criterion=entropy, max_features=sqrt, n_estimators=100 \n",
      "[CV]  bootstrap=True, class_weight=balanced_subsample, criterion=entropy, max_features=sqrt, n_estimators=100, score=0.969, total=   0.2s\n",
      "[CV] bootstrap=True, class_weight=balanced_subsample, criterion=entropy, max_features=sqrt, n_estimators=200 \n",
      "[CV]  bootstrap=True, class_weight=balanced_subsample, criterion=entropy, max_features=sqrt, n_estimators=200, score=0.969, total=   0.4s\n",
      "[CV] bootstrap=True, class_weight=balanced_subsample, criterion=entropy, max_features=sqrt, n_estimators=200 \n",
      "[CV]  bootstrap=True, class_weight=balanced_subsample, criterion=entropy, max_features=sqrt, n_estimators=200, score=0.985, total=   0.4s\n",
      "[CV] bootstrap=True, class_weight=balanced_subsample, criterion=entropy, max_features=sqrt, n_estimators=200 \n",
      "[CV]  bootstrap=True, class_weight=balanced_subsample, criterion=entropy, max_features=sqrt, n_estimators=200, score=0.985, total=   0.4s\n",
      "[CV] bootstrap=True, class_weight=balanced_subsample, criterion=entropy, max_features=sqrt, n_estimators=200 \n",
      "[CV]  bootstrap=True, class_weight=balanced_subsample, criterion=entropy, max_features=sqrt, n_estimators=200, score=0.992, total=   0.4s\n",
      "[CV] bootstrap=True, class_weight=balanced_subsample, criterion=entropy, max_features=sqrt, n_estimators=200 \n",
      "[CV]  bootstrap=True, class_weight=balanced_subsample, criterion=entropy, max_features=sqrt, n_estimators=200, score=0.954, total=   0.4s\n",
      "[CV] bootstrap=True, class_weight=balanced_subsample, criterion=entropy, max_features=sqrt, n_estimators=300 \n",
      "[CV]  bootstrap=True, class_weight=balanced_subsample, criterion=entropy, max_features=sqrt, n_estimators=300, score=0.962, total=   0.6s\n",
      "[CV] bootstrap=True, class_weight=balanced_subsample, criterion=entropy, max_features=sqrt, n_estimators=300 \n",
      "[CV]  bootstrap=True, class_weight=balanced_subsample, criterion=entropy, max_features=sqrt, n_estimators=300, score=0.985, total=   0.6s\n",
      "[CV] bootstrap=True, class_weight=balanced_subsample, criterion=entropy, max_features=sqrt, n_estimators=300 \n",
      "[CV]  bootstrap=True, class_weight=balanced_subsample, criterion=entropy, max_features=sqrt, n_estimators=300, score=0.985, total=   0.6s\n",
      "[CV] bootstrap=True, class_weight=balanced_subsample, criterion=entropy, max_features=sqrt, n_estimators=300 \n",
      "[CV]  bootstrap=True, class_weight=balanced_subsample, criterion=entropy, max_features=sqrt, n_estimators=300, score=0.985, total=   0.6s\n",
      "[CV] bootstrap=True, class_weight=balanced_subsample, criterion=entropy, max_features=sqrt, n_estimators=300 \n",
      "[CV]  bootstrap=True, class_weight=balanced_subsample, criterion=entropy, max_features=sqrt, n_estimators=300, score=0.962, total=   0.6s\n",
      "[CV] bootstrap=True, class_weight=balanced_subsample, criterion=entropy, max_features=sqrt, n_estimators=400 \n",
      "[CV]  bootstrap=True, class_weight=balanced_subsample, criterion=entropy, max_features=sqrt, n_estimators=400, score=0.969, total=   0.8s\n",
      "[CV] bootstrap=True, class_weight=balanced_subsample, criterion=entropy, max_features=sqrt, n_estimators=400 \n",
      "[CV]  bootstrap=True, class_weight=balanced_subsample, criterion=entropy, max_features=sqrt, n_estimators=400, score=0.992, total=   0.8s\n",
      "[CV] bootstrap=True, class_weight=balanced_subsample, criterion=entropy, max_features=sqrt, n_estimators=400 \n",
      "[CV]  bootstrap=True, class_weight=balanced_subsample, criterion=entropy, max_features=sqrt, n_estimators=400, score=0.985, total=   0.8s\n",
      "[CV] bootstrap=True, class_weight=balanced_subsample, criterion=entropy, max_features=sqrt, n_estimators=400 \n",
      "[CV]  bootstrap=True, class_weight=balanced_subsample, criterion=entropy, max_features=sqrt, n_estimators=400, score=0.977, total=   0.8s\n",
      "[CV] bootstrap=True, class_weight=balanced_subsample, criterion=entropy, max_features=sqrt, n_estimators=400 \n",
      "[CV]  bootstrap=True, class_weight=balanced_subsample, criterion=entropy, max_features=sqrt, n_estimators=400, score=0.969, total=   0.8s\n",
      "[CV] bootstrap=True, class_weight=balanced_subsample, criterion=entropy, max_features=sqrt, n_estimators=500 \n",
      "[CV]  bootstrap=True, class_weight=balanced_subsample, criterion=entropy, max_features=sqrt, n_estimators=500, score=0.969, total=   1.0s\n",
      "[CV] bootstrap=True, class_weight=balanced_subsample, criterion=entropy, max_features=sqrt, n_estimators=500 \n",
      "[CV]  bootstrap=True, class_weight=balanced_subsample, criterion=entropy, max_features=sqrt, n_estimators=500, score=0.992, total=   1.0s\n",
      "[CV] bootstrap=True, class_weight=balanced_subsample, criterion=entropy, max_features=sqrt, n_estimators=500 \n",
      "[CV]  bootstrap=True, class_weight=balanced_subsample, criterion=entropy, max_features=sqrt, n_estimators=500, score=0.985, total=   1.0s\n",
      "[CV] bootstrap=True, class_weight=balanced_subsample, criterion=entropy, max_features=sqrt, n_estimators=500 \n",
      "[CV]  bootstrap=True, class_weight=balanced_subsample, criterion=entropy, max_features=sqrt, n_estimators=500, score=0.985, total=   1.0s\n",
      "[CV] bootstrap=True, class_weight=balanced_subsample, criterion=entropy, max_features=sqrt, n_estimators=500 \n",
      "[CV]  bootstrap=True, class_weight=balanced_subsample, criterion=entropy, max_features=sqrt, n_estimators=500, score=0.954, total=   1.1s\n",
      "[CV] bootstrap=True, class_weight=balanced_subsample, criterion=entropy, max_features=log2, n_estimators=100 \n",
      "[CV]  bootstrap=True, class_weight=balanced_subsample, criterion=entropy, max_features=log2, n_estimators=100, score=0.977, total=   0.2s\n",
      "[CV] bootstrap=True, class_weight=balanced_subsample, criterion=entropy, max_features=log2, n_estimators=100 \n",
      "[CV]  bootstrap=True, class_weight=balanced_subsample, criterion=entropy, max_features=log2, n_estimators=100, score=0.985, total=   0.2s\n",
      "[CV] bootstrap=True, class_weight=balanced_subsample, criterion=entropy, max_features=log2, n_estimators=100 \n",
      "[CV]  bootstrap=True, class_weight=balanced_subsample, criterion=entropy, max_features=log2, n_estimators=100, score=0.985, total=   0.2s\n",
      "[CV] bootstrap=True, class_weight=balanced_subsample, criterion=entropy, max_features=log2, n_estimators=100 \n",
      "[CV]  bootstrap=True, class_weight=balanced_subsample, criterion=entropy, max_features=log2, n_estimators=100, score=0.977, total=   0.2s\n",
      "[CV] bootstrap=True, class_weight=balanced_subsample, criterion=entropy, max_features=log2, n_estimators=100 \n",
      "[CV]  bootstrap=True, class_weight=balanced_subsample, criterion=entropy, max_features=log2, n_estimators=100, score=0.969, total=   0.2s\n",
      "[CV] bootstrap=True, class_weight=balanced_subsample, criterion=entropy, max_features=log2, n_estimators=200 \n",
      "[CV]  bootstrap=True, class_weight=balanced_subsample, criterion=entropy, max_features=log2, n_estimators=200, score=0.962, total=   0.4s\n",
      "[CV] bootstrap=True, class_weight=balanced_subsample, criterion=entropy, max_features=log2, n_estimators=200 \n",
      "[CV]  bootstrap=True, class_weight=balanced_subsample, criterion=entropy, max_features=log2, n_estimators=200, score=0.992, total=   0.4s\n",
      "[CV] bootstrap=True, class_weight=balanced_subsample, criterion=entropy, max_features=log2, n_estimators=200 \n",
      "[CV]  bootstrap=True, class_weight=balanced_subsample, criterion=entropy, max_features=log2, n_estimators=200, score=0.985, total=   0.4s\n",
      "[CV] bootstrap=True, class_weight=balanced_subsample, criterion=entropy, max_features=log2, n_estimators=200 \n",
      "[CV]  bootstrap=True, class_weight=balanced_subsample, criterion=entropy, max_features=log2, n_estimators=200, score=0.985, total=   0.5s\n",
      "[CV] bootstrap=True, class_weight=balanced_subsample, criterion=entropy, max_features=log2, n_estimators=200 \n",
      "[CV]  bootstrap=True, class_weight=balanced_subsample, criterion=entropy, max_features=log2, n_estimators=200, score=0.954, total=   0.4s\n",
      "[CV] bootstrap=True, class_weight=balanced_subsample, criterion=entropy, max_features=log2, n_estimators=300 \n",
      "[CV]  bootstrap=True, class_weight=balanced_subsample, criterion=entropy, max_features=log2, n_estimators=300, score=0.969, total=   0.6s\n",
      "[CV] bootstrap=True, class_weight=balanced_subsample, criterion=entropy, max_features=log2, n_estimators=300 \n",
      "[CV]  bootstrap=True, class_weight=balanced_subsample, criterion=entropy, max_features=log2, n_estimators=300, score=0.992, total=   0.7s\n",
      "[CV] bootstrap=True, class_weight=balanced_subsample, criterion=entropy, max_features=log2, n_estimators=300 \n"
     ]
    },
    {
     "name": "stdout",
     "output_type": "stream",
     "text": [
      "[CV]  bootstrap=True, class_weight=balanced_subsample, criterion=entropy, max_features=log2, n_estimators=300, score=0.985, total=   0.7s\n",
      "[CV] bootstrap=True, class_weight=balanced_subsample, criterion=entropy, max_features=log2, n_estimators=300 \n",
      "[CV]  bootstrap=True, class_weight=balanced_subsample, criterion=entropy, max_features=log2, n_estimators=300, score=0.985, total=   0.6s\n",
      "[CV] bootstrap=True, class_weight=balanced_subsample, criterion=entropy, max_features=log2, n_estimators=300 \n",
      "[CV]  bootstrap=True, class_weight=balanced_subsample, criterion=entropy, max_features=log2, n_estimators=300, score=0.977, total=   0.6s\n",
      "[CV] bootstrap=True, class_weight=balanced_subsample, criterion=entropy, max_features=log2, n_estimators=400 \n",
      "[CV]  bootstrap=True, class_weight=balanced_subsample, criterion=entropy, max_features=log2, n_estimators=400, score=0.977, total=   0.8s\n",
      "[CV] bootstrap=True, class_weight=balanced_subsample, criterion=entropy, max_features=log2, n_estimators=400 \n",
      "[CV]  bootstrap=True, class_weight=balanced_subsample, criterion=entropy, max_features=log2, n_estimators=400, score=0.992, total=   0.8s\n",
      "[CV] bootstrap=True, class_weight=balanced_subsample, criterion=entropy, max_features=log2, n_estimators=400 \n",
      "[CV]  bootstrap=True, class_weight=balanced_subsample, criterion=entropy, max_features=log2, n_estimators=400, score=0.985, total=   0.8s\n",
      "[CV] bootstrap=True, class_weight=balanced_subsample, criterion=entropy, max_features=log2, n_estimators=400 \n",
      "[CV]  bootstrap=True, class_weight=balanced_subsample, criterion=entropy, max_features=log2, n_estimators=400, score=1.000, total=   0.8s\n",
      "[CV] bootstrap=True, class_weight=balanced_subsample, criterion=entropy, max_features=log2, n_estimators=400 \n",
      "[CV]  bootstrap=True, class_weight=balanced_subsample, criterion=entropy, max_features=log2, n_estimators=400, score=0.969, total=   0.8s\n",
      "[CV] bootstrap=True, class_weight=balanced_subsample, criterion=entropy, max_features=log2, n_estimators=500 \n",
      "[CV]  bootstrap=True, class_weight=balanced_subsample, criterion=entropy, max_features=log2, n_estimators=500, score=0.969, total=   1.0s\n",
      "[CV] bootstrap=True, class_weight=balanced_subsample, criterion=entropy, max_features=log2, n_estimators=500 \n",
      "[CV]  bootstrap=True, class_weight=balanced_subsample, criterion=entropy, max_features=log2, n_estimators=500, score=0.992, total=   1.0s\n",
      "[CV] bootstrap=True, class_weight=balanced_subsample, criterion=entropy, max_features=log2, n_estimators=500 \n",
      "[CV]  bootstrap=True, class_weight=balanced_subsample, criterion=entropy, max_features=log2, n_estimators=500, score=0.985, total=   1.0s\n",
      "[CV] bootstrap=True, class_weight=balanced_subsample, criterion=entropy, max_features=log2, n_estimators=500 \n",
      "[CV]  bootstrap=True, class_weight=balanced_subsample, criterion=entropy, max_features=log2, n_estimators=500, score=0.985, total=   1.0s\n",
      "[CV] bootstrap=True, class_weight=balanced_subsample, criterion=entropy, max_features=log2, n_estimators=500 \n",
      "[CV]  bootstrap=True, class_weight=balanced_subsample, criterion=entropy, max_features=log2, n_estimators=500, score=0.969, total=   1.0s\n",
      "[CV] bootstrap=False, class_weight=balanced, criterion=gini, max_features=auto, n_estimators=100 \n",
      "[CV]  bootstrap=False, class_weight=balanced, criterion=gini, max_features=auto, n_estimators=100, score=0.977, total=   0.2s\n",
      "[CV] bootstrap=False, class_weight=balanced, criterion=gini, max_features=auto, n_estimators=100 \n",
      "[CV]  bootstrap=False, class_weight=balanced, criterion=gini, max_features=auto, n_estimators=100, score=0.985, total=   0.2s\n",
      "[CV] bootstrap=False, class_weight=balanced, criterion=gini, max_features=auto, n_estimators=100 \n",
      "[CV]  bootstrap=False, class_weight=balanced, criterion=gini, max_features=auto, n_estimators=100, score=0.985, total=   0.1s\n",
      "[CV] bootstrap=False, class_weight=balanced, criterion=gini, max_features=auto, n_estimators=100 \n",
      "[CV]  bootstrap=False, class_weight=balanced, criterion=gini, max_features=auto, n_estimators=100, score=0.977, total=   0.1s\n",
      "[CV] bootstrap=False, class_weight=balanced, criterion=gini, max_features=auto, n_estimators=100 \n",
      "[CV]  bootstrap=False, class_weight=balanced, criterion=gini, max_features=auto, n_estimators=100, score=0.954, total=   0.1s\n",
      "[CV] bootstrap=False, class_weight=balanced, criterion=gini, max_features=auto, n_estimators=200 \n",
      "[CV]  bootstrap=False, class_weight=balanced, criterion=gini, max_features=auto, n_estimators=200, score=0.977, total=   0.3s\n",
      "[CV] bootstrap=False, class_weight=balanced, criterion=gini, max_features=auto, n_estimators=200 \n",
      "[CV]  bootstrap=False, class_weight=balanced, criterion=gini, max_features=auto, n_estimators=200, score=0.985, total=   0.3s\n",
      "[CV] bootstrap=False, class_weight=balanced, criterion=gini, max_features=auto, n_estimators=200 \n",
      "[CV]  bootstrap=False, class_weight=balanced, criterion=gini, max_features=auto, n_estimators=200, score=0.985, total=   0.3s\n",
      "[CV] bootstrap=False, class_weight=balanced, criterion=gini, max_features=auto, n_estimators=200 \n",
      "[CV]  bootstrap=False, class_weight=balanced, criterion=gini, max_features=auto, n_estimators=200, score=0.985, total=   0.3s\n",
      "[CV] bootstrap=False, class_weight=balanced, criterion=gini, max_features=auto, n_estimators=200 \n",
      "[CV]  bootstrap=False, class_weight=balanced, criterion=gini, max_features=auto, n_estimators=200, score=0.962, total=   0.3s\n",
      "[CV] bootstrap=False, class_weight=balanced, criterion=gini, max_features=auto, n_estimators=300 \n",
      "[CV]  bootstrap=False, class_weight=balanced, criterion=gini, max_features=auto, n_estimators=300, score=0.977, total=   0.5s\n",
      "[CV] bootstrap=False, class_weight=balanced, criterion=gini, max_features=auto, n_estimators=300 \n",
      "[CV]  bootstrap=False, class_weight=balanced, criterion=gini, max_features=auto, n_estimators=300, score=0.985, total=   0.5s\n",
      "[CV] bootstrap=False, class_weight=balanced, criterion=gini, max_features=auto, n_estimators=300 \n",
      "[CV]  bootstrap=False, class_weight=balanced, criterion=gini, max_features=auto, n_estimators=300, score=0.985, total=   0.4s\n",
      "[CV] bootstrap=False, class_weight=balanced, criterion=gini, max_features=auto, n_estimators=300 \n",
      "[CV]  bootstrap=False, class_weight=balanced, criterion=gini, max_features=auto, n_estimators=300, score=0.985, total=   0.4s\n",
      "[CV] bootstrap=False, class_weight=balanced, criterion=gini, max_features=auto, n_estimators=300 \n",
      "[CV]  bootstrap=False, class_weight=balanced, criterion=gini, max_features=auto, n_estimators=300, score=0.962, total=   0.4s\n",
      "[CV] bootstrap=False, class_weight=balanced, criterion=gini, max_features=auto, n_estimators=400 \n",
      "[CV]  bootstrap=False, class_weight=balanced, criterion=gini, max_features=auto, n_estimators=400, score=0.977, total=   0.6s\n",
      "[CV] bootstrap=False, class_weight=balanced, criterion=gini, max_features=auto, n_estimators=400 \n",
      "[CV]  bootstrap=False, class_weight=balanced, criterion=gini, max_features=auto, n_estimators=400, score=0.985, total=   0.6s\n",
      "[CV] bootstrap=False, class_weight=balanced, criterion=gini, max_features=auto, n_estimators=400 \n",
      "[CV]  bootstrap=False, class_weight=balanced, criterion=gini, max_features=auto, n_estimators=400, score=0.985, total=   0.6s\n",
      "[CV] bootstrap=False, class_weight=balanced, criterion=gini, max_features=auto, n_estimators=400 \n",
      "[CV]  bootstrap=False, class_weight=balanced, criterion=gini, max_features=auto, n_estimators=400, score=0.969, total=   0.6s\n",
      "[CV] bootstrap=False, class_weight=balanced, criterion=gini, max_features=auto, n_estimators=400 \n",
      "[CV]  bootstrap=False, class_weight=balanced, criterion=gini, max_features=auto, n_estimators=400, score=0.962, total=   0.6s\n",
      "[CV] bootstrap=False, class_weight=balanced, criterion=gini, max_features=auto, n_estimators=500 \n",
      "[CV]  bootstrap=False, class_weight=balanced, criterion=gini, max_features=auto, n_estimators=500, score=0.977, total=   0.8s\n",
      "[CV] bootstrap=False, class_weight=balanced, criterion=gini, max_features=auto, n_estimators=500 \n",
      "[CV]  bootstrap=False, class_weight=balanced, criterion=gini, max_features=auto, n_estimators=500, score=0.985, total=   0.8s\n",
      "[CV] bootstrap=False, class_weight=balanced, criterion=gini, max_features=auto, n_estimators=500 \n",
      "[CV]  bootstrap=False, class_weight=balanced, criterion=gini, max_features=auto, n_estimators=500, score=0.985, total=   0.7s\n",
      "[CV] bootstrap=False, class_weight=balanced, criterion=gini, max_features=auto, n_estimators=500 \n"
     ]
    },
    {
     "name": "stdout",
     "output_type": "stream",
     "text": [
      "[CV]  bootstrap=False, class_weight=balanced, criterion=gini, max_features=auto, n_estimators=500, score=0.977, total=   0.7s\n",
      "[CV] bootstrap=False, class_weight=balanced, criterion=gini, max_features=auto, n_estimators=500 \n",
      "[CV]  bootstrap=False, class_weight=balanced, criterion=gini, max_features=auto, n_estimators=500, score=0.954, total=   0.7s\n",
      "[CV] bootstrap=False, class_weight=balanced, criterion=gini, max_features=sqrt, n_estimators=100 \n",
      "[CV]  bootstrap=False, class_weight=balanced, criterion=gini, max_features=sqrt, n_estimators=100, score=0.977, total=   0.2s\n",
      "[CV] bootstrap=False, class_weight=balanced, criterion=gini, max_features=sqrt, n_estimators=100 \n",
      "[CV]  bootstrap=False, class_weight=balanced, criterion=gini, max_features=sqrt, n_estimators=100, score=0.985, total=   0.2s\n",
      "[CV] bootstrap=False, class_weight=balanced, criterion=gini, max_features=sqrt, n_estimators=100 \n",
      "[CV]  bootstrap=False, class_weight=balanced, criterion=gini, max_features=sqrt, n_estimators=100, score=0.985, total=   0.1s\n",
      "[CV] bootstrap=False, class_weight=balanced, criterion=gini, max_features=sqrt, n_estimators=100 \n",
      "[CV]  bootstrap=False, class_weight=balanced, criterion=gini, max_features=sqrt, n_estimators=100, score=0.985, total=   0.1s\n",
      "[CV] bootstrap=False, class_weight=balanced, criterion=gini, max_features=sqrt, n_estimators=100 \n",
      "[CV]  bootstrap=False, class_weight=balanced, criterion=gini, max_features=sqrt, n_estimators=100, score=0.962, total=   0.1s\n",
      "[CV] bootstrap=False, class_weight=balanced, criterion=gini, max_features=sqrt, n_estimators=200 \n",
      "[CV]  bootstrap=False, class_weight=balanced, criterion=gini, max_features=sqrt, n_estimators=200, score=0.977, total=   0.3s\n",
      "[CV] bootstrap=False, class_weight=balanced, criterion=gini, max_features=sqrt, n_estimators=200 \n",
      "[CV]  bootstrap=False, class_weight=balanced, criterion=gini, max_features=sqrt, n_estimators=200, score=0.985, total=   0.3s\n",
      "[CV] bootstrap=False, class_weight=balanced, criterion=gini, max_features=sqrt, n_estimators=200 \n",
      "[CV]  bootstrap=False, class_weight=balanced, criterion=gini, max_features=sqrt, n_estimators=200, score=0.985, total=   0.3s\n",
      "[CV] bootstrap=False, class_weight=balanced, criterion=gini, max_features=sqrt, n_estimators=200 \n",
      "[CV]  bootstrap=False, class_weight=balanced, criterion=gini, max_features=sqrt, n_estimators=200, score=0.985, total=   0.3s\n",
      "[CV] bootstrap=False, class_weight=balanced, criterion=gini, max_features=sqrt, n_estimators=200 \n",
      "[CV]  bootstrap=False, class_weight=balanced, criterion=gini, max_features=sqrt, n_estimators=200, score=0.969, total=   0.3s\n",
      "[CV] bootstrap=False, class_weight=balanced, criterion=gini, max_features=sqrt, n_estimators=300 \n",
      "[CV]  bootstrap=False, class_weight=balanced, criterion=gini, max_features=sqrt, n_estimators=300, score=0.977, total=   0.5s\n",
      "[CV] bootstrap=False, class_weight=balanced, criterion=gini, max_features=sqrt, n_estimators=300 \n",
      "[CV]  bootstrap=False, class_weight=balanced, criterion=gini, max_features=sqrt, n_estimators=300, score=0.985, total=   0.5s\n",
      "[CV] bootstrap=False, class_weight=balanced, criterion=gini, max_features=sqrt, n_estimators=300 \n",
      "[CV]  bootstrap=False, class_weight=balanced, criterion=gini, max_features=sqrt, n_estimators=300, score=0.985, total=   0.5s\n",
      "[CV] bootstrap=False, class_weight=balanced, criterion=gini, max_features=sqrt, n_estimators=300 \n",
      "[CV]  bootstrap=False, class_weight=balanced, criterion=gini, max_features=sqrt, n_estimators=300, score=0.977, total=   0.4s\n",
      "[CV] bootstrap=False, class_weight=balanced, criterion=gini, max_features=sqrt, n_estimators=300 \n",
      "[CV]  bootstrap=False, class_weight=balanced, criterion=gini, max_features=sqrt, n_estimators=300, score=0.962, total=   0.4s\n",
      "[CV] bootstrap=False, class_weight=balanced, criterion=gini, max_features=sqrt, n_estimators=400 \n",
      "[CV]  bootstrap=False, class_weight=balanced, criterion=gini, max_features=sqrt, n_estimators=400, score=0.977, total=   0.7s\n",
      "[CV] bootstrap=False, class_weight=balanced, criterion=gini, max_features=sqrt, n_estimators=400 \n",
      "[CV]  bootstrap=False, class_weight=balanced, criterion=gini, max_features=sqrt, n_estimators=400, score=0.985, total=   0.7s\n",
      "[CV] bootstrap=False, class_weight=balanced, criterion=gini, max_features=sqrt, n_estimators=400 \n",
      "[CV]  bootstrap=False, class_weight=balanced, criterion=gini, max_features=sqrt, n_estimators=400, score=0.985, total=   0.6s\n",
      "[CV] bootstrap=False, class_weight=balanced, criterion=gini, max_features=sqrt, n_estimators=400 \n",
      "[CV]  bootstrap=False, class_weight=balanced, criterion=gini, max_features=sqrt, n_estimators=400, score=0.977, total=   0.6s\n",
      "[CV] bootstrap=False, class_weight=balanced, criterion=gini, max_features=sqrt, n_estimators=400 \n",
      "[CV]  bootstrap=False, class_weight=balanced, criterion=gini, max_features=sqrt, n_estimators=400, score=0.977, total=   0.6s\n",
      "[CV] bootstrap=False, class_weight=balanced, criterion=gini, max_features=sqrt, n_estimators=500 \n",
      "[CV]  bootstrap=False, class_weight=balanced, criterion=gini, max_features=sqrt, n_estimators=500, score=0.977, total=   0.8s\n",
      "[CV] bootstrap=False, class_weight=balanced, criterion=gini, max_features=sqrt, n_estimators=500 \n",
      "[CV]  bootstrap=False, class_weight=balanced, criterion=gini, max_features=sqrt, n_estimators=500, score=0.985, total=   0.9s\n",
      "[CV] bootstrap=False, class_weight=balanced, criterion=gini, max_features=sqrt, n_estimators=500 \n",
      "[CV]  bootstrap=False, class_weight=balanced, criterion=gini, max_features=sqrt, n_estimators=500, score=0.985, total=   0.8s\n",
      "[CV] bootstrap=False, class_weight=balanced, criterion=gini, max_features=sqrt, n_estimators=500 \n",
      "[CV]  bootstrap=False, class_weight=balanced, criterion=gini, max_features=sqrt, n_estimators=500, score=0.992, total=   0.7s\n",
      "[CV] bootstrap=False, class_weight=balanced, criterion=gini, max_features=sqrt, n_estimators=500 \n",
      "[CV]  bootstrap=False, class_weight=balanced, criterion=gini, max_features=sqrt, n_estimators=500, score=0.962, total=   0.8s\n",
      "[CV] bootstrap=False, class_weight=balanced, criterion=gini, max_features=log2, n_estimators=100 \n",
      "[CV]  bootstrap=False, class_weight=balanced, criterion=gini, max_features=log2, n_estimators=100, score=0.977, total=   0.2s\n",
      "[CV] bootstrap=False, class_weight=balanced, criterion=gini, max_features=log2, n_estimators=100 \n",
      "[CV]  bootstrap=False, class_weight=balanced, criterion=gini, max_features=log2, n_estimators=100, score=0.977, total=   0.1s\n",
      "[CV] bootstrap=False, class_weight=balanced, criterion=gini, max_features=log2, n_estimators=100 \n",
      "[CV]  bootstrap=False, class_weight=balanced, criterion=gini, max_features=log2, n_estimators=100, score=0.985, total=   0.1s\n",
      "[CV] bootstrap=False, class_weight=balanced, criterion=gini, max_features=log2, n_estimators=100 \n",
      "[CV]  bootstrap=False, class_weight=balanced, criterion=gini, max_features=log2, n_estimators=100, score=0.985, total=   0.1s\n",
      "[CV] bootstrap=False, class_weight=balanced, criterion=gini, max_features=log2, n_estimators=100 \n",
      "[CV]  bootstrap=False, class_weight=balanced, criterion=gini, max_features=log2, n_estimators=100, score=0.977, total=   0.1s\n",
      "[CV] bootstrap=False, class_weight=balanced, criterion=gini, max_features=log2, n_estimators=200 \n",
      "[CV]  bootstrap=False, class_weight=balanced, criterion=gini, max_features=log2, n_estimators=200, score=0.977, total=   0.3s\n",
      "[CV] bootstrap=False, class_weight=balanced, criterion=gini, max_features=log2, n_estimators=200 \n",
      "[CV]  bootstrap=False, class_weight=balanced, criterion=gini, max_features=log2, n_estimators=200, score=0.985, total=   0.3s\n",
      "[CV] bootstrap=False, class_weight=balanced, criterion=gini, max_features=log2, n_estimators=200 \n",
      "[CV]  bootstrap=False, class_weight=balanced, criterion=gini, max_features=log2, n_estimators=200, score=0.985, total=   0.3s\n",
      "[CV] bootstrap=False, class_weight=balanced, criterion=gini, max_features=log2, n_estimators=200 \n",
      "[CV]  bootstrap=False, class_weight=balanced, criterion=gini, max_features=log2, n_estimators=200, score=0.969, total=   0.3s\n",
      "[CV] bootstrap=False, class_weight=balanced, criterion=gini, max_features=log2, n_estimators=200 \n",
      "[CV]  bootstrap=False, class_weight=balanced, criterion=gini, max_features=log2, n_estimators=200, score=0.977, total=   0.3s\n",
      "[CV] bootstrap=False, class_weight=balanced, criterion=gini, max_features=log2, n_estimators=300 \n"
     ]
    },
    {
     "name": "stdout",
     "output_type": "stream",
     "text": [
      "[CV]  bootstrap=False, class_weight=balanced, criterion=gini, max_features=log2, n_estimators=300, score=0.977, total=   0.5s\n",
      "[CV] bootstrap=False, class_weight=balanced, criterion=gini, max_features=log2, n_estimators=300 \n",
      "[CV]  bootstrap=False, class_weight=balanced, criterion=gini, max_features=log2, n_estimators=300, score=0.985, total=   0.5s\n",
      "[CV] bootstrap=False, class_weight=balanced, criterion=gini, max_features=log2, n_estimators=300 \n",
      "[CV]  bootstrap=False, class_weight=balanced, criterion=gini, max_features=log2, n_estimators=300, score=0.985, total=   0.4s\n",
      "[CV] bootstrap=False, class_weight=balanced, criterion=gini, max_features=log2, n_estimators=300 \n",
      "[CV]  bootstrap=False, class_weight=balanced, criterion=gini, max_features=log2, n_estimators=300, score=0.985, total=   0.4s\n",
      "[CV] bootstrap=False, class_weight=balanced, criterion=gini, max_features=log2, n_estimators=300 \n",
      "[CV]  bootstrap=False, class_weight=balanced, criterion=gini, max_features=log2, n_estimators=300, score=0.977, total=   0.4s\n",
      "[CV] bootstrap=False, class_weight=balanced, criterion=gini, max_features=log2, n_estimators=400 \n",
      "[CV]  bootstrap=False, class_weight=balanced, criterion=gini, max_features=log2, n_estimators=400, score=0.969, total=   0.6s\n",
      "[CV] bootstrap=False, class_weight=balanced, criterion=gini, max_features=log2, n_estimators=400 \n",
      "[CV]  bootstrap=False, class_weight=balanced, criterion=gini, max_features=log2, n_estimators=400, score=0.985, total=   0.6s\n",
      "[CV] bootstrap=False, class_weight=balanced, criterion=gini, max_features=log2, n_estimators=400 \n",
      "[CV]  bootstrap=False, class_weight=balanced, criterion=gini, max_features=log2, n_estimators=400, score=0.985, total=   0.5s\n",
      "[CV] bootstrap=False, class_weight=balanced, criterion=gini, max_features=log2, n_estimators=400 \n",
      "[CV]  bootstrap=False, class_weight=balanced, criterion=gini, max_features=log2, n_estimators=400, score=1.000, total=   0.6s\n",
      "[CV] bootstrap=False, class_weight=balanced, criterion=gini, max_features=log2, n_estimators=400 \n",
      "[CV]  bootstrap=False, class_weight=balanced, criterion=gini, max_features=log2, n_estimators=400, score=0.977, total=   0.6s\n",
      "[CV] bootstrap=False, class_weight=balanced, criterion=gini, max_features=log2, n_estimators=500 \n",
      "[CV]  bootstrap=False, class_weight=balanced, criterion=gini, max_features=log2, n_estimators=500, score=0.977, total=   0.8s\n",
      "[CV] bootstrap=False, class_weight=balanced, criterion=gini, max_features=log2, n_estimators=500 \n",
      "[CV]  bootstrap=False, class_weight=balanced, criterion=gini, max_features=log2, n_estimators=500, score=0.992, total=   0.7s\n",
      "[CV] bootstrap=False, class_weight=balanced, criterion=gini, max_features=log2, n_estimators=500 \n",
      "[CV]  bootstrap=False, class_weight=balanced, criterion=gini, max_features=log2, n_estimators=500, score=0.985, total=   0.7s\n",
      "[CV] bootstrap=False, class_weight=balanced, criterion=gini, max_features=log2, n_estimators=500 \n",
      "[CV]  bootstrap=False, class_weight=balanced, criterion=gini, max_features=log2, n_estimators=500, score=0.985, total=   0.6s\n",
      "[CV] bootstrap=False, class_weight=balanced, criterion=gini, max_features=log2, n_estimators=500 \n",
      "[CV]  bootstrap=False, class_weight=balanced, criterion=gini, max_features=log2, n_estimators=500, score=0.977, total=   0.7s\n",
      "[CV] bootstrap=False, class_weight=balanced, criterion=entropy, max_features=auto, n_estimators=100 \n",
      "[CV]  bootstrap=False, class_weight=balanced, criterion=entropy, max_features=auto, n_estimators=100, score=0.977, total=   0.2s\n",
      "[CV] bootstrap=False, class_weight=balanced, criterion=entropy, max_features=auto, n_estimators=100 \n",
      "[CV]  bootstrap=False, class_weight=balanced, criterion=entropy, max_features=auto, n_estimators=100, score=0.985, total=   0.2s\n",
      "[CV] bootstrap=False, class_weight=balanced, criterion=entropy, max_features=auto, n_estimators=100 \n",
      "[CV]  bootstrap=False, class_weight=balanced, criterion=entropy, max_features=auto, n_estimators=100, score=0.985, total=   0.1s\n",
      "[CV] bootstrap=False, class_weight=balanced, criterion=entropy, max_features=auto, n_estimators=100 \n",
      "[CV]  bootstrap=False, class_weight=balanced, criterion=entropy, max_features=auto, n_estimators=100, score=0.977, total=   0.1s\n",
      "[CV] bootstrap=False, class_weight=balanced, criterion=entropy, max_features=auto, n_estimators=100 \n",
      "[CV]  bootstrap=False, class_weight=balanced, criterion=entropy, max_features=auto, n_estimators=100, score=0.977, total=   0.1s\n",
      "[CV] bootstrap=False, class_weight=balanced, criterion=entropy, max_features=auto, n_estimators=200 \n",
      "[CV]  bootstrap=False, class_weight=balanced, criterion=entropy, max_features=auto, n_estimators=200, score=0.977, total=   0.4s\n",
      "[CV] bootstrap=False, class_weight=balanced, criterion=entropy, max_features=auto, n_estimators=200 \n",
      "[CV]  bootstrap=False, class_weight=balanced, criterion=entropy, max_features=auto, n_estimators=200, score=0.985, total=   0.3s\n",
      "[CV] bootstrap=False, class_weight=balanced, criterion=entropy, max_features=auto, n_estimators=200 \n",
      "[CV]  bootstrap=False, class_weight=balanced, criterion=entropy, max_features=auto, n_estimators=200, score=0.985, total=   0.3s\n",
      "[CV] bootstrap=False, class_weight=balanced, criterion=entropy, max_features=auto, n_estimators=200 \n",
      "[CV]  bootstrap=False, class_weight=balanced, criterion=entropy, max_features=auto, n_estimators=200, score=0.992, total=   0.3s\n",
      "[CV] bootstrap=False, class_weight=balanced, criterion=entropy, max_features=auto, n_estimators=200 \n",
      "[CV]  bootstrap=False, class_weight=balanced, criterion=entropy, max_features=auto, n_estimators=200, score=0.969, total=   0.3s\n",
      "[CV] bootstrap=False, class_weight=balanced, criterion=entropy, max_features=auto, n_estimators=300 \n",
      "[CV]  bootstrap=False, class_weight=balanced, criterion=entropy, max_features=auto, n_estimators=300, score=0.969, total=   0.5s\n",
      "[CV] bootstrap=False, class_weight=balanced, criterion=entropy, max_features=auto, n_estimators=300 \n",
      "[CV]  bootstrap=False, class_weight=balanced, criterion=entropy, max_features=auto, n_estimators=300, score=0.985, total=   0.5s\n",
      "[CV] bootstrap=False, class_weight=balanced, criterion=entropy, max_features=auto, n_estimators=300 \n",
      "[CV]  bootstrap=False, class_weight=balanced, criterion=entropy, max_features=auto, n_estimators=300, score=0.985, total=   0.4s\n",
      "[CV] bootstrap=False, class_weight=balanced, criterion=entropy, max_features=auto, n_estimators=300 \n",
      "[CV]  bootstrap=False, class_weight=balanced, criterion=entropy, max_features=auto, n_estimators=300, score=0.985, total=   0.4s\n",
      "[CV] bootstrap=False, class_weight=balanced, criterion=entropy, max_features=auto, n_estimators=300 \n",
      "[CV]  bootstrap=False, class_weight=balanced, criterion=entropy, max_features=auto, n_estimators=300, score=0.962, total=   0.5s\n",
      "[CV] bootstrap=False, class_weight=balanced, criterion=entropy, max_features=auto, n_estimators=400 \n",
      "[CV]  bootstrap=False, class_weight=balanced, criterion=entropy, max_features=auto, n_estimators=400, score=0.977, total=   0.7s\n",
      "[CV] bootstrap=False, class_weight=balanced, criterion=entropy, max_features=auto, n_estimators=400 \n",
      "[CV]  bootstrap=False, class_weight=balanced, criterion=entropy, max_features=auto, n_estimators=400, score=0.985, total=   0.6s\n",
      "[CV] bootstrap=False, class_weight=balanced, criterion=entropy, max_features=auto, n_estimators=400 \n",
      "[CV]  bootstrap=False, class_weight=balanced, criterion=entropy, max_features=auto, n_estimators=400, score=0.985, total=   0.6s\n",
      "[CV] bootstrap=False, class_weight=balanced, criterion=entropy, max_features=auto, n_estimators=400 \n",
      "[CV]  bootstrap=False, class_weight=balanced, criterion=entropy, max_features=auto, n_estimators=400, score=0.977, total=   0.6s\n",
      "[CV] bootstrap=False, class_weight=balanced, criterion=entropy, max_features=auto, n_estimators=400 \n",
      "[CV]  bootstrap=False, class_weight=balanced, criterion=entropy, max_features=auto, n_estimators=400, score=0.977, total=   0.6s\n",
      "[CV] bootstrap=False, class_weight=balanced, criterion=entropy, max_features=auto, n_estimators=500 \n",
      "[CV]  bootstrap=False, class_weight=balanced, criterion=entropy, max_features=auto, n_estimators=500, score=0.977, total=   0.8s\n",
      "[CV] bootstrap=False, class_weight=balanced, criterion=entropy, max_features=auto, n_estimators=500 \n"
     ]
    },
    {
     "name": "stdout",
     "output_type": "stream",
     "text": [
      "[CV]  bootstrap=False, class_weight=balanced, criterion=entropy, max_features=auto, n_estimators=500, score=0.992, total=   0.8s\n",
      "[CV] bootstrap=False, class_weight=balanced, criterion=entropy, max_features=auto, n_estimators=500 \n",
      "[CV]  bootstrap=False, class_weight=balanced, criterion=entropy, max_features=auto, n_estimators=500, score=0.985, total=   0.8s\n",
      "[CV] bootstrap=False, class_weight=balanced, criterion=entropy, max_features=auto, n_estimators=500 \n",
      "[CV]  bootstrap=False, class_weight=balanced, criterion=entropy, max_features=auto, n_estimators=500, score=0.977, total=   0.8s\n",
      "[CV] bootstrap=False, class_weight=balanced, criterion=entropy, max_features=auto, n_estimators=500 \n",
      "[CV]  bootstrap=False, class_weight=balanced, criterion=entropy, max_features=auto, n_estimators=500, score=0.962, total=   0.7s\n",
      "[CV] bootstrap=False, class_weight=balanced, criterion=entropy, max_features=sqrt, n_estimators=100 \n",
      "[CV]  bootstrap=False, class_weight=balanced, criterion=entropy, max_features=sqrt, n_estimators=100, score=0.977, total=   0.2s\n",
      "[CV] bootstrap=False, class_weight=balanced, criterion=entropy, max_features=sqrt, n_estimators=100 \n",
      "[CV]  bootstrap=False, class_weight=balanced, criterion=entropy, max_features=sqrt, n_estimators=100, score=0.985, total=   0.2s\n",
      "[CV] bootstrap=False, class_weight=balanced, criterion=entropy, max_features=sqrt, n_estimators=100 \n",
      "[CV]  bootstrap=False, class_weight=balanced, criterion=entropy, max_features=sqrt, n_estimators=100, score=0.985, total=   0.2s\n",
      "[CV] bootstrap=False, class_weight=balanced, criterion=entropy, max_features=sqrt, n_estimators=100 \n",
      "[CV]  bootstrap=False, class_weight=balanced, criterion=entropy, max_features=sqrt, n_estimators=100, score=0.977, total=   0.2s\n",
      "[CV] bootstrap=False, class_weight=balanced, criterion=entropy, max_features=sqrt, n_estimators=100 \n",
      "[CV]  bootstrap=False, class_weight=balanced, criterion=entropy, max_features=sqrt, n_estimators=100, score=0.969, total=   0.2s\n",
      "[CV] bootstrap=False, class_weight=balanced, criterion=entropy, max_features=sqrt, n_estimators=200 \n",
      "[CV]  bootstrap=False, class_weight=balanced, criterion=entropy, max_features=sqrt, n_estimators=200, score=0.977, total=   0.4s\n",
      "[CV] bootstrap=False, class_weight=balanced, criterion=entropy, max_features=sqrt, n_estimators=200 \n",
      "[CV]  bootstrap=False, class_weight=balanced, criterion=entropy, max_features=sqrt, n_estimators=200, score=0.985, total=   0.3s\n",
      "[CV] bootstrap=False, class_weight=balanced, criterion=entropy, max_features=sqrt, n_estimators=200 \n",
      "[CV]  bootstrap=False, class_weight=balanced, criterion=entropy, max_features=sqrt, n_estimators=200, score=0.985, total=   0.4s\n",
      "[CV] bootstrap=False, class_weight=balanced, criterion=entropy, max_features=sqrt, n_estimators=200 \n",
      "[CV]  bootstrap=False, class_weight=balanced, criterion=entropy, max_features=sqrt, n_estimators=200, score=0.977, total=   0.3s\n",
      "[CV] bootstrap=False, class_weight=balanced, criterion=entropy, max_features=sqrt, n_estimators=200 \n",
      "[CV]  bootstrap=False, class_weight=balanced, criterion=entropy, max_features=sqrt, n_estimators=200, score=0.969, total=   0.3s\n",
      "[CV] bootstrap=False, class_weight=balanced, criterion=entropy, max_features=sqrt, n_estimators=300 \n",
      "[CV]  bootstrap=False, class_weight=balanced, criterion=entropy, max_features=sqrt, n_estimators=300, score=0.977, total=   0.5s\n",
      "[CV] bootstrap=False, class_weight=balanced, criterion=entropy, max_features=sqrt, n_estimators=300 \n",
      "[CV]  bootstrap=False, class_weight=balanced, criterion=entropy, max_features=sqrt, n_estimators=300, score=0.985, total=   0.5s\n",
      "[CV] bootstrap=False, class_weight=balanced, criterion=entropy, max_features=sqrt, n_estimators=300 \n",
      "[CV]  bootstrap=False, class_weight=balanced, criterion=entropy, max_features=sqrt, n_estimators=300, score=0.985, total=   0.5s\n",
      "[CV] bootstrap=False, class_weight=balanced, criterion=entropy, max_features=sqrt, n_estimators=300 \n",
      "[CV]  bootstrap=False, class_weight=balanced, criterion=entropy, max_features=sqrt, n_estimators=300, score=0.977, total=   0.5s\n",
      "[CV] bootstrap=False, class_weight=balanced, criterion=entropy, max_features=sqrt, n_estimators=300 \n",
      "[CV]  bootstrap=False, class_weight=balanced, criterion=entropy, max_features=sqrt, n_estimators=300, score=0.969, total=   0.4s\n",
      "[CV] bootstrap=False, class_weight=balanced, criterion=entropy, max_features=sqrt, n_estimators=400 \n",
      "[CV]  bootstrap=False, class_weight=balanced, criterion=entropy, max_features=sqrt, n_estimators=400, score=0.977, total=   0.7s\n",
      "[CV] bootstrap=False, class_weight=balanced, criterion=entropy, max_features=sqrt, n_estimators=400 \n",
      "[CV]  bootstrap=False, class_weight=balanced, criterion=entropy, max_features=sqrt, n_estimators=400, score=0.985, total=   0.6s\n",
      "[CV] bootstrap=False, class_weight=balanced, criterion=entropy, max_features=sqrt, n_estimators=400 \n",
      "[CV]  bootstrap=False, class_weight=balanced, criterion=entropy, max_features=sqrt, n_estimators=400, score=0.985, total=   0.6s\n",
      "[CV] bootstrap=False, class_weight=balanced, criterion=entropy, max_features=sqrt, n_estimators=400 \n",
      "[CV]  bootstrap=False, class_weight=balanced, criterion=entropy, max_features=sqrt, n_estimators=400, score=0.977, total=   0.6s\n",
      "[CV] bootstrap=False, class_weight=balanced, criterion=entropy, max_features=sqrt, n_estimators=400 \n",
      "[CV]  bootstrap=False, class_weight=balanced, criterion=entropy, max_features=sqrt, n_estimators=400, score=0.962, total=   0.6s\n",
      "[CV] bootstrap=False, class_weight=balanced, criterion=entropy, max_features=sqrt, n_estimators=500 \n",
      "[CV]  bootstrap=False, class_weight=balanced, criterion=entropy, max_features=sqrt, n_estimators=500, score=0.977, total=   0.8s\n",
      "[CV] bootstrap=False, class_weight=balanced, criterion=entropy, max_features=sqrt, n_estimators=500 \n",
      "[CV]  bootstrap=False, class_weight=balanced, criterion=entropy, max_features=sqrt, n_estimators=500, score=0.985, total=   0.8s\n",
      "[CV] bootstrap=False, class_weight=balanced, criterion=entropy, max_features=sqrt, n_estimators=500 \n",
      "[CV]  bootstrap=False, class_weight=balanced, criterion=entropy, max_features=sqrt, n_estimators=500, score=0.985, total=   0.7s\n",
      "[CV] bootstrap=False, class_weight=balanced, criterion=entropy, max_features=sqrt, n_estimators=500 \n",
      "[CV]  bootstrap=False, class_weight=balanced, criterion=entropy, max_features=sqrt, n_estimators=500, score=0.977, total=   0.7s\n",
      "[CV] bootstrap=False, class_weight=balanced, criterion=entropy, max_features=sqrt, n_estimators=500 \n",
      "[CV]  bootstrap=False, class_weight=balanced, criterion=entropy, max_features=sqrt, n_estimators=500, score=0.969, total=   0.7s\n",
      "[CV] bootstrap=False, class_weight=balanced, criterion=entropy, max_features=log2, n_estimators=100 \n",
      "[CV]  bootstrap=False, class_weight=balanced, criterion=entropy, max_features=log2, n_estimators=100, score=0.977, total=   0.1s\n",
      "[CV] bootstrap=False, class_weight=balanced, criterion=entropy, max_features=log2, n_estimators=100 \n",
      "[CV]  bootstrap=False, class_weight=balanced, criterion=entropy, max_features=log2, n_estimators=100, score=0.977, total=   0.1s\n",
      "[CV] bootstrap=False, class_weight=balanced, criterion=entropy, max_features=log2, n_estimators=100 \n",
      "[CV]  bootstrap=False, class_weight=balanced, criterion=entropy, max_features=log2, n_estimators=100, score=0.985, total=   0.1s\n",
      "[CV] bootstrap=False, class_weight=balanced, criterion=entropy, max_features=log2, n_estimators=100 \n",
      "[CV]  bootstrap=False, class_weight=balanced, criterion=entropy, max_features=log2, n_estimators=100, score=0.977, total=   0.1s\n",
      "[CV] bootstrap=False, class_weight=balanced, criterion=entropy, max_features=log2, n_estimators=100 \n",
      "[CV]  bootstrap=False, class_weight=balanced, criterion=entropy, max_features=log2, n_estimators=100, score=0.969, total=   0.1s\n",
      "[CV] bootstrap=False, class_weight=balanced, criterion=entropy, max_features=log2, n_estimators=200 \n",
      "[CV]  bootstrap=False, class_weight=balanced, criterion=entropy, max_features=log2, n_estimators=200, score=0.977, total=   0.3s\n",
      "[CV] bootstrap=False, class_weight=balanced, criterion=entropy, max_features=log2, n_estimators=200 \n",
      "[CV]  bootstrap=False, class_weight=balanced, criterion=entropy, max_features=log2, n_estimators=200, score=0.985, total=   0.3s\n",
      "[CV] bootstrap=False, class_weight=balanced, criterion=entropy, max_features=log2, n_estimators=200 \n"
     ]
    },
    {
     "name": "stdout",
     "output_type": "stream",
     "text": [
      "[CV]  bootstrap=False, class_weight=balanced, criterion=entropy, max_features=log2, n_estimators=200, score=0.985, total=   0.3s\n",
      "[CV] bootstrap=False, class_weight=balanced, criterion=entropy, max_features=log2, n_estimators=200 \n",
      "[CV]  bootstrap=False, class_weight=balanced, criterion=entropy, max_features=log2, n_estimators=200, score=0.985, total=   0.3s\n",
      "[CV] bootstrap=False, class_weight=balanced, criterion=entropy, max_features=log2, n_estimators=200 \n",
      "[CV]  bootstrap=False, class_weight=balanced, criterion=entropy, max_features=log2, n_estimators=200, score=0.977, total=   0.3s\n",
      "[CV] bootstrap=False, class_weight=balanced, criterion=entropy, max_features=log2, n_estimators=300 \n",
      "[CV]  bootstrap=False, class_weight=balanced, criterion=entropy, max_features=log2, n_estimators=300, score=0.977, total=   0.4s\n",
      "[CV] bootstrap=False, class_weight=balanced, criterion=entropy, max_features=log2, n_estimators=300 \n",
      "[CV]  bootstrap=False, class_weight=balanced, criterion=entropy, max_features=log2, n_estimators=300, score=0.985, total=   0.4s\n",
      "[CV] bootstrap=False, class_weight=balanced, criterion=entropy, max_features=log2, n_estimators=300 \n",
      "[CV]  bootstrap=False, class_weight=balanced, criterion=entropy, max_features=log2, n_estimators=300, score=0.985, total=   0.4s\n",
      "[CV] bootstrap=False, class_weight=balanced, criterion=entropy, max_features=log2, n_estimators=300 \n",
      "[CV]  bootstrap=False, class_weight=balanced, criterion=entropy, max_features=log2, n_estimators=300, score=0.992, total=   0.4s\n",
      "[CV] bootstrap=False, class_weight=balanced, criterion=entropy, max_features=log2, n_estimators=300 \n",
      "[CV]  bootstrap=False, class_weight=balanced, criterion=entropy, max_features=log2, n_estimators=300, score=0.977, total=   0.4s\n",
      "[CV] bootstrap=False, class_weight=balanced, criterion=entropy, max_features=log2, n_estimators=400 \n",
      "[CV]  bootstrap=False, class_weight=balanced, criterion=entropy, max_features=log2, n_estimators=400, score=0.977, total=   0.6s\n",
      "[CV] bootstrap=False, class_weight=balanced, criterion=entropy, max_features=log2, n_estimators=400 \n",
      "[CV]  bootstrap=False, class_weight=balanced, criterion=entropy, max_features=log2, n_estimators=400, score=0.985, total=   0.6s\n",
      "[CV] bootstrap=False, class_weight=balanced, criterion=entropy, max_features=log2, n_estimators=400 \n",
      "[CV]  bootstrap=False, class_weight=balanced, criterion=entropy, max_features=log2, n_estimators=400, score=0.985, total=   0.6s\n",
      "[CV] bootstrap=False, class_weight=balanced, criterion=entropy, max_features=log2, n_estimators=400 \n",
      "[CV]  bootstrap=False, class_weight=balanced, criterion=entropy, max_features=log2, n_estimators=400, score=0.985, total=   0.6s\n",
      "[CV] bootstrap=False, class_weight=balanced, criterion=entropy, max_features=log2, n_estimators=400 \n",
      "[CV]  bootstrap=False, class_weight=balanced, criterion=entropy, max_features=log2, n_estimators=400, score=0.977, total=   0.6s\n",
      "[CV] bootstrap=False, class_weight=balanced, criterion=entropy, max_features=log2, n_estimators=500 \n",
      "[CV]  bootstrap=False, class_weight=balanced, criterion=entropy, max_features=log2, n_estimators=500, score=0.977, total=   0.8s\n",
      "[CV] bootstrap=False, class_weight=balanced, criterion=entropy, max_features=log2, n_estimators=500 \n",
      "[CV]  bootstrap=False, class_weight=balanced, criterion=entropy, max_features=log2, n_estimators=500, score=0.992, total=   0.8s\n",
      "[CV] bootstrap=False, class_weight=balanced, criterion=entropy, max_features=log2, n_estimators=500 \n",
      "[CV]  bootstrap=False, class_weight=balanced, criterion=entropy, max_features=log2, n_estimators=500, score=0.985, total=   0.7s\n",
      "[CV] bootstrap=False, class_weight=balanced, criterion=entropy, max_features=log2, n_estimators=500 \n",
      "[CV]  bootstrap=False, class_weight=balanced, criterion=entropy, max_features=log2, n_estimators=500, score=0.992, total=   0.7s\n",
      "[CV] bootstrap=False, class_weight=balanced, criterion=entropy, max_features=log2, n_estimators=500 \n",
      "[CV]  bootstrap=False, class_weight=balanced, criterion=entropy, max_features=log2, n_estimators=500, score=0.969, total=   0.7s\n",
      "[CV] bootstrap=False, class_weight=balanced_subsample, criterion=gini, max_features=auto, n_estimators=100 \n",
      "[CV]  bootstrap=False, class_weight=balanced_subsample, criterion=gini, max_features=auto, n_estimators=100, score=0.977, total=   0.2s\n",
      "[CV] bootstrap=False, class_weight=balanced_subsample, criterion=gini, max_features=auto, n_estimators=100 \n",
      "[CV]  bootstrap=False, class_weight=balanced_subsample, criterion=gini, max_features=auto, n_estimators=100, score=0.985, total=   0.2s\n",
      "[CV] bootstrap=False, class_weight=balanced_subsample, criterion=gini, max_features=auto, n_estimators=100 \n",
      "[CV]  bootstrap=False, class_weight=balanced_subsample, criterion=gini, max_features=auto, n_estimators=100, score=0.985, total=   0.1s\n",
      "[CV] bootstrap=False, class_weight=balanced_subsample, criterion=gini, max_features=auto, n_estimators=100 \n",
      "[CV]  bootstrap=False, class_weight=balanced_subsample, criterion=gini, max_features=auto, n_estimators=100, score=0.977, total=   0.1s\n",
      "[CV] bootstrap=False, class_weight=balanced_subsample, criterion=gini, max_features=auto, n_estimators=100 \n",
      "[CV]  bootstrap=False, class_weight=balanced_subsample, criterion=gini, max_features=auto, n_estimators=100, score=0.969, total=   0.1s\n",
      "[CV] bootstrap=False, class_weight=balanced_subsample, criterion=gini, max_features=auto, n_estimators=200 \n",
      "[CV]  bootstrap=False, class_weight=balanced_subsample, criterion=gini, max_features=auto, n_estimators=200, score=0.977, total=   0.3s\n",
      "[CV] bootstrap=False, class_weight=balanced_subsample, criterion=gini, max_features=auto, n_estimators=200 \n",
      "[CV]  bootstrap=False, class_weight=balanced_subsample, criterion=gini, max_features=auto, n_estimators=200, score=0.985, total=   0.3s\n",
      "[CV] bootstrap=False, class_weight=balanced_subsample, criterion=gini, max_features=auto, n_estimators=200 \n",
      "[CV]  bootstrap=False, class_weight=balanced_subsample, criterion=gini, max_features=auto, n_estimators=200, score=0.985, total=   0.3s\n",
      "[CV] bootstrap=False, class_weight=balanced_subsample, criterion=gini, max_features=auto, n_estimators=200 \n",
      "[CV]  bootstrap=False, class_weight=balanced_subsample, criterion=gini, max_features=auto, n_estimators=200, score=0.977, total=   0.3s\n",
      "[CV] bootstrap=False, class_weight=balanced_subsample, criterion=gini, max_features=auto, n_estimators=200 \n",
      "[CV]  bootstrap=False, class_weight=balanced_subsample, criterion=gini, max_features=auto, n_estimators=200, score=0.954, total=   0.3s\n",
      "[CV] bootstrap=False, class_weight=balanced_subsample, criterion=gini, max_features=auto, n_estimators=300 \n",
      "[CV]  bootstrap=False, class_weight=balanced_subsample, criterion=gini, max_features=auto, n_estimators=300, score=0.977, total=   0.5s\n",
      "[CV] bootstrap=False, class_weight=balanced_subsample, criterion=gini, max_features=auto, n_estimators=300 \n",
      "[CV]  bootstrap=False, class_weight=balanced_subsample, criterion=gini, max_features=auto, n_estimators=300, score=0.985, total=   0.5s\n",
      "[CV] bootstrap=False, class_weight=balanced_subsample, criterion=gini, max_features=auto, n_estimators=300 \n",
      "[CV]  bootstrap=False, class_weight=balanced_subsample, criterion=gini, max_features=auto, n_estimators=300, score=0.985, total=   0.5s\n",
      "[CV] bootstrap=False, class_weight=balanced_subsample, criterion=gini, max_features=auto, n_estimators=300 \n",
      "[CV]  bootstrap=False, class_weight=balanced_subsample, criterion=gini, max_features=auto, n_estimators=300, score=0.969, total=   0.4s\n",
      "[CV] bootstrap=False, class_weight=balanced_subsample, criterion=gini, max_features=auto, n_estimators=300 \n",
      "[CV]  bootstrap=False, class_weight=balanced_subsample, criterion=gini, max_features=auto, n_estimators=300, score=0.962, total=   0.5s\n",
      "[CV] bootstrap=False, class_weight=balanced_subsample, criterion=gini, max_features=auto, n_estimators=400 \n",
      "[CV]  bootstrap=False, class_weight=balanced_subsample, criterion=gini, max_features=auto, n_estimators=400, score=0.977, total=   0.6s\n",
      "[CV] bootstrap=False, class_weight=balanced_subsample, criterion=gini, max_features=auto, n_estimators=400 \n",
      "[CV]  bootstrap=False, class_weight=balanced_subsample, criterion=gini, max_features=auto, n_estimators=400, score=0.985, total=   0.6s\n",
      "[CV] bootstrap=False, class_weight=balanced_subsample, criterion=gini, max_features=auto, n_estimators=400 \n"
     ]
    },
    {
     "name": "stdout",
     "output_type": "stream",
     "text": [
      "[CV]  bootstrap=False, class_weight=balanced_subsample, criterion=gini, max_features=auto, n_estimators=400, score=0.985, total=   0.6s\n",
      "[CV] bootstrap=False, class_weight=balanced_subsample, criterion=gini, max_features=auto, n_estimators=400 \n",
      "[CV]  bootstrap=False, class_weight=balanced_subsample, criterion=gini, max_features=auto, n_estimators=400, score=0.969, total=   0.6s\n",
      "[CV] bootstrap=False, class_weight=balanced_subsample, criterion=gini, max_features=auto, n_estimators=400 \n",
      "[CV]  bootstrap=False, class_weight=balanced_subsample, criterion=gini, max_features=auto, n_estimators=400, score=0.962, total=   0.6s\n",
      "[CV] bootstrap=False, class_weight=balanced_subsample, criterion=gini, max_features=auto, n_estimators=500 \n",
      "[CV]  bootstrap=False, class_weight=balanced_subsample, criterion=gini, max_features=auto, n_estimators=500, score=0.977, total=   0.9s\n",
      "[CV] bootstrap=False, class_weight=balanced_subsample, criterion=gini, max_features=auto, n_estimators=500 \n",
      "[CV]  bootstrap=False, class_weight=balanced_subsample, criterion=gini, max_features=auto, n_estimators=500, score=0.985, total=   0.8s\n",
      "[CV] bootstrap=False, class_weight=balanced_subsample, criterion=gini, max_features=auto, n_estimators=500 \n",
      "[CV]  bootstrap=False, class_weight=balanced_subsample, criterion=gini, max_features=auto, n_estimators=500, score=0.985, total=   0.7s\n",
      "[CV] bootstrap=False, class_weight=balanced_subsample, criterion=gini, max_features=auto, n_estimators=500 \n",
      "[CV]  bootstrap=False, class_weight=balanced_subsample, criterion=gini, max_features=auto, n_estimators=500, score=0.977, total=   0.8s\n",
      "[CV] bootstrap=False, class_weight=balanced_subsample, criterion=gini, max_features=auto, n_estimators=500 \n",
      "[CV]  bootstrap=False, class_weight=balanced_subsample, criterion=gini, max_features=auto, n_estimators=500, score=0.954, total=   0.7s\n",
      "[CV] bootstrap=False, class_weight=balanced_subsample, criterion=gini, max_features=sqrt, n_estimators=100 \n",
      "[CV]  bootstrap=False, class_weight=balanced_subsample, criterion=gini, max_features=sqrt, n_estimators=100, score=0.977, total=   0.2s\n",
      "[CV] bootstrap=False, class_weight=balanced_subsample, criterion=gini, max_features=sqrt, n_estimators=100 \n",
      "[CV]  bootstrap=False, class_weight=balanced_subsample, criterion=gini, max_features=sqrt, n_estimators=100, score=0.985, total=   0.2s\n",
      "[CV] bootstrap=False, class_weight=balanced_subsample, criterion=gini, max_features=sqrt, n_estimators=100 \n",
      "[CV]  bootstrap=False, class_weight=balanced_subsample, criterion=gini, max_features=sqrt, n_estimators=100, score=0.985, total=   0.1s\n",
      "[CV] bootstrap=False, class_weight=balanced_subsample, criterion=gini, max_features=sqrt, n_estimators=100 \n",
      "[CV]  bootstrap=False, class_weight=balanced_subsample, criterion=gini, max_features=sqrt, n_estimators=100, score=0.977, total=   0.1s\n",
      "[CV] bootstrap=False, class_weight=balanced_subsample, criterion=gini, max_features=sqrt, n_estimators=100 \n",
      "[CV]  bootstrap=False, class_weight=balanced_subsample, criterion=gini, max_features=sqrt, n_estimators=100, score=0.977, total=   0.1s\n",
      "[CV] bootstrap=False, class_weight=balanced_subsample, criterion=gini, max_features=sqrt, n_estimators=200 \n",
      "[CV]  bootstrap=False, class_weight=balanced_subsample, criterion=gini, max_features=sqrt, n_estimators=200, score=0.977, total=   0.3s\n",
      "[CV] bootstrap=False, class_weight=balanced_subsample, criterion=gini, max_features=sqrt, n_estimators=200 \n",
      "[CV]  bootstrap=False, class_weight=balanced_subsample, criterion=gini, max_features=sqrt, n_estimators=200, score=0.985, total=   0.3s\n",
      "[CV] bootstrap=False, class_weight=balanced_subsample, criterion=gini, max_features=sqrt, n_estimators=200 \n",
      "[CV]  bootstrap=False, class_weight=balanced_subsample, criterion=gini, max_features=sqrt, n_estimators=200, score=0.985, total=   0.3s\n",
      "[CV] bootstrap=False, class_weight=balanced_subsample, criterion=gini, max_features=sqrt, n_estimators=200 \n",
      "[CV]  bootstrap=False, class_weight=balanced_subsample, criterion=gini, max_features=sqrt, n_estimators=200, score=0.985, total=   0.3s\n",
      "[CV] bootstrap=False, class_weight=balanced_subsample, criterion=gini, max_features=sqrt, n_estimators=200 \n",
      "[CV]  bootstrap=False, class_weight=balanced_subsample, criterion=gini, max_features=sqrt, n_estimators=200, score=0.962, total=   0.3s\n",
      "[CV] bootstrap=False, class_weight=balanced_subsample, criterion=gini, max_features=sqrt, n_estimators=300 \n",
      "[CV]  bootstrap=False, class_weight=balanced_subsample, criterion=gini, max_features=sqrt, n_estimators=300, score=0.977, total=   0.5s\n",
      "[CV] bootstrap=False, class_weight=balanced_subsample, criterion=gini, max_features=sqrt, n_estimators=300 \n",
      "[CV]  bootstrap=False, class_weight=balanced_subsample, criterion=gini, max_features=sqrt, n_estimators=300, score=0.985, total=   0.5s\n",
      "[CV] bootstrap=False, class_weight=balanced_subsample, criterion=gini, max_features=sqrt, n_estimators=300 \n",
      "[CV]  bootstrap=False, class_weight=balanced_subsample, criterion=gini, max_features=sqrt, n_estimators=300, score=0.985, total=   0.4s\n",
      "[CV] bootstrap=False, class_weight=balanced_subsample, criterion=gini, max_features=sqrt, n_estimators=300 \n",
      "[CV]  bootstrap=False, class_weight=balanced_subsample, criterion=gini, max_features=sqrt, n_estimators=300, score=0.985, total=   0.5s\n",
      "[CV] bootstrap=False, class_weight=balanced_subsample, criterion=gini, max_features=sqrt, n_estimators=300 \n",
      "[CV]  bootstrap=False, class_weight=balanced_subsample, criterion=gini, max_features=sqrt, n_estimators=300, score=0.977, total=   0.4s\n",
      "[CV] bootstrap=False, class_weight=balanced_subsample, criterion=gini, max_features=sqrt, n_estimators=400 \n",
      "[CV]  bootstrap=False, class_weight=balanced_subsample, criterion=gini, max_features=sqrt, n_estimators=400, score=0.977, total=   0.7s\n",
      "[CV] bootstrap=False, class_weight=balanced_subsample, criterion=gini, max_features=sqrt, n_estimators=400 \n",
      "[CV]  bootstrap=False, class_weight=balanced_subsample, criterion=gini, max_features=sqrt, n_estimators=400, score=0.985, total=   0.6s\n",
      "[CV] bootstrap=False, class_weight=balanced_subsample, criterion=gini, max_features=sqrt, n_estimators=400 \n",
      "[CV]  bootstrap=False, class_weight=balanced_subsample, criterion=gini, max_features=sqrt, n_estimators=400, score=0.985, total=   0.6s\n",
      "[CV] bootstrap=False, class_weight=balanced_subsample, criterion=gini, max_features=sqrt, n_estimators=400 \n",
      "[CV]  bootstrap=False, class_weight=balanced_subsample, criterion=gini, max_features=sqrt, n_estimators=400, score=0.985, total=   0.6s\n",
      "[CV] bootstrap=False, class_weight=balanced_subsample, criterion=gini, max_features=sqrt, n_estimators=400 \n",
      "[CV]  bootstrap=False, class_weight=balanced_subsample, criterion=gini, max_features=sqrt, n_estimators=400, score=0.954, total=   0.6s\n",
      "[CV] bootstrap=False, class_weight=balanced_subsample, criterion=gini, max_features=sqrt, n_estimators=500 \n",
      "[CV]  bootstrap=False, class_weight=balanced_subsample, criterion=gini, max_features=sqrt, n_estimators=500, score=0.977, total=   0.9s\n",
      "[CV] bootstrap=False, class_weight=balanced_subsample, criterion=gini, max_features=sqrt, n_estimators=500 \n",
      "[CV]  bootstrap=False, class_weight=balanced_subsample, criterion=gini, max_features=sqrt, n_estimators=500, score=0.985, total=   0.8s\n",
      "[CV] bootstrap=False, class_weight=balanced_subsample, criterion=gini, max_features=sqrt, n_estimators=500 \n",
      "[CV]  bootstrap=False, class_weight=balanced_subsample, criterion=gini, max_features=sqrt, n_estimators=500, score=0.985, total=   0.7s\n",
      "[CV] bootstrap=False, class_weight=balanced_subsample, criterion=gini, max_features=sqrt, n_estimators=500 \n",
      "[CV]  bootstrap=False, class_weight=balanced_subsample, criterion=gini, max_features=sqrt, n_estimators=500, score=0.977, total=   0.7s\n",
      "[CV] bootstrap=False, class_weight=balanced_subsample, criterion=gini, max_features=sqrt, n_estimators=500 \n",
      "[CV]  bootstrap=False, class_weight=balanced_subsample, criterion=gini, max_features=sqrt, n_estimators=500, score=0.954, total=   0.7s\n",
      "[CV] bootstrap=False, class_weight=balanced_subsample, criterion=gini, max_features=log2, n_estimators=100 \n",
      "[CV]  bootstrap=False, class_weight=balanced_subsample, criterion=gini, max_features=log2, n_estimators=100, score=0.977, total=   0.2s\n",
      "[CV] bootstrap=False, class_weight=balanced_subsample, criterion=gini, max_features=log2, n_estimators=100 \n"
     ]
    },
    {
     "name": "stdout",
     "output_type": "stream",
     "text": [
      "[CV]  bootstrap=False, class_weight=balanced_subsample, criterion=gini, max_features=log2, n_estimators=100, score=0.992, total=   0.2s\n",
      "[CV] bootstrap=False, class_weight=balanced_subsample, criterion=gini, max_features=log2, n_estimators=100 \n",
      "[CV]  bootstrap=False, class_weight=balanced_subsample, criterion=gini, max_features=log2, n_estimators=100, score=0.985, total=   0.1s\n",
      "[CV] bootstrap=False, class_weight=balanced_subsample, criterion=gini, max_features=log2, n_estimators=100 \n",
      "[CV]  bootstrap=False, class_weight=balanced_subsample, criterion=gini, max_features=log2, n_estimators=100, score=0.969, total=   0.1s\n",
      "[CV] bootstrap=False, class_weight=balanced_subsample, criterion=gini, max_features=log2, n_estimators=100 \n",
      "[CV]  bootstrap=False, class_weight=balanced_subsample, criterion=gini, max_features=log2, n_estimators=100, score=0.977, total=   0.1s\n",
      "[CV] bootstrap=False, class_weight=balanced_subsample, criterion=gini, max_features=log2, n_estimators=200 \n",
      "[CV]  bootstrap=False, class_weight=balanced_subsample, criterion=gini, max_features=log2, n_estimators=200, score=0.977, total=   0.3s\n",
      "[CV] bootstrap=False, class_weight=balanced_subsample, criterion=gini, max_features=log2, n_estimators=200 \n",
      "[CV]  bootstrap=False, class_weight=balanced_subsample, criterion=gini, max_features=log2, n_estimators=200, score=0.985, total=   0.3s\n",
      "[CV] bootstrap=False, class_weight=balanced_subsample, criterion=gini, max_features=log2, n_estimators=200 \n",
      "[CV]  bootstrap=False, class_weight=balanced_subsample, criterion=gini, max_features=log2, n_estimators=200, score=0.985, total=   0.3s\n",
      "[CV] bootstrap=False, class_weight=balanced_subsample, criterion=gini, max_features=log2, n_estimators=200 \n",
      "[CV]  bootstrap=False, class_weight=balanced_subsample, criterion=gini, max_features=log2, n_estimators=200, score=0.977, total=   0.3s\n",
      "[CV] bootstrap=False, class_weight=balanced_subsample, criterion=gini, max_features=log2, n_estimators=200 \n",
      "[CV]  bootstrap=False, class_weight=balanced_subsample, criterion=gini, max_features=log2, n_estimators=200, score=0.962, total=   0.3s\n",
      "[CV] bootstrap=False, class_weight=balanced_subsample, criterion=gini, max_features=log2, n_estimators=300 \n",
      "[CV]  bootstrap=False, class_weight=balanced_subsample, criterion=gini, max_features=log2, n_estimators=300, score=0.977, total=   0.5s\n",
      "[CV] bootstrap=False, class_weight=balanced_subsample, criterion=gini, max_features=log2, n_estimators=300 \n",
      "[CV]  bootstrap=False, class_weight=balanced_subsample, criterion=gini, max_features=log2, n_estimators=300, score=0.992, total=   0.4s\n",
      "[CV] bootstrap=False, class_weight=balanced_subsample, criterion=gini, max_features=log2, n_estimators=300 \n",
      "[CV]  bootstrap=False, class_weight=balanced_subsample, criterion=gini, max_features=log2, n_estimators=300, score=0.985, total=   0.4s\n",
      "[CV] bootstrap=False, class_weight=balanced_subsample, criterion=gini, max_features=log2, n_estimators=300 \n",
      "[CV]  bootstrap=False, class_weight=balanced_subsample, criterion=gini, max_features=log2, n_estimators=300, score=0.977, total=   0.4s\n",
      "[CV] bootstrap=False, class_weight=balanced_subsample, criterion=gini, max_features=log2, n_estimators=300 \n",
      "[CV]  bootstrap=False, class_weight=balanced_subsample, criterion=gini, max_features=log2, n_estimators=300, score=0.977, total=   0.4s\n",
      "[CV] bootstrap=False, class_weight=balanced_subsample, criterion=gini, max_features=log2, n_estimators=400 \n",
      "[CV]  bootstrap=False, class_weight=balanced_subsample, criterion=gini, max_features=log2, n_estimators=400, score=0.977, total=   0.6s\n",
      "[CV] bootstrap=False, class_weight=balanced_subsample, criterion=gini, max_features=log2, n_estimators=400 \n",
      "[CV]  bootstrap=False, class_weight=balanced_subsample, criterion=gini, max_features=log2, n_estimators=400, score=0.985, total=   0.7s\n",
      "[CV] bootstrap=False, class_weight=balanced_subsample, criterion=gini, max_features=log2, n_estimators=400 \n",
      "[CV]  bootstrap=False, class_weight=balanced_subsample, criterion=gini, max_features=log2, n_estimators=400, score=0.985, total=   0.5s\n",
      "[CV] bootstrap=False, class_weight=balanced_subsample, criterion=gini, max_features=log2, n_estimators=400 \n",
      "[CV]  bootstrap=False, class_weight=balanced_subsample, criterion=gini, max_features=log2, n_estimators=400, score=0.985, total=   0.5s\n",
      "[CV] bootstrap=False, class_weight=balanced_subsample, criterion=gini, max_features=log2, n_estimators=400 \n",
      "[CV]  bootstrap=False, class_weight=balanced_subsample, criterion=gini, max_features=log2, n_estimators=400, score=0.977, total=   0.6s\n",
      "[CV] bootstrap=False, class_weight=balanced_subsample, criterion=gini, max_features=log2, n_estimators=500 \n",
      "[CV]  bootstrap=False, class_weight=balanced_subsample, criterion=gini, max_features=log2, n_estimators=500, score=0.977, total=   0.8s\n",
      "[CV] bootstrap=False, class_weight=balanced_subsample, criterion=gini, max_features=log2, n_estimators=500 \n",
      "[CV]  bootstrap=False, class_weight=balanced_subsample, criterion=gini, max_features=log2, n_estimators=500, score=0.985, total=   0.8s\n",
      "[CV] bootstrap=False, class_weight=balanced_subsample, criterion=gini, max_features=log2, n_estimators=500 \n",
      "[CV]  bootstrap=False, class_weight=balanced_subsample, criterion=gini, max_features=log2, n_estimators=500, score=0.985, total=   0.7s\n",
      "[CV] bootstrap=False, class_weight=balanced_subsample, criterion=gini, max_features=log2, n_estimators=500 \n",
      "[CV]  bootstrap=False, class_weight=balanced_subsample, criterion=gini, max_features=log2, n_estimators=500, score=0.977, total=   0.7s\n",
      "[CV] bootstrap=False, class_weight=balanced_subsample, criterion=gini, max_features=log2, n_estimators=500 \n",
      "[CV]  bootstrap=False, class_weight=balanced_subsample, criterion=gini, max_features=log2, n_estimators=500, score=0.977, total=   0.6s\n",
      "[CV] bootstrap=False, class_weight=balanced_subsample, criterion=entropy, max_features=auto, n_estimators=100 \n",
      "[CV]  bootstrap=False, class_weight=balanced_subsample, criterion=entropy, max_features=auto, n_estimators=100, score=0.962, total=   0.2s\n",
      "[CV] bootstrap=False, class_weight=balanced_subsample, criterion=entropy, max_features=auto, n_estimators=100 \n",
      "[CV]  bootstrap=False, class_weight=balanced_subsample, criterion=entropy, max_features=auto, n_estimators=100, score=0.985, total=   0.2s\n",
      "[CV] bootstrap=False, class_weight=balanced_subsample, criterion=entropy, max_features=auto, n_estimators=100 \n",
      "[CV]  bootstrap=False, class_weight=balanced_subsample, criterion=entropy, max_features=auto, n_estimators=100, score=0.985, total=   0.1s\n",
      "[CV] bootstrap=False, class_weight=balanced_subsample, criterion=entropy, max_features=auto, n_estimators=100 \n",
      "[CV]  bootstrap=False, class_weight=balanced_subsample, criterion=entropy, max_features=auto, n_estimators=100, score=0.977, total=   0.2s\n",
      "[CV] bootstrap=False, class_weight=balanced_subsample, criterion=entropy, max_features=auto, n_estimators=100 \n",
      "[CV]  bootstrap=False, class_weight=balanced_subsample, criterion=entropy, max_features=auto, n_estimators=100, score=0.962, total=   0.1s\n",
      "[CV] bootstrap=False, class_weight=balanced_subsample, criterion=entropy, max_features=auto, n_estimators=200 \n",
      "[CV]  bootstrap=False, class_weight=balanced_subsample, criterion=entropy, max_features=auto, n_estimators=200, score=0.969, total=   0.3s\n",
      "[CV] bootstrap=False, class_weight=balanced_subsample, criterion=entropy, max_features=auto, n_estimators=200 \n",
      "[CV]  bootstrap=False, class_weight=balanced_subsample, criterion=entropy, max_features=auto, n_estimators=200, score=0.985, total=   0.3s\n",
      "[CV] bootstrap=False, class_weight=balanced_subsample, criterion=entropy, max_features=auto, n_estimators=200 \n",
      "[CV]  bootstrap=False, class_weight=balanced_subsample, criterion=entropy, max_features=auto, n_estimators=200, score=0.985, total=   0.3s\n",
      "[CV] bootstrap=False, class_weight=balanced_subsample, criterion=entropy, max_features=auto, n_estimators=200 \n",
      "[CV]  bootstrap=False, class_weight=balanced_subsample, criterion=entropy, max_features=auto, n_estimators=200, score=0.977, total=   0.3s\n",
      "[CV] bootstrap=False, class_weight=balanced_subsample, criterion=entropy, max_features=auto, n_estimators=200 \n",
      "[CV]  bootstrap=False, class_weight=balanced_subsample, criterion=entropy, max_features=auto, n_estimators=200, score=0.962, total=   0.3s\n",
      "[CV] bootstrap=False, class_weight=balanced_subsample, criterion=entropy, max_features=auto, n_estimators=300 \n"
     ]
    },
    {
     "name": "stdout",
     "output_type": "stream",
     "text": [
      "[CV]  bootstrap=False, class_weight=balanced_subsample, criterion=entropy, max_features=auto, n_estimators=300, score=0.977, total=   0.5s\n",
      "[CV] bootstrap=False, class_weight=balanced_subsample, criterion=entropy, max_features=auto, n_estimators=300 \n",
      "[CV]  bootstrap=False, class_weight=balanced_subsample, criterion=entropy, max_features=auto, n_estimators=300, score=0.985, total=   0.5s\n",
      "[CV] bootstrap=False, class_weight=balanced_subsample, criterion=entropy, max_features=auto, n_estimators=300 \n",
      "[CV]  bootstrap=False, class_weight=balanced_subsample, criterion=entropy, max_features=auto, n_estimators=300, score=0.985, total=   0.4s\n",
      "[CV] bootstrap=False, class_weight=balanced_subsample, criterion=entropy, max_features=auto, n_estimators=300 \n",
      "[CV]  bootstrap=False, class_weight=balanced_subsample, criterion=entropy, max_features=auto, n_estimators=300, score=0.985, total=   0.5s\n",
      "[CV] bootstrap=False, class_weight=balanced_subsample, criterion=entropy, max_features=auto, n_estimators=300 \n",
      "[CV]  bootstrap=False, class_weight=balanced_subsample, criterion=entropy, max_features=auto, n_estimators=300, score=0.962, total=   0.4s\n",
      "[CV] bootstrap=False, class_weight=balanced_subsample, criterion=entropy, max_features=auto, n_estimators=400 \n",
      "[CV]  bootstrap=False, class_weight=balanced_subsample, criterion=entropy, max_features=auto, n_estimators=400, score=0.977, total=   0.7s\n",
      "[CV] bootstrap=False, class_weight=balanced_subsample, criterion=entropy, max_features=auto, n_estimators=400 \n",
      "[CV]  bootstrap=False, class_weight=balanced_subsample, criterion=entropy, max_features=auto, n_estimators=400, score=0.985, total=   0.7s\n",
      "[CV] bootstrap=False, class_weight=balanced_subsample, criterion=entropy, max_features=auto, n_estimators=400 \n",
      "[CV]  bootstrap=False, class_weight=balanced_subsample, criterion=entropy, max_features=auto, n_estimators=400, score=0.985, total=   0.6s\n",
      "[CV] bootstrap=False, class_weight=balanced_subsample, criterion=entropy, max_features=auto, n_estimators=400 \n",
      "[CV]  bootstrap=False, class_weight=balanced_subsample, criterion=entropy, max_features=auto, n_estimators=400, score=0.985, total=   0.6s\n",
      "[CV] bootstrap=False, class_weight=balanced_subsample, criterion=entropy, max_features=auto, n_estimators=400 \n",
      "[CV]  bootstrap=False, class_weight=balanced_subsample, criterion=entropy, max_features=auto, n_estimators=400, score=0.977, total=   0.6s\n",
      "[CV] bootstrap=False, class_weight=balanced_subsample, criterion=entropy, max_features=auto, n_estimators=500 \n",
      "[CV]  bootstrap=False, class_weight=balanced_subsample, criterion=entropy, max_features=auto, n_estimators=500, score=0.969, total=   0.8s\n",
      "[CV] bootstrap=False, class_weight=balanced_subsample, criterion=entropy, max_features=auto, n_estimators=500 \n",
      "[CV]  bootstrap=False, class_weight=balanced_subsample, criterion=entropy, max_features=auto, n_estimators=500, score=0.985, total=   0.8s\n",
      "[CV] bootstrap=False, class_weight=balanced_subsample, criterion=entropy, max_features=auto, n_estimators=500 \n",
      "[CV]  bootstrap=False, class_weight=balanced_subsample, criterion=entropy, max_features=auto, n_estimators=500, score=0.985, total=   0.7s\n",
      "[CV] bootstrap=False, class_weight=balanced_subsample, criterion=entropy, max_features=auto, n_estimators=500 \n",
      "[CV]  bootstrap=False, class_weight=balanced_subsample, criterion=entropy, max_features=auto, n_estimators=500, score=0.985, total=   0.7s\n",
      "[CV] bootstrap=False, class_weight=balanced_subsample, criterion=entropy, max_features=auto, n_estimators=500 \n",
      "[CV]  bootstrap=False, class_weight=balanced_subsample, criterion=entropy, max_features=auto, n_estimators=500, score=0.969, total=   0.8s\n",
      "[CV] bootstrap=False, class_weight=balanced_subsample, criterion=entropy, max_features=sqrt, n_estimators=100 \n",
      "[CV]  bootstrap=False, class_weight=balanced_subsample, criterion=entropy, max_features=sqrt, n_estimators=100, score=0.977, total=   0.2s\n",
      "[CV] bootstrap=False, class_weight=balanced_subsample, criterion=entropy, max_features=sqrt, n_estimators=100 \n",
      "[CV]  bootstrap=False, class_weight=balanced_subsample, criterion=entropy, max_features=sqrt, n_estimators=100, score=0.985, total=   0.2s\n",
      "[CV] bootstrap=False, class_weight=balanced_subsample, criterion=entropy, max_features=sqrt, n_estimators=100 \n",
      "[CV]  bootstrap=False, class_weight=balanced_subsample, criterion=entropy, max_features=sqrt, n_estimators=100, score=0.985, total=   0.2s\n",
      "[CV] bootstrap=False, class_weight=balanced_subsample, criterion=entropy, max_features=sqrt, n_estimators=100 \n",
      "[CV]  bootstrap=False, class_weight=balanced_subsample, criterion=entropy, max_features=sqrt, n_estimators=100, score=0.977, total=   0.2s\n",
      "[CV] bootstrap=False, class_weight=balanced_subsample, criterion=entropy, max_features=sqrt, n_estimators=100 \n",
      "[CV]  bootstrap=False, class_weight=balanced_subsample, criterion=entropy, max_features=sqrt, n_estimators=100, score=0.962, total=   0.2s\n",
      "[CV] bootstrap=False, class_weight=balanced_subsample, criterion=entropy, max_features=sqrt, n_estimators=200 \n",
      "[CV]  bootstrap=False, class_weight=balanced_subsample, criterion=entropy, max_features=sqrt, n_estimators=200, score=0.977, total=   0.3s\n",
      "[CV] bootstrap=False, class_weight=balanced_subsample, criterion=entropy, max_features=sqrt, n_estimators=200 \n",
      "[CV]  bootstrap=False, class_weight=balanced_subsample, criterion=entropy, max_features=sqrt, n_estimators=200, score=0.985, total=   0.3s\n",
      "[CV] bootstrap=False, class_weight=balanced_subsample, criterion=entropy, max_features=sqrt, n_estimators=200 \n",
      "[CV]  bootstrap=False, class_weight=balanced_subsample, criterion=entropy, max_features=sqrt, n_estimators=200, score=0.985, total=   0.3s\n",
      "[CV] bootstrap=False, class_weight=balanced_subsample, criterion=entropy, max_features=sqrt, n_estimators=200 \n",
      "[CV]  bootstrap=False, class_weight=balanced_subsample, criterion=entropy, max_features=sqrt, n_estimators=200, score=0.992, total=   0.3s\n",
      "[CV] bootstrap=False, class_weight=balanced_subsample, criterion=entropy, max_features=sqrt, n_estimators=200 \n",
      "[CV]  bootstrap=False, class_weight=balanced_subsample, criterion=entropy, max_features=sqrt, n_estimators=200, score=0.962, total=   0.3s\n",
      "[CV] bootstrap=False, class_weight=balanced_subsample, criterion=entropy, max_features=sqrt, n_estimators=300 \n",
      "[CV]  bootstrap=False, class_weight=balanced_subsample, criterion=entropy, max_features=sqrt, n_estimators=300, score=0.969, total=   0.5s\n",
      "[CV] bootstrap=False, class_weight=balanced_subsample, criterion=entropy, max_features=sqrt, n_estimators=300 \n",
      "[CV]  bootstrap=False, class_weight=balanced_subsample, criterion=entropy, max_features=sqrt, n_estimators=300, score=0.985, total=   0.5s\n",
      "[CV] bootstrap=False, class_weight=balanced_subsample, criterion=entropy, max_features=sqrt, n_estimators=300 \n",
      "[CV]  bootstrap=False, class_weight=balanced_subsample, criterion=entropy, max_features=sqrt, n_estimators=300, score=0.985, total=   0.4s\n",
      "[CV] bootstrap=False, class_weight=balanced_subsample, criterion=entropy, max_features=sqrt, n_estimators=300 \n",
      "[CV]  bootstrap=False, class_weight=balanced_subsample, criterion=entropy, max_features=sqrt, n_estimators=300, score=0.977, total=   0.5s\n",
      "[CV] bootstrap=False, class_weight=balanced_subsample, criterion=entropy, max_features=sqrt, n_estimators=300 \n",
      "[CV]  bootstrap=False, class_weight=balanced_subsample, criterion=entropy, max_features=sqrt, n_estimators=300, score=0.969, total=   0.4s\n",
      "[CV] bootstrap=False, class_weight=balanced_subsample, criterion=entropy, max_features=sqrt, n_estimators=400 \n",
      "[CV]  bootstrap=False, class_weight=balanced_subsample, criterion=entropy, max_features=sqrt, n_estimators=400, score=0.977, total=   0.7s\n",
      "[CV] bootstrap=False, class_weight=balanced_subsample, criterion=entropy, max_features=sqrt, n_estimators=400 \n",
      "[CV]  bootstrap=False, class_weight=balanced_subsample, criterion=entropy, max_features=sqrt, n_estimators=400, score=0.985, total=   0.7s\n",
      "[CV] bootstrap=False, class_weight=balanced_subsample, criterion=entropy, max_features=sqrt, n_estimators=400 \n",
      "[CV]  bootstrap=False, class_weight=balanced_subsample, criterion=entropy, max_features=sqrt, n_estimators=400, score=0.985, total=   0.6s\n",
      "[CV] bootstrap=False, class_weight=balanced_subsample, criterion=entropy, max_features=sqrt, n_estimators=400 \n"
     ]
    },
    {
     "name": "stdout",
     "output_type": "stream",
     "text": [
      "[CV]  bootstrap=False, class_weight=balanced_subsample, criterion=entropy, max_features=sqrt, n_estimators=400, score=0.977, total=   0.6s\n",
      "[CV] bootstrap=False, class_weight=balanced_subsample, criterion=entropy, max_features=sqrt, n_estimators=400 \n",
      "[CV]  bootstrap=False, class_weight=balanced_subsample, criterion=entropy, max_features=sqrt, n_estimators=400, score=0.962, total=   0.6s\n",
      "[CV] bootstrap=False, class_weight=balanced_subsample, criterion=entropy, max_features=sqrt, n_estimators=500 \n",
      "[CV]  bootstrap=False, class_weight=balanced_subsample, criterion=entropy, max_features=sqrt, n_estimators=500, score=0.977, total=   0.9s\n",
      "[CV] bootstrap=False, class_weight=balanced_subsample, criterion=entropy, max_features=sqrt, n_estimators=500 \n",
      "[CV]  bootstrap=False, class_weight=balanced_subsample, criterion=entropy, max_features=sqrt, n_estimators=500, score=0.985, total=   0.8s\n",
      "[CV] bootstrap=False, class_weight=balanced_subsample, criterion=entropy, max_features=sqrt, n_estimators=500 \n",
      "[CV]  bootstrap=False, class_weight=balanced_subsample, criterion=entropy, max_features=sqrt, n_estimators=500, score=0.985, total=   0.8s\n",
      "[CV] bootstrap=False, class_weight=balanced_subsample, criterion=entropy, max_features=sqrt, n_estimators=500 \n",
      "[CV]  bootstrap=False, class_weight=balanced_subsample, criterion=entropy, max_features=sqrt, n_estimators=500, score=0.985, total=   0.7s\n",
      "[CV] bootstrap=False, class_weight=balanced_subsample, criterion=entropy, max_features=sqrt, n_estimators=500 \n",
      "[CV]  bootstrap=False, class_weight=balanced_subsample, criterion=entropy, max_features=sqrt, n_estimators=500, score=0.969, total=   0.7s\n",
      "[CV] bootstrap=False, class_weight=balanced_subsample, criterion=entropy, max_features=log2, n_estimators=100 \n",
      "[CV]  bootstrap=False, class_weight=balanced_subsample, criterion=entropy, max_features=log2, n_estimators=100, score=0.969, total=   0.2s\n",
      "[CV] bootstrap=False, class_weight=balanced_subsample, criterion=entropy, max_features=log2, n_estimators=100 \n",
      "[CV]  bootstrap=False, class_weight=balanced_subsample, criterion=entropy, max_features=log2, n_estimators=100, score=0.992, total=   0.1s\n",
      "[CV] bootstrap=False, class_weight=balanced_subsample, criterion=entropy, max_features=log2, n_estimators=100 \n",
      "[CV]  bootstrap=False, class_weight=balanced_subsample, criterion=entropy, max_features=log2, n_estimators=100, score=0.985, total=   0.1s\n",
      "[CV] bootstrap=False, class_weight=balanced_subsample, criterion=entropy, max_features=log2, n_estimators=100 \n",
      "[CV]  bootstrap=False, class_weight=balanced_subsample, criterion=entropy, max_features=log2, n_estimators=100, score=0.985, total=   0.1s\n",
      "[CV] bootstrap=False, class_weight=balanced_subsample, criterion=entropy, max_features=log2, n_estimators=100 \n",
      "[CV]  bootstrap=False, class_weight=balanced_subsample, criterion=entropy, max_features=log2, n_estimators=100, score=0.969, total=   0.1s\n",
      "[CV] bootstrap=False, class_weight=balanced_subsample, criterion=entropy, max_features=log2, n_estimators=200 \n",
      "[CV]  bootstrap=False, class_weight=balanced_subsample, criterion=entropy, max_features=log2, n_estimators=200, score=0.977, total=   0.3s\n",
      "[CV] bootstrap=False, class_weight=balanced_subsample, criterion=entropy, max_features=log2, n_estimators=200 \n",
      "[CV]  bootstrap=False, class_weight=balanced_subsample, criterion=entropy, max_features=log2, n_estimators=200, score=0.985, total=   0.3s\n",
      "[CV] bootstrap=False, class_weight=balanced_subsample, criterion=entropy, max_features=log2, n_estimators=200 \n",
      "[CV]  bootstrap=False, class_weight=balanced_subsample, criterion=entropy, max_features=log2, n_estimators=200, score=0.985, total=   0.3s\n",
      "[CV] bootstrap=False, class_weight=balanced_subsample, criterion=entropy, max_features=log2, n_estimators=200 \n",
      "[CV]  bootstrap=False, class_weight=balanced_subsample, criterion=entropy, max_features=log2, n_estimators=200, score=0.985, total=   0.3s\n",
      "[CV] bootstrap=False, class_weight=balanced_subsample, criterion=entropy, max_features=log2, n_estimators=200 \n",
      "[CV]  bootstrap=False, class_weight=balanced_subsample, criterion=entropy, max_features=log2, n_estimators=200, score=0.969, total=   0.3s\n",
      "[CV] bootstrap=False, class_weight=balanced_subsample, criterion=entropy, max_features=log2, n_estimators=300 \n",
      "[CV]  bootstrap=False, class_weight=balanced_subsample, criterion=entropy, max_features=log2, n_estimators=300, score=0.977, total=   0.5s\n",
      "[CV] bootstrap=False, class_weight=balanced_subsample, criterion=entropy, max_features=log2, n_estimators=300 \n",
      "[CV]  bootstrap=False, class_weight=balanced_subsample, criterion=entropy, max_features=log2, n_estimators=300, score=0.985, total=   0.5s\n",
      "[CV] bootstrap=False, class_weight=balanced_subsample, criterion=entropy, max_features=log2, n_estimators=300 \n",
      "[CV]  bootstrap=False, class_weight=balanced_subsample, criterion=entropy, max_features=log2, n_estimators=300, score=0.985, total=   0.4s\n",
      "[CV] bootstrap=False, class_weight=balanced_subsample, criterion=entropy, max_features=log2, n_estimators=300 \n",
      "[CV]  bootstrap=False, class_weight=balanced_subsample, criterion=entropy, max_features=log2, n_estimators=300, score=0.985, total=   0.4s\n",
      "[CV] bootstrap=False, class_weight=balanced_subsample, criterion=entropy, max_features=log2, n_estimators=300 \n",
      "[CV]  bootstrap=False, class_weight=balanced_subsample, criterion=entropy, max_features=log2, n_estimators=300, score=0.969, total=   0.4s\n",
      "[CV] bootstrap=False, class_weight=balanced_subsample, criterion=entropy, max_features=log2, n_estimators=400 \n",
      "[CV]  bootstrap=False, class_weight=balanced_subsample, criterion=entropy, max_features=log2, n_estimators=400, score=0.977, total=   0.6s\n",
      "[CV] bootstrap=False, class_weight=balanced_subsample, criterion=entropy, max_features=log2, n_estimators=400 \n",
      "[CV]  bootstrap=False, class_weight=balanced_subsample, criterion=entropy, max_features=log2, n_estimators=400, score=0.985, total=   0.6s\n",
      "[CV] bootstrap=False, class_weight=balanced_subsample, criterion=entropy, max_features=log2, n_estimators=400 \n",
      "[CV]  bootstrap=False, class_weight=balanced_subsample, criterion=entropy, max_features=log2, n_estimators=400, score=0.985, total=   0.5s\n",
      "[CV] bootstrap=False, class_weight=balanced_subsample, criterion=entropy, max_features=log2, n_estimators=400 \n",
      "[CV]  bootstrap=False, class_weight=balanced_subsample, criterion=entropy, max_features=log2, n_estimators=400, score=0.977, total=   0.6s\n",
      "[CV] bootstrap=False, class_weight=balanced_subsample, criterion=entropy, max_features=log2, n_estimators=400 \n",
      "[CV]  bootstrap=False, class_weight=balanced_subsample, criterion=entropy, max_features=log2, n_estimators=400, score=0.969, total=   0.6s\n",
      "[CV] bootstrap=False, class_weight=balanced_subsample, criterion=entropy, max_features=log2, n_estimators=500 \n",
      "[CV]  bootstrap=False, class_weight=balanced_subsample, criterion=entropy, max_features=log2, n_estimators=500, score=0.977, total=   0.8s\n",
      "[CV] bootstrap=False, class_weight=balanced_subsample, criterion=entropy, max_features=log2, n_estimators=500 \n",
      "[CV]  bootstrap=False, class_weight=balanced_subsample, criterion=entropy, max_features=log2, n_estimators=500, score=0.985, total=   0.8s\n",
      "[CV] bootstrap=False, class_weight=balanced_subsample, criterion=entropy, max_features=log2, n_estimators=500 \n",
      "[CV]  bootstrap=False, class_weight=balanced_subsample, criterion=entropy, max_features=log2, n_estimators=500, score=0.985, total=   0.7s\n",
      "[CV] bootstrap=False, class_weight=balanced_subsample, criterion=entropy, max_features=log2, n_estimators=500 \n",
      "[CV]  bootstrap=False, class_weight=balanced_subsample, criterion=entropy, max_features=log2, n_estimators=500, score=0.992, total=   0.6s\n",
      "[CV] bootstrap=False, class_weight=balanced_subsample, criterion=entropy, max_features=log2, n_estimators=500 \n",
      "[CV]  bootstrap=False, class_weight=balanced_subsample, criterion=entropy, max_features=log2, n_estimators=500, score=0.977, total=   0.7s\n"
     ]
    },
    {
     "name": "stderr",
     "output_type": "stream",
     "text": [
      "[Parallel(n_jobs=1)]: Done 600 out of 600 | elapsed:  5.1min finished\n"
     ]
    },
    {
     "data": {
      "text/plain": [
       "GridSearchCV(estimator=RandomForestClassifier(),\n",
       "             param_grid={'bootstrap': [True, False],\n",
       "                         'class_weight': ['balanced', 'balanced_subsample'],\n",
       "                         'criterion': ['gini', 'entropy'],\n",
       "                         'max_features': ['auto', 'sqrt', 'log2'],\n",
       "                         'n_estimators': [100, 200, 300, 400, 500]},\n",
       "             verbose=4)"
      ]
     },
     "execution_count": 69,
     "metadata": {},
     "output_type": "execute_result"
    }
   ],
   "source": [
    "grid_search = GridSearchCV(RandomForestClassifier(),param_grid,refit=True,verbose=4)\n",
    "grid_search.fit(X_train_transformed,y_train)"
   ]
  },
  {
   "cell_type": "code",
   "execution_count": 70,
   "id": "35a7e8dc",
   "metadata": {},
   "outputs": [
    {
     "data": {
      "text/plain": [
       "RandomForestClassifier(class_weight='balanced', criterion='entropy',\n",
       "                       max_features='log2', n_estimators=500, random_state=68)"
      ]
     },
     "execution_count": 70,
     "metadata": {},
     "output_type": "execute_result"
    }
   ],
   "source": [
    "rfc = RandomForestClassifier(bootstrap=True,class_weight='balanced',criterion='entropy',max_features='log2',n_estimators=500,random_state=68)\n",
    "rfc.fit(X_train_transformed,y_train)"
   ]
  },
  {
   "cell_type": "code",
   "execution_count": 71,
   "id": "78da988f",
   "metadata": {},
   "outputs": [
    {
     "data": {
      "text/plain": [
       "array([1, 1, 1, 0, 0, 1, 1, 1, 1, 0, 0, 1, 0, 0, 0, 0, 0, 0, 0, 0, 0, 0,\n",
       "       0, 0, 0, 0, 0, 0, 0, 0, 0, 0, 0, 0, 0, 0, 0, 0, 0, 0, 0, 0, 0, 0,\n",
       "       0, 0, 0, 0, 0, 0, 0, 0, 0, 0, 0, 0, 0, 0, 0, 0, 1, 0, 0, 0, 0, 1,\n",
       "       1, 0, 0, 0, 0, 0, 0, 0, 0, 0, 0, 0, 0, 0, 0, 0, 0, 0, 0, 0, 0, 0,\n",
       "       0, 0, 0, 0, 0, 0, 0, 0, 0, 0, 0, 0, 0, 0, 0, 0, 0, 0, 0, 0, 0, 0,\n",
       "       0, 0, 0, 0, 0, 0, 0, 0, 0, 0, 0, 0, 0, 0, 0, 0, 0, 0, 0, 0, 0, 0,\n",
       "       0, 0, 0, 0, 0, 0, 0, 0, 0, 0, 0, 0, 0, 0, 0, 0, 0, 0, 0, 0, 0, 0,\n",
       "       0, 0, 0, 0, 0, 0, 0, 0, 0, 0, 0, 0, 0, 0, 0, 0, 0, 0, 0, 0, 1, 1,\n",
       "       1, 1, 1, 1, 1, 1, 1, 1, 1, 1, 1, 1, 1, 1, 1, 1, 0, 1, 1, 1, 1, 0,\n",
       "       1, 1, 1, 1, 1, 1, 1, 1, 1, 0, 0, 1, 1, 1, 1, 1, 1, 1, 1, 1, 1, 1,\n",
       "       1, 1, 1, 1, 1, 1, 1, 1, 1, 1, 0, 1, 1, 1, 1, 1, 1, 1, 0, 1, 1, 1,\n",
       "       1, 1, 1, 1, 1, 1, 1, 1, 1, 0, 1, 1, 1, 1, 0, 1, 0, 1, 1, 1, 0, 1,\n",
       "       1, 1, 0, 1, 1, 1, 1, 1, 1, 1, 1, 1, 1, 1, 1, 1, 1, 1, 1, 1, 1, 1,\n",
       "       1, 1, 1, 1, 1, 1, 1, 1, 1, 1, 1, 1, 1, 1, 1, 0, 1, 1, 0, 1, 0, 1,\n",
       "       0, 1, 0, 1, 1, 1, 1, 1, 1, 1, 1, 1, 1, 1, 0, 1, 1, 1, 1, 1, 0, 0,\n",
       "       0, 1, 1, 1, 1, 1, 1, 1, 1, 1, 0, 1, 1, 1, 1, 1, 1, 1])"
      ]
     },
     "execution_count": 71,
     "metadata": {},
     "output_type": "execute_result"
    }
   ],
   "source": [
    "optimized_rfc_pred = rfc.predict(X_test_transformed)\n",
    "optimized_rfc_pred"
   ]
  },
  {
   "cell_type": "code",
   "execution_count": 72,
   "id": "96e6c9cd",
   "metadata": {},
   "outputs": [
    {
     "name": "stdout",
     "output_type": "stream",
     "text": [
      "[[163  11]\n",
      " [ 21 153]]\n",
      "              precision    recall  f1-score   support\n",
      "\n",
      "           0       0.89      0.94      0.91       174\n",
      "           1       0.93      0.88      0.91       174\n",
      "\n",
      "    accuracy                           0.91       348\n",
      "   macro avg       0.91      0.91      0.91       348\n",
      "weighted avg       0.91      0.91      0.91       348\n",
      "\n"
     ]
    }
   ],
   "source": [
    "print(confusion_matrix(y_test,optimized_rfc_pred))\n",
    "print(classification_report(y_test,optimized_rfc_pred))"
   ]
  },
  {
   "cell_type": "markdown",
   "id": "20201bdb",
   "metadata": {},
   "source": [
    "## Conclusion"
   ]
  },
  {
   "cell_type": "code",
   "execution_count": 73,
   "id": "7855c4ab",
   "metadata": {},
   "outputs": [
    {
     "name": "stdout",
     "output_type": "stream",
     "text": [
      "Performance of ML models used:\n",
      "Accuracy score of Logistic Regression: 52.3%\n",
      "Precision score of Logistic Regression: 51.18%\n",
      "Recall score of Logistic Regression: 100.0%\n",
      "-------------------------------------------------------------\n",
      "Accuracy score of Support Vector Classifier: 93.39%\n",
      "Precision score of Support Vector Classifier: 99.35%\n",
      "Recall score of Support Vector Classifier: 87.36%\n",
      "-------------------------------------------------------------\n",
      "Accuracy score of K Neighbors Classifier: 84.2%\n",
      "Precision score of K Neighbors Classifier: 95.42%\n",
      "Recall score of K Neighbors Classifier: 71.84%\n",
      "-------------------------------------------------------------\n",
      "Accuracy score of Multinomial Naive Bayes: 77.59%\n",
      "Precision score of Multinomial Naive Bayes: 77.91%\n",
      "Recall score of Multinomial Naive Bayes: 77.01%\n",
      "-------------------------------------------------------------\n",
      "Accuracy score of Decision Tree Classifier: 81.61%\n",
      "Precision score of Decision Tree Classifier: 82.74%\n",
      "Recall score of Decision Tree Classifier: 79.89%\n",
      "-------------------------------------------------------------\n",
      "Accuracy score of Random Forests Classifier: 90.8%\n",
      "Precision score of Random Forests Classifier: 93.29%\n",
      "Recall score of Random Forests Classifier: 87.93%\n",
      "-------------------------------------------------------------\n",
      "Accuracy score of XG Boost Classifier: 86.49%\n",
      "Precision score of XG Boost Classifier: 90.97%\n",
      "Recall score of XG Boost Classifier: 81.03%\n",
      "-------------------------------------------------------------\n"
     ]
    }
   ],
   "source": [
    "print(\"Performance of ML models used:\")\n",
    "print(\"Accuracy score of Logistic Regression:\",str(np.round(accuracy_score(y_test,predictions)*100,2)) + '%')\n",
    "print(\"Precision score of Logistic Regression:\",str(np.round(precision_score(y_test,predictions)*100,2)) + '%')\n",
    "print(\"Recall score of Logistic Regression:\",str(np.round(recall_score(y_test,predictions)*100,2)) + '%')\n",
    "print('-------------------------------------------------------------')\n",
    "print(\"Accuracy score of Support Vector Classifier:\",str(np.round(accuracy_score(y_test,optimized_svm_pred)*100,2)) + '%')\n",
    "print(\"Precision score of Support Vector Classifier:\",str(np.round(precision_score(y_test,optimized_svm_pred)*100,2)) + '%')\n",
    "print(\"Recall score of Support Vector Classifier:\",str(np.round(recall_score(y_test,optimized_svm_pred)*100,2)) + '%')\n",
    "print('-------------------------------------------------------------')\n",
    "print(\"Accuracy score of K Neighbors Classifier:\",str(np.round(accuracy_score(y_test,optimized_knn_pred)*100,2)) + '%')\n",
    "print(\"Precision score of K Neighbors Classifier:\",str(np.round(precision_score(y_test,optimized_knn_pred)*100,2)) + '%')\n",
    "print(\"Recall score of K Neighbors Classifier:\",str(np.round(recall_score(y_test,optimized_knn_pred)*100,2)) + '%')\n",
    "print('-------------------------------------------------------------')\n",
    "print(\"Accuracy score of Multinomial Naive Bayes:\",str(np.round(accuracy_score(y_test,mnb_pred)*100,2)) + '%')\n",
    "print(\"Precision score of Multinomial Naive Bayes:\",str(np.round(precision_score(y_test,mnb_pred)*100,2)) + '%')\n",
    "print(\"Recall score of Multinomial Naive Bayes:\",str(np.round(recall_score(y_test,mnb_pred)*100,2)) + '%')\n",
    "print('-------------------------------------------------------------')\n",
    "print(\"Accuracy score of Decision Tree Classifier:\",str(np.round(accuracy_score(y_test,dtree_pred)*100,2)) + '%')\n",
    "print(\"Precision score of Decision Tree Classifier:\",str(np.round(precision_score(y_test,dtree_pred)*100,2)) + '%')\n",
    "print(\"Recall score of Decision Tree Classifier:\",str(np.round(recall_score(y_test,dtree_pred)*100,2)) + '%')\n",
    "print('-------------------------------------------------------------')\n",
    "print(\"Accuracy score of Random Forests Classifier:\",str(np.round(accuracy_score(y_test,optimized_rfc_pred)*100,2)) + '%')\n",
    "print(\"Precision score of Random Forests Classifier:\",str(np.round(precision_score(y_test,optimized_rfc_pred)*100,2)) + '%')\n",
    "print(\"Recall score of Random Forests Classifier:\",str(np.round(recall_score(y_test,optimized_rfc_pred)*100,2)) + '%')\n",
    "print('-------------------------------------------------------------')\n",
    "print(\"Accuracy score of XG Boost Classifier:\",str(np.round(accuracy_score(y_test,xgb_pred)*100,2)) + '%')\n",
    "print(\"Precision score of XG Boost Classifier:\",str(np.round(precision_score(y_test,xgb_pred)*100,2)) + '%')\n",
    "print(\"Recall score of XG Boost Classifier:\",str(np.round(recall_score(y_test,xgb_pred)*100,2)) + '%')\n",
    "print('-------------------------------------------------------------')"
   ]
  },
  {
   "cell_type": "markdown",
   "id": "48ed0147",
   "metadata": {},
   "source": [
    "### Support Vector Classifier has the best predictive performance among all the used models, possessing an accuracy score of more than 93%, closely followed by Random Forests Classifier which has an accuracy of just over 90%. Logistic regression has the worst predictive performance, having an accuracy score of a little more than 50%."
   ]
  }
 ],
 "metadata": {
  "kernelspec": {
   "display_name": "Python 3 (ipykernel)",
   "language": "python",
   "name": "python3"
  },
  "language_info": {
   "codemirror_mode": {
    "name": "ipython",
    "version": 3
   },
   "file_extension": ".py",
   "mimetype": "text/x-python",
   "name": "python",
   "nbconvert_exporter": "python",
   "pygments_lexer": "ipython3",
   "version": "3.8.8"
  }
 },
 "nbformat": 4,
 "nbformat_minor": 5
}
